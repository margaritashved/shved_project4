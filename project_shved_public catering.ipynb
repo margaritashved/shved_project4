{
 "cells": [
  {
   "cell_type": "markdown",
   "metadata": {
    "toc": true
   },
   "source": [
    "<h1>Оглавление<span class=\"tocSkip\"></span></h1>\n",
    "<div class=\"toc\"><ul class=\"toc-item\"><li><span><a href=\"#Загрузка-и-подготовка-данных-к-анализу\" data-toc-modified-id=\"Загрузка-и-подготовка-данных-к-анализу-1\"><span class=\"toc-item-num\">1&nbsp;&nbsp;</span>Загрузка и подготовка данных к анализу</a></span></li><li><span><a href=\"#Анализ-данных\" data-toc-modified-id=\"Анализ-данных-2\"><span class=\"toc-item-num\">2&nbsp;&nbsp;</span>Анализ данных</a></span><ul class=\"toc-item\"><li><span><a href=\"#Соотношение-видов-объектов-общественного-питания-по-количеству\" data-toc-modified-id=\"Соотношение-видов-объектов-общественного-питания-по-количеству-2.1\"><span class=\"toc-item-num\">2.1&nbsp;&nbsp;</span>Соотношение видов объектов общественного питания по количеству</a></span></li><li><span><a href=\"#Соотношение-сетевых-и-несетевых-заведений-по-количеству\" data-toc-modified-id=\"Соотношение-сетевых-и-несетевых-заведений-по-количеству-2.2\"><span class=\"toc-item-num\">2.2&nbsp;&nbsp;</span>Соотношение сетевых и несетевых заведений по количеству</a></span></li><li><span><a href=\"#Для-какого-вида-объекта-общественного-питания-характерно-сетевое-распространение\" data-toc-modified-id=\"Для-какого-вида-объекта-общественного-питания-характерно-сетевое-распространение-2.3\"><span class=\"toc-item-num\">2.3&nbsp;&nbsp;</span>Для какого вида объекта общественного питания характерно сетевое распространение</a></span></li><li><span><a href=\"#Что-характерно-для-сетевых-заведений:-много-заведений-с-небольшим-числом-посадочных-мест-в-каждом-или-мало-заведений-с-большим-количеством-посадочных-мест\" data-toc-modified-id=\"Что-характерно-для-сетевых-заведений:-много-заведений-с-небольшим-числом-посадочных-мест-в-каждом-или-мало-заведений-с-большим-количеством-посадочных-мест-2.4\"><span class=\"toc-item-num\">2.4&nbsp;&nbsp;</span>Что характерно для сетевых заведений: много заведений с небольшим числом посадочных мест в каждом или мало заведений с большим количеством посадочных мест</a></span></li><li><span><a href=\"#Для-каждого-вида-объекта-общественного-питания-опишите-среднее-количество-посадочных-мест.-Какой-вид-предоставляет-в-среднем-самое-большое-количество-посадочных-мест\" data-toc-modified-id=\"Для-каждого-вида-объекта-общественного-питания-опишите-среднее-количество-посадочных-мест.-Какой-вид-предоставляет-в-среднем-самое-большое-количество-посадочных-мест-2.5\"><span class=\"toc-item-num\">2.5&nbsp;&nbsp;</span>Для каждого вида объекта общественного питания опишите среднее количество посадочных мест. Какой вид предоставляет в среднем самое большое количество посадочных мест</a></span></li><li><span><a href=\"#Выделение-в-отдельный-столбец-информации-об-улице-из-столбца-address\" data-toc-modified-id=\"Выделение-в-отдельный-столбец-информации-об-улице-из-столбца-address-2.6\"><span class=\"toc-item-num\">2.6&nbsp;&nbsp;</span>Выделение в отдельный столбец информации об улице из столбца address</a></span></li><li><span><a href=\"#Топ-10-улиц-по-количеству-объектов-общественного-питания,-в-каких-районах-Москвы-находятся-эти-улицы\" data-toc-modified-id=\"Топ-10-улиц-по-количеству-объектов-общественного-питания,-в-каких-районах-Москвы-находятся-эти-улицы-2.7\"><span class=\"toc-item-num\">2.7&nbsp;&nbsp;</span>Топ-10 улиц по количеству объектов общественного питания, в каких районах Москвы находятся эти улицы</a></span></li><li><span><a href=\"#Число-улиц-с-одним-объектом-общественного-питания,-в-каких-районах-Москвы-находятся-эти-улицы\" data-toc-modified-id=\"Число-улиц-с-одним-объектом-общественного-питания,-в-каких-районах-Москвы-находятся-эти-улицы-2.8\"><span class=\"toc-item-num\">2.8&nbsp;&nbsp;</span>Число улиц с одним объектом общественного питания, в каких районах Москвы находятся эти улицы</a></span></li><li><span><a href=\"#Распределение-количества-посадочных-мест-для-улиц-с-большим-количеством-объектов-общественного-питания.-Закономерности.\" data-toc-modified-id=\"Распределение-количества-посадочных-мест-для-улиц-с-большим-количеством-объектов-общественного-питания.-Закономерности.-2.9\"><span class=\"toc-item-num\">2.9&nbsp;&nbsp;</span>Распределение количества посадочных мест для улиц с большим количеством объектов общественного питания. Закономерности.</a></span></li></ul></li><li><span><a href=\"#Общие-выводы\" data-toc-modified-id=\"Общие-выводы-3\"><span class=\"toc-item-num\">3&nbsp;&nbsp;</span>Общие выводы</a></span></li></ul></div>"
   ]
  },
  {
   "cell_type": "markdown",
   "metadata": {},
   "source": [
    "# Рынок заведений общественного питания Москвы"
   ]
  },
  {
   "cell_type": "markdown",
   "metadata": {},
   "source": [
    "Исследование рынка г. Москва в рамках подготовки к открытию оригинального кафе - гостей будут обслуживать роботы.\n",
    "\n",
    "Анализ подготовлен на основе открытых данных.\n",
    "\n"
   ]
  },
  {
   "cell_type": "markdown",
   "metadata": {},
   "source": [
    "## Загрузка и подготовка данных к анализу"
   ]
  },
  {
   "cell_type": "code",
   "execution_count": 1,
   "metadata": {},
   "outputs": [],
   "source": [
    "import pandas as pd\n",
    "import matplotlib.pyplot as plt\n",
    "from io import BytesIO\n",
    "import requests\n",
    "\n",
    "import seaborn as sns\n",
    "import requests\n",
    "import plotly.express as px\n",
    "import scipy.stats as stats\n",
    "from scipy import stats as st\n",
    "from pandas.io.json import json_normalize\n",
    "from pprint import pprint\n",
    "import json\n",
    "from plotly import graph_objects as go\n",
    "\n",
    "import math\n",
    "import numpy as np\n",
    "pd.options.display.float_format = '{:,.2f}'.format"
   ]
  },
  {
   "cell_type": "markdown",
   "metadata": {},
   "source": [
    "Описание данных:\n",
    "* id — идентификатор объекта;\n",
    "* object_name — название объекта общественного питания;\n",
    "* chain — сетевой ресторан;\n",
    "* object_type — тип объекта общественного питания;\n",
    "* address — адрес;\n",
    "* number — количество посадочных мест."
   ]
  },
  {
   "cell_type": "code",
   "execution_count": 2,
   "metadata": {},
   "outputs": [],
   "source": [
    "df= pd.read_csv('/datasets/rest_data.csv')"
   ]
  },
  {
   "cell_type": "code",
   "execution_count": 3,
   "metadata": {},
   "outputs": [
    {
     "data": {
      "text/html": [
       "<div>\n",
       "<style scoped>\n",
       "    .dataframe tbody tr th:only-of-type {\n",
       "        vertical-align: middle;\n",
       "    }\n",
       "\n",
       "    .dataframe tbody tr th {\n",
       "        vertical-align: top;\n",
       "    }\n",
       "\n",
       "    .dataframe thead th {\n",
       "        text-align: right;\n",
       "    }\n",
       "</style>\n",
       "<table border=\"1\" class=\"dataframe\">\n",
       "  <thead>\n",
       "    <tr style=\"text-align: right;\">\n",
       "      <th></th>\n",
       "      <th>id</th>\n",
       "      <th>object_name</th>\n",
       "      <th>chain</th>\n",
       "      <th>object_type</th>\n",
       "      <th>address</th>\n",
       "      <th>number</th>\n",
       "    </tr>\n",
       "  </thead>\n",
       "  <tbody>\n",
       "    <tr>\n",
       "      <td>0</td>\n",
       "      <td>151635</td>\n",
       "      <td>СМЕТАНА</td>\n",
       "      <td>нет</td>\n",
       "      <td>кафе</td>\n",
       "      <td>город Москва, улица Егора Абакумова, дом 9</td>\n",
       "      <td>48</td>\n",
       "    </tr>\n",
       "    <tr>\n",
       "      <td>1</td>\n",
       "      <td>77874</td>\n",
       "      <td>Родник</td>\n",
       "      <td>нет</td>\n",
       "      <td>кафе</td>\n",
       "      <td>город Москва, улица Талалихина, дом 2/1, корпус 1</td>\n",
       "      <td>35</td>\n",
       "    </tr>\n",
       "    <tr>\n",
       "      <td>2</td>\n",
       "      <td>24309</td>\n",
       "      <td>Кафе «Академия»</td>\n",
       "      <td>нет</td>\n",
       "      <td>кафе</td>\n",
       "      <td>город Москва, Абельмановская улица, дом 6</td>\n",
       "      <td>95</td>\n",
       "    </tr>\n",
       "    <tr>\n",
       "      <td>3</td>\n",
       "      <td>21894</td>\n",
       "      <td>ПИЦЦЕТОРИЯ</td>\n",
       "      <td>да</td>\n",
       "      <td>кафе</td>\n",
       "      <td>город Москва, Абрамцевская улица, дом 1</td>\n",
       "      <td>40</td>\n",
       "    </tr>\n",
       "    <tr>\n",
       "      <td>4</td>\n",
       "      <td>119365</td>\n",
       "      <td>Кафе «Вишневая метель»</td>\n",
       "      <td>нет</td>\n",
       "      <td>кафе</td>\n",
       "      <td>город Москва, Абрамцевская улица, дом 9, корпус 1</td>\n",
       "      <td>50</td>\n",
       "    </tr>\n",
       "  </tbody>\n",
       "</table>\n",
       "</div>"
      ],
      "text/plain": [
       "       id             object_name chain object_type  \\\n",
       "0  151635                 СМЕТАНА   нет        кафе   \n",
       "1   77874                  Родник   нет        кафе   \n",
       "2   24309         Кафе «Академия»   нет        кафе   \n",
       "3   21894              ПИЦЦЕТОРИЯ    да        кафе   \n",
       "4  119365  Кафе «Вишневая метель»   нет        кафе   \n",
       "\n",
       "                                             address  number  \n",
       "0         город Москва, улица Егора Абакумова, дом 9      48  \n",
       "1  город Москва, улица Талалихина, дом 2/1, корпус 1      35  \n",
       "2          город Москва, Абельмановская улица, дом 6      95  \n",
       "3            город Москва, Абрамцевская улица, дом 1      40  \n",
       "4  город Москва, Абрамцевская улица, дом 9, корпус 1      50  "
      ]
     },
     "execution_count": 3,
     "metadata": {},
     "output_type": "execute_result"
    }
   ],
   "source": [
    "df.head()"
   ]
  },
  {
   "cell_type": "code",
   "execution_count": 4,
   "metadata": {},
   "outputs": [
    {
     "name": "stdout",
     "output_type": "stream",
     "text": [
      "<class 'pandas.core.frame.DataFrame'>\n",
      "RangeIndex: 15366 entries, 0 to 15365\n",
      "Data columns (total 6 columns):\n",
      "id             15366 non-null int64\n",
      "object_name    15366 non-null object\n",
      "chain          15366 non-null object\n",
      "object_type    15366 non-null object\n",
      "address        15366 non-null object\n",
      "number         15366 non-null int64\n",
      "dtypes: int64(2), object(4)\n",
      "memory usage: 720.4+ KB\n"
     ]
    }
   ],
   "source": [
    "df.info()"
   ]
  },
  {
   "cell_type": "markdown",
   "metadata": {},
   "source": [
    "Кажется, что с данными все в порядке, но необходимо проверить отсутствуют ли пропущенные значения и дубликаты."
   ]
  },
  {
   "cell_type": "code",
   "execution_count": 5,
   "metadata": {},
   "outputs": [
    {
     "name": "stdout",
     "output_type": "stream",
     "text": [
      "Количество дубликатов: 0\n"
     ]
    }
   ],
   "source": [
    "#Проверка на наличие дубликатов\n",
    "print('Количество дубликатов:', df.duplicated().sum())"
   ]
  },
  {
   "cell_type": "code",
   "execution_count": 6,
   "metadata": {},
   "outputs": [],
   "source": [
    "#Переименую столбец\n",
    "df = df.rename(columns={'number':'number_of_seats'})"
   ]
  },
  {
   "cell_type": "code",
   "execution_count": 7,
   "metadata": {},
   "outputs": [],
   "source": [
    "#Удаление дубликатов из всех столбцов\n",
    "df.drop_duplicates(subset = ['id','object_name', 'chain','object_type','address','number_of_seats'], inplace = True)"
   ]
  },
  {
   "cell_type": "code",
   "execution_count": 8,
   "metadata": {},
   "outputs": [
    {
     "name": "stdout",
     "output_type": "stream",
     "text": [
      "<class 'pandas.core.frame.DataFrame'>\n",
      "Int64Index: 15366 entries, 0 to 15365\n",
      "Data columns (total 6 columns):\n",
      "id                 15366 non-null int64\n",
      "object_name        15366 non-null object\n",
      "chain              15366 non-null object\n",
      "object_type        15366 non-null object\n",
      "address            15366 non-null object\n",
      "number_of_seats    15366 non-null int64\n",
      "dtypes: int64(2), object(4)\n",
      "memory usage: 840.3+ KB\n"
     ]
    }
   ],
   "source": [
    "df.info()"
   ]
  },
  {
   "cell_type": "code",
   "execution_count": 9,
   "metadata": {},
   "outputs": [
    {
     "data": {
      "text/plain": [
       "id                 0\n",
       "object_name        0\n",
       "chain              0\n",
       "object_type        0\n",
       "address            0\n",
       "number_of_seats    0\n",
       "dtype: int64"
      ]
     },
     "execution_count": 9,
     "metadata": {},
     "output_type": "execute_result"
    }
   ],
   "source": [
    "#Проверка пропущенных значений\n",
    "df.isna().sum()"
   ]
  },
  {
   "cell_type": "markdown",
   "metadata": {},
   "source": [
    "С данными можно работать дальше."
   ]
  },
  {
   "cell_type": "code",
   "execution_count": 10,
   "metadata": {},
   "outputs": [
    {
     "data": {
      "text/html": [
       "<div>\n",
       "<style scoped>\n",
       "    .dataframe tbody tr th:only-of-type {\n",
       "        vertical-align: middle;\n",
       "    }\n",
       "\n",
       "    .dataframe tbody tr th {\n",
       "        vertical-align: top;\n",
       "    }\n",
       "\n",
       "    .dataframe thead th {\n",
       "        text-align: right;\n",
       "    }\n",
       "</style>\n",
       "<table border=\"1\" class=\"dataframe\">\n",
       "  <thead>\n",
       "    <tr style=\"text-align: right;\">\n",
       "      <th></th>\n",
       "      <th>id</th>\n",
       "      <th>number_of_seats</th>\n",
       "    </tr>\n",
       "  </thead>\n",
       "  <tbody>\n",
       "    <tr>\n",
       "      <td>count</td>\n",
       "      <td>15,366.00</td>\n",
       "      <td>15,366.00</td>\n",
       "    </tr>\n",
       "    <tr>\n",
       "      <td>mean</td>\n",
       "      <td>119,720.07</td>\n",
       "      <td>59.55</td>\n",
       "    </tr>\n",
       "    <tr>\n",
       "      <td>std</td>\n",
       "      <td>73,036.13</td>\n",
       "      <td>74.74</td>\n",
       "    </tr>\n",
       "    <tr>\n",
       "      <td>min</td>\n",
       "      <td>838.00</td>\n",
       "      <td>0.00</td>\n",
       "    </tr>\n",
       "    <tr>\n",
       "      <td>25%</td>\n",
       "      <td>28,524.00</td>\n",
       "      <td>12.00</td>\n",
       "    </tr>\n",
       "    <tr>\n",
       "      <td>50%</td>\n",
       "      <td>144,974.50</td>\n",
       "      <td>40.00</td>\n",
       "    </tr>\n",
       "    <tr>\n",
       "      <td>75%</td>\n",
       "      <td>184,262.25</td>\n",
       "      <td>80.00</td>\n",
       "    </tr>\n",
       "    <tr>\n",
       "      <td>max</td>\n",
       "      <td>223,439.00</td>\n",
       "      <td>1,700.00</td>\n",
       "    </tr>\n",
       "  </tbody>\n",
       "</table>\n",
       "</div>"
      ],
      "text/plain": [
       "              id  number_of_seats\n",
       "count  15,366.00        15,366.00\n",
       "mean  119,720.07            59.55\n",
       "std    73,036.13            74.74\n",
       "min       838.00             0.00\n",
       "25%    28,524.00            12.00\n",
       "50%   144,974.50            40.00\n",
       "75%   184,262.25            80.00\n",
       "max   223,439.00         1,700.00"
      ]
     },
     "execution_count": 10,
     "metadata": {},
     "output_type": "execute_result"
    }
   ],
   "source": [
    "df.describe()"
   ]
  },
  {
   "cell_type": "markdown",
   "metadata": {},
   "source": [
    "Есть заведения с 0 посадочных мест, максимальное количество - 80. Проверю, что это может быть."
   ]
  },
  {
   "cell_type": "code",
   "execution_count": 11,
   "metadata": {},
   "outputs": [
    {
     "data": {
      "text/plain": [
       "array(['закусочная', 'предприятие быстрого обслуживания', 'столовая',\n",
       "       'кафетерий', 'кафе', 'магазин (отдел кулинарии)', 'буфет', 'бар',\n",
       "       'ресторан'], dtype=object)"
      ]
     },
     "execution_count": 11,
     "metadata": {},
     "output_type": "execute_result"
    }
   ],
   "source": [
    "#Выбираю из df заведения в которых количество посадочных мест = 0\n",
    "number_0=df.loc[df['number_of_seats'] == 0]\n",
    "#Список заведений\n",
    "number_0['object_type'].unique()"
   ]
  },
  {
   "cell_type": "code",
   "execution_count": 12,
   "metadata": {},
   "outputs": [
    {
     "name": "stdout",
     "output_type": "stream",
     "text": [
      "object_type\n",
      "бар                                   28\n",
      "буфет                                 68\n",
      "закусочная                           189\n",
      "кафе                                 310\n",
      "кафетерий                            113\n",
      "магазин (отдел кулинарии)            145\n",
      "предприятие быстрого обслуживания    704\n",
      "ресторан                              45\n",
      "столовая                              19\n",
      "Name: object_type, dtype: int64\n"
     ]
    }
   ],
   "source": [
    "print(number_0.groupby('object_type')['object_type'].count())"
   ]
  },
  {
   "cell_type": "markdown",
   "metadata": {},
   "source": [
    "Закусочная, фаст-фуд, магазин(отдел кулинария),бар понятно, что может быть без посадочных мест, но вот столовая, кафетерий, кафе,ресторан это странно. В целом таких заведений немного, учитыая общий объем данных, поэтому оставлю как есть."
   ]
  },
  {
   "cell_type": "code",
   "execution_count": 13,
   "metadata": {},
   "outputs": [
    {
     "name": "stdout",
     "output_type": "stream",
     "text": [
      "['кафе' 'столовая' 'закусочная' 'предприятие быстрого обслуживания'\n",
      " 'ресторан' 'кафетерий' 'буфет' 'бар' 'магазин (отдел кулинарии)']\n"
     ]
    }
   ],
   "source": [
    "#Смотрю какие уникальные наименования встречаются в столбце тип объекта общественного питания\n",
    "list = df['object_type'].unique()\n",
    "print(list)"
   ]
  },
  {
   "cell_type": "markdown",
   "metadata": {},
   "source": [
    "Для удобства работы с данными можно переименовать \"предприятие быстрого обсулживания\" на \"фаст-фуд\"."
   ]
  },
  {
   "cell_type": "code",
   "execution_count": 14,
   "metadata": {},
   "outputs": [
    {
     "name": "stdout",
     "output_type": "stream",
     "text": [
      "['нет' 'да']\n"
     ]
    }
   ],
   "source": [
    "#Смотрю какие уникальные наименования встречаются в столбце сетевой ресторан\n",
    "list_2 = df['chain'].unique()\n",
    "print(list_2)"
   ]
  },
  {
   "cell_type": "markdown",
   "metadata": {},
   "source": [
    "Для удобства работы с данными можно переименовать значения в столбце chain, \"нет\" = \"несетевое\", \"да\" = сетевое."
   ]
  },
  {
   "cell_type": "code",
   "execution_count": 15,
   "metadata": {},
   "outputs": [],
   "source": [
    "df['chain'] = df['chain'].map({'нет':'несетевое','да':'сетевое'})\n",
    "df['object_type'] = df['object_type'].str.replace('предприятие быстрого обслуживания', 'фаст-фуд')\n",
    "df['object_type'] = df['object_type'].str.replace('магазин \\(отдел кулинарии\\)', 'кулинария')\n",
    "#Заменяю букву Ё в адресах заведений на Е для удобства поиска, если это понадобится\n",
    "df['address'] = df['address'].str.replace('ё','е')"
   ]
  },
  {
   "cell_type": "markdown",
   "metadata": {},
   "source": [
    "Учитывая, что данные собирались вручную, я проверила начилие пропусков и дубликатов, во всех 15 366 дубликатов и пропусков не было найдено. Для удобства работы был переименован столбец с количеством посадочных мест,название нескольких типов объектов обещственного питания,предобработка данных в столбце адрес и типу распространения. Данные чистые и подготовлены для анализа."
   ]
  },
  {
   "cell_type": "markdown",
   "metadata": {},
   "source": [
    "## Анализ данных"
   ]
  },
  {
   "cell_type": "markdown",
   "metadata": {},
   "source": [
    "### Соотношение видов объектов общественного питания по количеству"
   ]
  },
  {
   "cell_type": "code",
   "execution_count": 16,
   "metadata": {},
   "outputs": [
    {
     "name": "stdout",
     "output_type": "stream",
     "text": [
      "object_type\n",
      "кулинария      273\n",
      "закусочная     360\n",
      "кафетерий      398\n",
      "буфет          585\n",
      "бар            856\n",
      "фаст-фуд      1923\n",
      "ресторан      2285\n",
      "столовая      2587\n",
      "кафе          6099\n",
      "Name: object_type, dtype: int64\n"
     ]
    }
   ],
   "source": [
    "#таблица для посмотрения графика\n",
    "temp = df.groupby('object_type')['object_type'].count().sort_values()\n",
    "print(temp)"
   ]
  },
  {
   "cell_type": "code",
   "execution_count": 17,
   "metadata": {},
   "outputs": [],
   "source": [
    "#Группирую df \n",
    "table=df.groupby('object_type').agg({'id' : 'count'}).sort_values(by='id',ascending=False).reset_index()\n",
    "#Добавляю столбец с долей типа общественного заведениия относительно всего количества\n",
    "table['%']=((table['id']/table['id'].sum())*100).round(1)"
   ]
  },
  {
   "cell_type": "code",
   "execution_count": 18,
   "metadata": {},
   "outputs": [
    {
     "name": "stdout",
     "output_type": "stream",
     "text": [
      "Соотношение видов объектов общественного питания по количеству и доля (%)  от общего количества\n",
      "\n"
     ]
    },
    {
     "data": {
      "text/html": [
       "<div>\n",
       "<style scoped>\n",
       "    .dataframe tbody tr th:only-of-type {\n",
       "        vertical-align: middle;\n",
       "    }\n",
       "\n",
       "    .dataframe tbody tr th {\n",
       "        vertical-align: top;\n",
       "    }\n",
       "\n",
       "    .dataframe thead th {\n",
       "        text-align: right;\n",
       "    }\n",
       "</style>\n",
       "<table border=\"1\" class=\"dataframe\">\n",
       "  <thead>\n",
       "    <tr style=\"text-align: right;\">\n",
       "      <th></th>\n",
       "      <th>object_type</th>\n",
       "      <th>id</th>\n",
       "      <th>%</th>\n",
       "    </tr>\n",
       "  </thead>\n",
       "  <tbody>\n",
       "    <tr>\n",
       "      <td>0</td>\n",
       "      <td>кафе</td>\n",
       "      <td>6099</td>\n",
       "      <td>39.70</td>\n",
       "    </tr>\n",
       "    <tr>\n",
       "      <td>1</td>\n",
       "      <td>столовая</td>\n",
       "      <td>2587</td>\n",
       "      <td>16.80</td>\n",
       "    </tr>\n",
       "    <tr>\n",
       "      <td>2</td>\n",
       "      <td>ресторан</td>\n",
       "      <td>2285</td>\n",
       "      <td>14.90</td>\n",
       "    </tr>\n",
       "    <tr>\n",
       "      <td>3</td>\n",
       "      <td>фаст-фуд</td>\n",
       "      <td>1923</td>\n",
       "      <td>12.50</td>\n",
       "    </tr>\n",
       "    <tr>\n",
       "      <td>4</td>\n",
       "      <td>бар</td>\n",
       "      <td>856</td>\n",
       "      <td>5.60</td>\n",
       "    </tr>\n",
       "    <tr>\n",
       "      <td>5</td>\n",
       "      <td>буфет</td>\n",
       "      <td>585</td>\n",
       "      <td>3.80</td>\n",
       "    </tr>\n",
       "    <tr>\n",
       "      <td>6</td>\n",
       "      <td>кафетерий</td>\n",
       "      <td>398</td>\n",
       "      <td>2.60</td>\n",
       "    </tr>\n",
       "    <tr>\n",
       "      <td>7</td>\n",
       "      <td>закусочная</td>\n",
       "      <td>360</td>\n",
       "      <td>2.30</td>\n",
       "    </tr>\n",
       "    <tr>\n",
       "      <td>8</td>\n",
       "      <td>кулинария</td>\n",
       "      <td>273</td>\n",
       "      <td>1.80</td>\n",
       "    </tr>\n",
       "  </tbody>\n",
       "</table>\n",
       "</div>"
      ],
      "text/plain": [
       "  object_type    id     %\n",
       "0        кафе  6099 39.70\n",
       "1    столовая  2587 16.80\n",
       "2    ресторан  2285 14.90\n",
       "3    фаст-фуд  1923 12.50\n",
       "4         бар   856  5.60\n",
       "5       буфет   585  3.80\n",
       "6   кафетерий   398  2.60\n",
       "7  закусочная   360  2.30\n",
       "8   кулинария   273  1.80"
      ]
     },
     "execution_count": 18,
     "metadata": {},
     "output_type": "execute_result"
    }
   ],
   "source": [
    "print('Соотношение видов объектов общественного питания по количеству и доля (%)  от общего количества'\n",
    "     '\\n')\n",
    "table"
   ]
  },
  {
   "cell_type": "markdown",
   "metadata": {},
   "source": [
    "Кафе составляет 40%, столовые 17%, рестораны 15% и фаст-фуд 13%, наименьший процент закусочные и кулинарии (по 2%)."
   ]
  },
  {
   "cell_type": "code",
   "execution_count": 19,
   "metadata": {},
   "outputs": [
    {
     "data": {
      "image/png": "[encoded data removed]",
      "text/plain": [
       "<Figure size 1080x1080 with 1 Axes>"
      ]
     },
     "metadata": {},
     "output_type": "display_data"
    }
   ],
   "source": [
    "#Круговая диаграмма\n",
    "plt.figure(figsize=(15,15))\n",
    "ax1 = plt.subplot()\n",
    "ax1=table.plot(kind='pie', ax=ax1, autopct='%0.0f%%', y = '%', \n",
    " startangle=0, shadow=False, labels=table['object_type'], fontsize=18,colormap=\"Pastel1\")\n",
    "ax1.set_title('Объекты общественного питания от общего количества').set_size(17)\n",
    "plt.show()"
   ]
  },
  {
   "cell_type": "code",
   "execution_count": 20,
   "metadata": {},
   "outputs": [
    {
     "data": {
      "image/png": "[encoded data removed]",
      "text/plain": [
       "<Figure size 1080x720 with 1 Axes>"
      ]
     },
     "metadata": {
      "needs_background": "light"
     },
     "output_type": "display_data"
    }
   ],
   "source": [
    "ax=temp.plot(kind='bar',figsize = (15, 10))\n",
    "ax.set_xlabel('Тип объекта').set_size(15)\n",
    "ax.set_ylabel('Количество').set_size(15)\n",
    "ax.set_title('Количество объектов общественного питания').set_size(17)\n",
    "plt.xticks(rotation=45, size = 15)\n",
    "plt.show()"
   ]
  },
  {
   "cell_type": "markdown",
   "metadata": {},
   "source": [
    "По графику видно, что кафе более чем в 2 раза больше, чем столовых, ресторанов и фаст-фудов. Из около 15 000 заведений на кафе приходится около 6 000, наименьшее количество кулинарий (273)."
   ]
  },
  {
   "cell_type": "markdown",
   "metadata": {},
   "source": [
    "### Соотношение сетевых и несетевых заведений по количеству"
   ]
  },
  {
   "cell_type": "code",
   "execution_count": 21,
   "metadata": {},
   "outputs": [],
   "source": [
    "table_2=df.groupby('chain').agg({'id' : 'count'}).sort_values(by='id',ascending=False).reset_index()\n",
    "#Добавляю столбец с долей(%)\n",
    "table_2['%']=((table_2['id']/table_2['id'].sum())*100).round()"
   ]
  },
  {
   "cell_type": "code",
   "execution_count": 22,
   "metadata": {},
   "outputs": [
    {
     "name": "stdout",
     "output_type": "stream",
     "text": [
      "Соотношение сетевых и несетевых заведений по количеству и доля(%) от общего количества\n"
     ]
    },
    {
     "data": {
      "text/html": [
       "<div>\n",
       "<style scoped>\n",
       "    .dataframe tbody tr th:only-of-type {\n",
       "        vertical-align: middle;\n",
       "    }\n",
       "\n",
       "    .dataframe tbody tr th {\n",
       "        vertical-align: top;\n",
       "    }\n",
       "\n",
       "    .dataframe thead th {\n",
       "        text-align: right;\n",
       "    }\n",
       "</style>\n",
       "<table border=\"1\" class=\"dataframe\">\n",
       "  <thead>\n",
       "    <tr style=\"text-align: right;\">\n",
       "      <th></th>\n",
       "      <th>chain</th>\n",
       "      <th>id</th>\n",
       "      <th>%</th>\n",
       "    </tr>\n",
       "  </thead>\n",
       "  <tbody>\n",
       "    <tr>\n",
       "      <td>0</td>\n",
       "      <td>несетевое</td>\n",
       "      <td>12398</td>\n",
       "      <td>81.00</td>\n",
       "    </tr>\n",
       "    <tr>\n",
       "      <td>1</td>\n",
       "      <td>сетевое</td>\n",
       "      <td>2968</td>\n",
       "      <td>19.00</td>\n",
       "    </tr>\n",
       "  </tbody>\n",
       "</table>\n",
       "</div>"
      ],
      "text/plain": [
       "       chain     id     %\n",
       "0  несетевое  12398 81.00\n",
       "1    сетевое   2968 19.00"
      ]
     },
     "execution_count": 22,
     "metadata": {},
     "output_type": "execute_result"
    }
   ],
   "source": [
    "print('Соотношение сетевых и несетевых заведений по количеству и доля(%) от общего количества')\n",
    "table_2"
   ]
  },
  {
   "cell_type": "markdown",
   "metadata": {},
   "source": [
    "Несетевые заведения состовляют 81% от общего количества объектов общественного питания,а сетевые всего 19%."
   ]
  },
  {
   "cell_type": "code",
   "execution_count": 23,
   "metadata": {},
   "outputs": [
    {
     "name": "stdout",
     "output_type": "stream",
     "text": [
      "chain\n",
      "сетевое       2968\n",
      "несетевое    12398\n",
      "Name: chain, dtype: int64\n"
     ]
    }
   ],
   "source": [
    "temp_2 = df.groupby('chain')['chain'].count().sort_values()\n",
    "print(temp_2)"
   ]
  },
  {
   "cell_type": "code",
   "execution_count": 24,
   "metadata": {},
   "outputs": [
    {
     "data": {
      "image/png": "[encoded data removed]",
      "text/plain": [
       "<Figure size 936x576 with 1 Axes>"
      ]
     },
     "metadata": {
      "needs_background": "light"
     },
     "output_type": "display_data"
    }
   ],
   "source": [
    "ax=temp_2.plot(kind='bar',figsize = (13, 8))\n",
    "ax.set_xlabel('Тип объекта').set_size(12)\n",
    "ax.set_ylabel('Количество').set_size(15)\n",
    "ax.set_title('Количество сетевых/несетевых объектов общественного питания').set_size(17)\n",
    "plt.xticks(rotation=0, size = 15)\n",
    "plt.show()"
   ]
  },
  {
   "cell_type": "markdown",
   "metadata": {},
   "source": [
    "Несетевых заведений около 12 300,а сетевых около 3 000. Далее посмотрю для какого типа заведений характерно сетевое распространение."
   ]
  },
  {
   "cell_type": "markdown",
   "metadata": {},
   "source": [
    "### Для какого вида объекта общественного питания характерно сетевое распространение"
   ]
  },
  {
   "cell_type": "code",
   "execution_count": 25,
   "metadata": {},
   "outputs": [],
   "source": [
    "temp_set=df.loc[df['chain'] == 'сетевое']"
   ]
  },
  {
   "cell_type": "code",
   "execution_count": 26,
   "metadata": {},
   "outputs": [],
   "source": [
    "table_set=temp_set.groupby('object_type').agg({'id' : 'count'}).sort_values(by='id',ascending=False).reset_index()\n",
    "#Добавляю столбец с долей типа общественного заведениия относительно всего количества\n",
    "table_set['%']=((table_set['id']/table_set['id'].sum())*100).round()"
   ]
  },
  {
   "cell_type": "code",
   "execution_count": 27,
   "metadata": {},
   "outputs": [
    {
     "name": "stdout",
     "output_type": "stream",
     "text": [
      "Сетевое распространение по видам объектов общественного питания и доля(%) от количества сетевых объектов\n"
     ]
    },
    {
     "data": {
      "text/html": [
       "<div>\n",
       "<style scoped>\n",
       "    .dataframe tbody tr th:only-of-type {\n",
       "        vertical-align: middle;\n",
       "    }\n",
       "\n",
       "    .dataframe tbody tr th {\n",
       "        vertical-align: top;\n",
       "    }\n",
       "\n",
       "    .dataframe thead th {\n",
       "        text-align: right;\n",
       "    }\n",
       "</style>\n",
       "<table border=\"1\" class=\"dataframe\">\n",
       "  <thead>\n",
       "    <tr style=\"text-align: right;\">\n",
       "      <th></th>\n",
       "      <th>object_type</th>\n",
       "      <th>id</th>\n",
       "      <th>%</th>\n",
       "    </tr>\n",
       "  </thead>\n",
       "  <tbody>\n",
       "    <tr>\n",
       "      <td>0</td>\n",
       "      <td>кафе</td>\n",
       "      <td>1396</td>\n",
       "      <td>47.00</td>\n",
       "    </tr>\n",
       "    <tr>\n",
       "      <td>1</td>\n",
       "      <td>фаст-фуд</td>\n",
       "      <td>791</td>\n",
       "      <td>27.00</td>\n",
       "    </tr>\n",
       "    <tr>\n",
       "      <td>2</td>\n",
       "      <td>ресторан</td>\n",
       "      <td>544</td>\n",
       "      <td>18.00</td>\n",
       "    </tr>\n",
       "    <tr>\n",
       "      <td>3</td>\n",
       "      <td>кулинария</td>\n",
       "      <td>78</td>\n",
       "      <td>3.00</td>\n",
       "    </tr>\n",
       "    <tr>\n",
       "      <td>4</td>\n",
       "      <td>закусочная</td>\n",
       "      <td>56</td>\n",
       "      <td>2.00</td>\n",
       "    </tr>\n",
       "    <tr>\n",
       "      <td>5</td>\n",
       "      <td>кафетерий</td>\n",
       "      <td>52</td>\n",
       "      <td>2.00</td>\n",
       "    </tr>\n",
       "    <tr>\n",
       "      <td>6</td>\n",
       "      <td>бар</td>\n",
       "      <td>37</td>\n",
       "      <td>1.00</td>\n",
       "    </tr>\n",
       "    <tr>\n",
       "      <td>7</td>\n",
       "      <td>буфет</td>\n",
       "      <td>11</td>\n",
       "      <td>0.00</td>\n",
       "    </tr>\n",
       "    <tr>\n",
       "      <td>8</td>\n",
       "      <td>столовая</td>\n",
       "      <td>3</td>\n",
       "      <td>0.00</td>\n",
       "    </tr>\n",
       "  </tbody>\n",
       "</table>\n",
       "</div>"
      ],
      "text/plain": [
       "  object_type    id     %\n",
       "0        кафе  1396 47.00\n",
       "1    фаст-фуд   791 27.00\n",
       "2    ресторан   544 18.00\n",
       "3   кулинария    78  3.00\n",
       "4  закусочная    56  2.00\n",
       "5   кафетерий    52  2.00\n",
       "6         бар    37  1.00\n",
       "7       буфет    11  0.00\n",
       "8    столовая     3  0.00"
      ]
     },
     "execution_count": 27,
     "metadata": {},
     "output_type": "execute_result"
    }
   ],
   "source": [
    "print('Сетевое распространение по видам объектов общественного питания и доля(%) от количества сетевых объектов')\n",
    "table_set"
   ]
  },
  {
   "cell_type": "markdown",
   "metadata": {},
   "source": [
    "Доля кафе состовляет почти 50%, затем фаст-фуд (27%) и рестораны (18%)."
   ]
  },
  {
   "cell_type": "code",
   "execution_count": 28,
   "metadata": {},
   "outputs": [],
   "source": [
    "#Таблица с информацией о сетевых/несетевых объектах\n",
    "pivot = df.pivot_table(index='object_type',columns='chain',aggfunc='count',values='id').reset_index()"
   ]
  },
  {
   "cell_type": "code",
   "execution_count": 29,
   "metadata": {},
   "outputs": [],
   "source": [
    "#Переименовываю столбцы для дальнейшего расчета\n",
    "pivot.columns = ['object_type','nesetevoe', 'setevoe']"
   ]
  },
  {
   "cell_type": "markdown",
   "metadata": {},
   "source": [
    "Для того, чтобы найти наибольшую долю сетевых заведений необходимо разделить количество сетевых заведений на общее количество заведений категории."
   ]
  },
  {
   "cell_type": "code",
   "execution_count": 30,
   "metadata": {},
   "outputs": [],
   "source": [
    "#Добавляю столбец с долей сетевых заведений среди количества заведений для каждой категории\n",
    "pivot['%']=((pivot['setevoe']/(pivot['nesetevoe']+pivot['setevoe'])*100).round(0))"
   ]
  },
  {
   "cell_type": "code",
   "execution_count": 31,
   "metadata": {},
   "outputs": [
    {
     "data": {
      "text/html": [
       "<div>\n",
       "<style scoped>\n",
       "    .dataframe tbody tr th:only-of-type {\n",
       "        vertical-align: middle;\n",
       "    }\n",
       "\n",
       "    .dataframe tbody tr th {\n",
       "        vertical-align: top;\n",
       "    }\n",
       "\n",
       "    .dataframe thead th {\n",
       "        text-align: right;\n",
       "    }\n",
       "</style>\n",
       "<table border=\"1\" class=\"dataframe\">\n",
       "  <thead>\n",
       "    <tr style=\"text-align: right;\">\n",
       "      <th></th>\n",
       "      <th>object_type</th>\n",
       "      <th>nesetevoe</th>\n",
       "      <th>setevoe</th>\n",
       "      <th>%</th>\n",
       "    </tr>\n",
       "  </thead>\n",
       "  <tbody>\n",
       "    <tr>\n",
       "      <td>0</td>\n",
       "      <td>бар</td>\n",
       "      <td>819</td>\n",
       "      <td>37</td>\n",
       "      <td>4.00</td>\n",
       "    </tr>\n",
       "    <tr>\n",
       "      <td>1</td>\n",
       "      <td>буфет</td>\n",
       "      <td>574</td>\n",
       "      <td>11</td>\n",
       "      <td>2.00</td>\n",
       "    </tr>\n",
       "    <tr>\n",
       "      <td>2</td>\n",
       "      <td>закусочная</td>\n",
       "      <td>304</td>\n",
       "      <td>56</td>\n",
       "      <td>16.00</td>\n",
       "    </tr>\n",
       "    <tr>\n",
       "      <td>3</td>\n",
       "      <td>кафе</td>\n",
       "      <td>4703</td>\n",
       "      <td>1396</td>\n",
       "      <td>23.00</td>\n",
       "    </tr>\n",
       "    <tr>\n",
       "      <td>4</td>\n",
       "      <td>кафетерий</td>\n",
       "      <td>346</td>\n",
       "      <td>52</td>\n",
       "      <td>13.00</td>\n",
       "    </tr>\n",
       "    <tr>\n",
       "      <td>5</td>\n",
       "      <td>кулинария</td>\n",
       "      <td>195</td>\n",
       "      <td>78</td>\n",
       "      <td>29.00</td>\n",
       "    </tr>\n",
       "    <tr>\n",
       "      <td>6</td>\n",
       "      <td>ресторан</td>\n",
       "      <td>1741</td>\n",
       "      <td>544</td>\n",
       "      <td>24.00</td>\n",
       "    </tr>\n",
       "    <tr>\n",
       "      <td>7</td>\n",
       "      <td>столовая</td>\n",
       "      <td>2584</td>\n",
       "      <td>3</td>\n",
       "      <td>0.00</td>\n",
       "    </tr>\n",
       "    <tr>\n",
       "      <td>8</td>\n",
       "      <td>фаст-фуд</td>\n",
       "      <td>1132</td>\n",
       "      <td>791</td>\n",
       "      <td>41.00</td>\n",
       "    </tr>\n",
       "  </tbody>\n",
       "</table>\n",
       "</div>"
      ],
      "text/plain": [
       "  object_type  nesetevoe  setevoe     %\n",
       "0         бар        819       37  4.00\n",
       "1       буфет        574       11  2.00\n",
       "2  закусочная        304       56 16.00\n",
       "3        кафе       4703     1396 23.00\n",
       "4   кафетерий        346       52 13.00\n",
       "5   кулинария        195       78 29.00\n",
       "6    ресторан       1741      544 24.00\n",
       "7    столовая       2584        3  0.00\n",
       "8    фаст-фуд       1132      791 41.00"
      ]
     },
     "execution_count": 31,
     "metadata": {},
     "output_type": "execute_result"
    }
   ],
   "source": [
    "pivot"
   ]
  },
  {
   "cell_type": "code",
   "execution_count": 32,
   "metadata": {},
   "outputs": [
    {
     "data": {
      "image/png": "[encoded data removed]",
      "text/plain": [
       "<Figure size 432x288 with 1 Axes>"
      ]
     },
     "metadata": {
      "needs_background": "light"
     },
     "output_type": "display_data"
    }
   ],
   "source": [
    "ax = sns.barplot(x='object_type',y='%', data=pivot, palette='Set2')\n",
    "ax.set_xlabel('Тип объекта').set_size(12)\n",
    "ax.set_ylabel('Процент от общего количества (%)').set_size(12)\n",
    "ax.set_title('Доля сетевых заведений от общего количества объектов').set_size(17)\n",
    "plt.xticks(rotation=0, size = 14)\n",
    "plt.yticks(rotation=0, size = 17)\n",
    "plt.show()"
   ]
  },
  {
   "cell_type": "markdown",
   "metadata": {},
   "source": [
    "По типу объектов общественного питания сетевое распространение характерно для фаст-фуда (41%), кулинарий (29%), ресторанов(24%) и кафе(23%). Скорее всего, это связано с доверием клиента к известным брендам. Клиент уже был или ему кто-то рассказал и он подсознательно доверяет заведению,а если понравится, то далее возвращается.\n",
    "    \n",
    "Сетевое распространение не характерно для столовых, скорее всего, потому что столовые чаще находятся в бизнес районе и посетитили заходят на ланчи из ближайших офисов."
   ]
  },
  {
   "cell_type": "code",
   "execution_count": 33,
   "metadata": {},
   "outputs": [
    {
     "data": {
      "image/png": "[encoded data removed]",
      "text/plain": [
       "<Figure size 936x576 with 1 Axes>"
      ]
     },
     "metadata": {
      "needs_background": "light"
     },
     "output_type": "display_data"
    }
   ],
   "source": [
    "ax=pivot.plot(kind='bar',figsize = (13, 8))\n",
    "ax.set_xlabel('Тип объекта').set_size(12)\n",
    "ax.set_ylabel('Количество').set_size(12)\n",
    "ax.set_title('Сетевое и несетевое распространение').set_size(17)\n",
    "plt.xticks(rotation=45, size = 12)\n",
    "plt.show()"
   ]
  },
  {
   "cell_type": "markdown",
   "metadata": {},
   "source": [
    "Сетевое распространение характерно для кафе, фаст-фуда и ресторанов. "
   ]
  },
  {
   "cell_type": "markdown",
   "metadata": {},
   "source": [
    "### Что характерно для сетевых заведений: много заведений с небольшим числом посадочных мест в каждом или мало заведений с большим количеством посадочных мест"
   ]
  },
  {
   "cell_type": "code",
   "execution_count": 34,
   "metadata": {},
   "outputs": [
    {
     "data": {
      "image/png": "[encoded data removed]",
      "text/plain": [
       "<Figure size 1080x720 with 1 Axes>"
      ]
     },
     "metadata": {
      "needs_background": "light"
     },
     "output_type": "display_data"
    }
   ],
   "source": [
    "chain_objects = temp_set.groupby('object_name').agg({'object_name':'count', 'number_of_seats':'median'})\n",
    "chain_objects.columns = ['objects', 'median_number']\n",
    "plt.figure(figsize=(15,10))\n",
    "plt.scatter(chain_objects['median_number'], chain_objects['objects'])\n",
    "plt.xlabel('Медианное количество посадочных мест').set_size(13)\n",
    "plt.ylabel('Количествово объектов в сети').set_size(13)\n",
    "plt.title('Распределение количества сетевых заведений и медианного количества посадочных мест', fontsize=20)\n",
    "plt.axhline(np.percentile(chain_objects['objects'], 95), linestyle='--', color='black')\n",
    "plt.axvline(np.percentile(chain_objects['median_number'], 95), linestyle='--', color='black')\n",
    "plt.text(200,7, '95% заведений ниже этой линии').set_size(15)\n",
    "plt.text(160,100, '95% заведений левее этой линии').set_size(15)\n",
    "plt.yticks(rotation=0, size = 15)\n",
    "plt.xticks(rotation=0, size = 15)\n",
    "plt.show()"
   ]
  },
  {
   "cell_type": "code",
   "execution_count": 35,
   "metadata": {},
   "outputs": [
    {
     "name": "stdout",
     "output_type": "stream",
     "text": [
      "Максимальное количество посадочных мест 356 , при этом в 95% сетей не более 154 посадочных мест и 12 заведений в среднем.\n"
     ]
    }
   ],
   "source": [
    "print('Максимальное количество посадочных мест {} , при этом в 95% сетей не более {} посадочных мест и {} заведений в среднем.'.format((chain_objects['median_number'].max().astype(int)),int(np.percentile(chain_objects['median_number'], 95)) , int(np.percentile(chain_objects['objects'], 95))))"
   ]
  },
  {
   "cell_type": "markdown",
   "metadata": {},
   "source": [
    "Для сетевых заведений характерно относительно мало заведений с большим количеством посадочных мест (154)."
   ]
  },
  {
   "cell_type": "markdown",
   "metadata": {},
   "source": [
    "### Для каждого вида объекта общественного питания опишите среднее количество посадочных мест. Какой вид предоставляет в среднем самое большое количество посадочных мест"
   ]
  },
  {
   "cell_type": "code",
   "execution_count": 36,
   "metadata": {},
   "outputs": [
    {
     "data": {
      "image/png": "[encoded data removed]",
      "text/plain": [
       "<Figure size 432x288 with 1 Axes>"
      ]
     },
     "metadata": {
      "needs_background": "light"
     },
     "output_type": "display_data"
    }
   ],
   "source": [
    "ax = sns.boxplot(x='number_of_seats', y='object_type', data=df, palette=\"Set3\")\n",
    "sns.set(rc={'figure.figsize':(15,15)})\n",
    "ax.set_xlim(-10,300)\n",
    "ax.set_xlabel('Распределение').set_size(12)\n",
    "ax.set_ylabel('ТИп объекта').set_size(12)\n",
    "ax.set_title('Распределение количества посадочных мест').set_size(17)\n",
    "plt.xticks(rotation=0, size = 13)\n",
    "plt.yticks(rotation=0, size = 13)\n",
    "plt.show()"
   ]
  },
  {
   "cell_type": "markdown",
   "metadata": {},
   "source": [
    "Наибольшее количество посадочных мест в столовых, ресторанах, буфетах и на удивление в барах. Столовые специализируются на этом,все-таки сложно обедать стоя, рестораны в целом тоже, но вот начилие бОльшего количество посадочных мест в барах, чем в кафе - удивляет."
   ]
  },
  {
   "cell_type": "code",
   "execution_count": 37,
   "metadata": {},
   "outputs": [
    {
     "data": {
      "image/png": "[encoded data removed]",
      "text/plain": [
       "<Figure size 1080x1080 with 1 Axes>"
      ]
     },
     "metadata": {},
     "output_type": "display_data"
    }
   ],
   "source": [
    "ax = sns.barplot(x='object_type', y='number_of_seats', data=df, palette=\"Set3\")\n",
    "ax.set_xlabel('Тип объекта').set_size(12)\n",
    "ax.set_ylabel('Количество мест').set_size(12)\n",
    "ax.set_title('Количество посадочных мест на объектах общественного питания').set_size(15)\n",
    "plt.xticks(rotation=0, size = 14)\n",
    "plt.yticks(rotation=0, size = 14)\n",
    "plt.show()"
   ]
  },
  {
   "cell_type": "code",
   "execution_count": 38,
   "metadata": {},
   "outputs": [
    {
     "name": "stdout",
     "output_type": "stream",
     "text": [
      "Таблица со средним количеством посадочных мест в зависимости от типа общественного объекта\n"
     ]
    },
    {
     "data": {
      "text/html": [
       "<div>\n",
       "<style scoped>\n",
       "    .dataframe tbody tr th:only-of-type {\n",
       "        vertical-align: middle;\n",
       "    }\n",
       "\n",
       "    .dataframe tbody tr th {\n",
       "        vertical-align: top;\n",
       "    }\n",
       "\n",
       "    .dataframe thead th {\n",
       "        text-align: right;\n",
       "    }\n",
       "</style>\n",
       "<table border=\"1\" class=\"dataframe\">\n",
       "  <thead>\n",
       "    <tr style=\"text-align: right;\">\n",
       "      <th></th>\n",
       "      <th>object_type</th>\n",
       "      <th>number_of_seats</th>\n",
       "    </tr>\n",
       "  </thead>\n",
       "  <tbody>\n",
       "    <tr>\n",
       "      <td>0</td>\n",
       "      <td>столовая</td>\n",
       "      <td>130.00</td>\n",
       "    </tr>\n",
       "    <tr>\n",
       "      <td>1</td>\n",
       "      <td>ресторан</td>\n",
       "      <td>97.00</td>\n",
       "    </tr>\n",
       "    <tr>\n",
       "      <td>2</td>\n",
       "      <td>буфет</td>\n",
       "      <td>51.00</td>\n",
       "    </tr>\n",
       "    <tr>\n",
       "      <td>3</td>\n",
       "      <td>бар</td>\n",
       "      <td>43.00</td>\n",
       "    </tr>\n",
       "    <tr>\n",
       "      <td>4</td>\n",
       "      <td>кафе</td>\n",
       "      <td>40.00</td>\n",
       "    </tr>\n",
       "    <tr>\n",
       "      <td>5</td>\n",
       "      <td>фаст-фуд</td>\n",
       "      <td>21.00</td>\n",
       "    </tr>\n",
       "    <tr>\n",
       "      <td>6</td>\n",
       "      <td>кафетерий</td>\n",
       "      <td>9.00</td>\n",
       "    </tr>\n",
       "    <tr>\n",
       "      <td>7</td>\n",
       "      <td>закусочная</td>\n",
       "      <td>8.00</td>\n",
       "    </tr>\n",
       "    <tr>\n",
       "      <td>8</td>\n",
       "      <td>кулинария</td>\n",
       "      <td>6.00</td>\n",
       "    </tr>\n",
       "  </tbody>\n",
       "</table>\n",
       "</div>"
      ],
      "text/plain": [
       "  object_type  number_of_seats\n",
       "0    столовая           130.00\n",
       "1    ресторан            97.00\n",
       "2       буфет            51.00\n",
       "3         бар            43.00\n",
       "4        кафе            40.00\n",
       "5    фаст-фуд            21.00\n",
       "6   кафетерий             9.00\n",
       "7  закусочная             8.00\n",
       "8   кулинария             6.00"
      ]
     },
     "execution_count": 38,
     "metadata": {},
     "output_type": "execute_result"
    }
   ],
   "source": [
    "print('Таблица со средним количеством посадочных мест в зависимости от типа общественного объекта')\n",
    "df.groupby('object_type').agg({'number_of_seats':'mean'}).sort_values(by='number_of_seats',ascending=False).reset_index().round(0)"
   ]
  },
  {
   "cell_type": "markdown",
   "metadata": {},
   "source": [
    "Столовые лидируют, наименьшее количество посадочных мест в закусочных и кулинариях, потому что данные объекты не специализируются на том, чтобы посетители ели в заведении."
   ]
  },
  {
   "cell_type": "markdown",
   "metadata": {},
   "source": [
    "### Выделение в отдельный столбец информации об улице из столбца address"
   ]
  },
  {
   "cell_type": "code",
   "execution_count": 39,
   "metadata": {},
   "outputs": [],
   "source": [
    "#Создаю словарь\n",
    "words = ['улица','ул','переулок','шоссе','проспект','площадь','проезд',\n",
    "         'село','аллея','бульвар','набережная','тупик','линия']\n",
    "\n",
    "str_pat = r\".*,\\s*\\b([^,]*?(?:{})\\b[^,]*)[,$]+\".format(\"|\".join(words))\n",
    "\n",
    "df['street_name'] = df['address'].str.extract(str_pat)"
   ]
  },
  {
   "cell_type": "code",
   "execution_count": 40,
   "metadata": {},
   "outputs": [
    {
     "data": {
      "text/html": [
       "<div>\n",
       "<style scoped>\n",
       "    .dataframe tbody tr th:only-of-type {\n",
       "        vertical-align: middle;\n",
       "    }\n",
       "\n",
       "    .dataframe tbody tr th {\n",
       "        vertical-align: top;\n",
       "    }\n",
       "\n",
       "    .dataframe thead th {\n",
       "        text-align: right;\n",
       "    }\n",
       "</style>\n",
       "<table border=\"1\" class=\"dataframe\">\n",
       "  <thead>\n",
       "    <tr style=\"text-align: right;\">\n",
       "      <th></th>\n",
       "      <th>id</th>\n",
       "      <th>object_name</th>\n",
       "      <th>chain</th>\n",
       "      <th>object_type</th>\n",
       "      <th>address</th>\n",
       "      <th>number_of_seats</th>\n",
       "      <th>street_name</th>\n",
       "    </tr>\n",
       "  </thead>\n",
       "  <tbody>\n",
       "    <tr>\n",
       "      <td>0</td>\n",
       "      <td>151635</td>\n",
       "      <td>СМЕТАНА</td>\n",
       "      <td>несетевое</td>\n",
       "      <td>кафе</td>\n",
       "      <td>город Москва, улица Егора Абакумова, дом 9</td>\n",
       "      <td>48</td>\n",
       "      <td>улица Егора Абакумова</td>\n",
       "    </tr>\n",
       "    <tr>\n",
       "      <td>1</td>\n",
       "      <td>77874</td>\n",
       "      <td>Родник</td>\n",
       "      <td>несетевое</td>\n",
       "      <td>кафе</td>\n",
       "      <td>город Москва, улица Талалихина, дом 2/1, корпус 1</td>\n",
       "      <td>35</td>\n",
       "      <td>улица Талалихина</td>\n",
       "    </tr>\n",
       "    <tr>\n",
       "      <td>2</td>\n",
       "      <td>24309</td>\n",
       "      <td>Кафе «Академия»</td>\n",
       "      <td>несетевое</td>\n",
       "      <td>кафе</td>\n",
       "      <td>город Москва, Абельмановская улица, дом 6</td>\n",
       "      <td>95</td>\n",
       "      <td>Абельмановская улица</td>\n",
       "    </tr>\n",
       "    <tr>\n",
       "      <td>3</td>\n",
       "      <td>21894</td>\n",
       "      <td>ПИЦЦЕТОРИЯ</td>\n",
       "      <td>сетевое</td>\n",
       "      <td>кафе</td>\n",
       "      <td>город Москва, Абрамцевская улица, дом 1</td>\n",
       "      <td>40</td>\n",
       "      <td>Абрамцевская улица</td>\n",
       "    </tr>\n",
       "    <tr>\n",
       "      <td>4</td>\n",
       "      <td>119365</td>\n",
       "      <td>Кафе «Вишневая метель»</td>\n",
       "      <td>несетевое</td>\n",
       "      <td>кафе</td>\n",
       "      <td>город Москва, Абрамцевская улица, дом 9, корпус 1</td>\n",
       "      <td>50</td>\n",
       "      <td>Абрамцевская улица</td>\n",
       "    </tr>\n",
       "  </tbody>\n",
       "</table>\n",
       "</div>"
      ],
      "text/plain": [
       "       id             object_name      chain object_type  \\\n",
       "0  151635                 СМЕТАНА  несетевое        кафе   \n",
       "1   77874                  Родник  несетевое        кафе   \n",
       "2   24309         Кафе «Академия»  несетевое        кафе   \n",
       "3   21894              ПИЦЦЕТОРИЯ    сетевое        кафе   \n",
       "4  119365  Кафе «Вишневая метель»  несетевое        кафе   \n",
       "\n",
       "                                             address  number_of_seats  \\\n",
       "0         город Москва, улица Егора Абакумова, дом 9               48   \n",
       "1  город Москва, улица Талалихина, дом 2/1, корпус 1               35   \n",
       "2          город Москва, Абельмановская улица, дом 6               95   \n",
       "3            город Москва, Абрамцевская улица, дом 1               40   \n",
       "4  город Москва, Абрамцевская улица, дом 9, корпус 1               50   \n",
       "\n",
       "             street_name  \n",
       "0  улица Егора Абакумова  \n",
       "1       улица Талалихина  \n",
       "2   Абельмановская улица  \n",
       "3     Абрамцевская улица  \n",
       "4     Абрамцевская улица  "
      ]
     },
     "execution_count": 40,
     "metadata": {},
     "output_type": "execute_result"
    }
   ],
   "source": [
    "df.head()"
   ]
  },
  {
   "cell_type": "code",
   "execution_count": 41,
   "metadata": {},
   "outputs": [
    {
     "data": {
      "text/plain": [
       "id                 0\n",
       "object_name        0\n",
       "chain              0\n",
       "object_type        0\n",
       "address            0\n",
       "number_of_seats    0\n",
       "street_name        0\n",
       "dtype: int64"
      ]
     },
     "execution_count": 41,
     "metadata": {},
     "output_type": "execute_result"
    }
   ],
   "source": [
    "#Проверяю не получлоись ли пустых строк в столбце streert_name\n",
    "df[df['street_name'] == ''].count()"
   ]
  },
  {
   "cell_type": "markdown",
   "metadata": {},
   "source": [
    "### Топ-10 улиц по количеству объектов общественного питания, в каких районах Москвы находятся эти улицы"
   ]
  },
  {
   "cell_type": "code",
   "execution_count": 42,
   "metadata": {},
   "outputs": [],
   "source": [
    "#Таблица со списком топ-10 улиц\n",
    "top10=df.groupby('street_name')['id'].count().sort_values(ascending=False).head(10).reset_index()"
   ]
  },
  {
   "cell_type": "code",
   "execution_count": 43,
   "metadata": {},
   "outputs": [
    {
     "data": {
      "text/html": [
       "<div>\n",
       "<style scoped>\n",
       "    .dataframe tbody tr th:only-of-type {\n",
       "        vertical-align: middle;\n",
       "    }\n",
       "\n",
       "    .dataframe tbody tr th {\n",
       "        vertical-align: top;\n",
       "    }\n",
       "\n",
       "    .dataframe thead th {\n",
       "        text-align: right;\n",
       "    }\n",
       "</style>\n",
       "<table border=\"1\" class=\"dataframe\">\n",
       "  <thead>\n",
       "    <tr style=\"text-align: right;\">\n",
       "      <th></th>\n",
       "      <th>street_name</th>\n",
       "      <th>id</th>\n",
       "    </tr>\n",
       "  </thead>\n",
       "  <tbody>\n",
       "    <tr>\n",
       "      <td>0</td>\n",
       "      <td>проспект Мира</td>\n",
       "      <td>204</td>\n",
       "    </tr>\n",
       "    <tr>\n",
       "      <td>1</td>\n",
       "      <td>Профсоюзная улица</td>\n",
       "      <td>182</td>\n",
       "    </tr>\n",
       "    <tr>\n",
       "      <td>2</td>\n",
       "      <td>Ленинградский проспект</td>\n",
       "      <td>171</td>\n",
       "    </tr>\n",
       "    <tr>\n",
       "      <td>3</td>\n",
       "      <td>Пресненская набережная</td>\n",
       "      <td>167</td>\n",
       "    </tr>\n",
       "    <tr>\n",
       "      <td>4</td>\n",
       "      <td>Варшавское шоссе</td>\n",
       "      <td>164</td>\n",
       "    </tr>\n",
       "    <tr>\n",
       "      <td>5</td>\n",
       "      <td>Ленинский проспект</td>\n",
       "      <td>147</td>\n",
       "    </tr>\n",
       "    <tr>\n",
       "      <td>6</td>\n",
       "      <td>проспект Вернадского</td>\n",
       "      <td>132</td>\n",
       "    </tr>\n",
       "    <tr>\n",
       "      <td>7</td>\n",
       "      <td>Кутузовский проспект</td>\n",
       "      <td>114</td>\n",
       "    </tr>\n",
       "    <tr>\n",
       "      <td>8</td>\n",
       "      <td>Каширское шоссе</td>\n",
       "      <td>112</td>\n",
       "    </tr>\n",
       "    <tr>\n",
       "      <td>9</td>\n",
       "      <td>Кировоградская улица</td>\n",
       "      <td>110</td>\n",
       "    </tr>\n",
       "  </tbody>\n",
       "</table>\n",
       "</div>"
      ],
      "text/plain": [
       "              street_name   id\n",
       "0           проспект Мира  204\n",
       "1       Профсоюзная улица  182\n",
       "2  Ленинградский проспект  171\n",
       "3  Пресненская набережная  167\n",
       "4        Варшавское шоссе  164\n",
       "5      Ленинский проспект  147\n",
       "6    проспект Вернадского  132\n",
       "7    Кутузовский проспект  114\n",
       "8         Каширское шоссе  112\n",
       "9    Кировоградская улица  110"
      ]
     },
     "execution_count": 43,
     "metadata": {},
     "output_type": "execute_result"
    }
   ],
   "source": [
    "top10"
   ]
  },
  {
   "cell_type": "code",
   "execution_count": 44,
   "metadata": {},
   "outputs": [
    {
     "data": {
      "image/png": "[encoded data removed]",
      "text/plain": [
       "<Figure size 1080x1080 with 1 Axes>"
      ]
     },
     "metadata": {},
     "output_type": "display_data"
    }
   ],
   "source": [
    "ax = sns.barplot(x='id', y='street_name', data=top10, palette=\"Set2\")\n",
    "ax.set_xlabel('Количество объектов').set_size(13)\n",
    "ax.set_ylabel('Название улицы').set_size(13)\n",
    "ax.set_title('Топ-10 улиц по количеству объектов общественного питания').set_size(15)\n",
    "plt.xticks(rotation=0,size=15)\n",
    "plt.yticks(rotation=0, size = 20)\n",
    "plt.show()"
   ]
  },
  {
   "cell_type": "markdown",
   "metadata": {},
   "source": [
    "* *Проспект Мира*: Мещанский, Марьина Роща, Алексеевский, Останкинский, Свиблово, Ростокино;(протяженность 8,9 км)\n",
    "* *Профсоюзная улица*: Академический, Коньково, Обручевский, Тёплый Стан, Черёмушки, Ясенево;(протяженность 9,3 км)\n",
    "* *Ленинградский проспект*: Беговой, Аэропорт, Сокол, Хорошёвский; (протяженность 5,5 км)\n",
    "* *Пресненская набережная*: Пресненский; (протяженность 744 м)\n",
    "* *Варшавское шоссе*: Донской, Нагатино-Садовники, Нагорный;(протяженность 22,5 км)\n",
    "* *Ленинский проспект*: Гагаринский и Донской;(протяженность 12,9 км)\n",
    "* *Проспект Вернадского*: Проспект Вернадского; (протяженность 8,2)\n",
    "* *Кутузовский проспект*: Дорогомилово, Фили-Давыдково; (протяженность 8,3)\n",
    "* *Каширское шоссе*: Нагатино-Садовники и Нагорный; (протяженность 12,3)\n",
    "* *Кировоградская улица*: Чертаново Северное, Чертаново Центральное и Чертаново Южное (протяженность 1,9 км)."
   ]
  },
  {
   "cell_type": "code",
   "execution_count": 45,
   "metadata": {},
   "outputs": [
    {
     "data": {
      "text/html": [
       "<div>\n",
       "<style scoped>\n",
       "    .dataframe tbody tr th:only-of-type {\n",
       "        vertical-align: middle;\n",
       "    }\n",
       "\n",
       "    .dataframe tbody tr th {\n",
       "        vertical-align: top;\n",
       "    }\n",
       "\n",
       "    .dataframe thead th {\n",
       "        text-align: right;\n",
       "    }\n",
       "</style>\n",
       "<table border=\"1\" class=\"dataframe\">\n",
       "  <thead>\n",
       "    <tr style=\"text-align: right;\">\n",
       "      <th></th>\n",
       "      <th>streetname</th>\n",
       "      <th>areaid</th>\n",
       "      <th>okrug</th>\n",
       "      <th>area</th>\n",
       "    </tr>\n",
       "  </thead>\n",
       "  <tbody>\n",
       "    <tr>\n",
       "      <td>0</td>\n",
       "      <td>Выставочный переулок</td>\n",
       "      <td>17</td>\n",
       "      <td>ЦАО</td>\n",
       "      <td>Пресненский район</td>\n",
       "    </tr>\n",
       "    <tr>\n",
       "      <td>1</td>\n",
       "      <td>улица Гашека</td>\n",
       "      <td>17</td>\n",
       "      <td>ЦАО</td>\n",
       "      <td>Пресненский район</td>\n",
       "    </tr>\n",
       "    <tr>\n",
       "      <td>2</td>\n",
       "      <td>Большая Никитская улица</td>\n",
       "      <td>17</td>\n",
       "      <td>ЦАО</td>\n",
       "      <td>Пресненский район</td>\n",
       "    </tr>\n",
       "    <tr>\n",
       "      <td>3</td>\n",
       "      <td>Глубокий переулок</td>\n",
       "      <td>17</td>\n",
       "      <td>ЦАО</td>\n",
       "      <td>Пресненский район</td>\n",
       "    </tr>\n",
       "    <tr>\n",
       "      <td>4</td>\n",
       "      <td>Большой Гнездниковский переулок</td>\n",
       "      <td>17</td>\n",
       "      <td>ЦАО</td>\n",
       "      <td>Пресненский район</td>\n",
       "    </tr>\n",
       "    <tr>\n",
       "      <td>...</td>\n",
       "      <td>...</td>\n",
       "      <td>...</td>\n",
       "      <td>...</td>\n",
       "      <td>...</td>\n",
       "    </tr>\n",
       "    <tr>\n",
       "      <td>4393</td>\n",
       "      <td>Вознесенский проезд</td>\n",
       "      <td>17</td>\n",
       "      <td>ЦАО</td>\n",
       "      <td>Пресненский район</td>\n",
       "    </tr>\n",
       "    <tr>\n",
       "      <td>4394</td>\n",
       "      <td>Волков переулок</td>\n",
       "      <td>17</td>\n",
       "      <td>ЦАО</td>\n",
       "      <td>Пресненский район</td>\n",
       "    </tr>\n",
       "    <tr>\n",
       "      <td>4395</td>\n",
       "      <td>Поварская улица</td>\n",
       "      <td>17</td>\n",
       "      <td>ЦАО</td>\n",
       "      <td>Пресненский район</td>\n",
       "    </tr>\n",
       "    <tr>\n",
       "      <td>4396</td>\n",
       "      <td>Кудринская площадь</td>\n",
       "      <td>17</td>\n",
       "      <td>ЦАО</td>\n",
       "      <td>Пресненский район</td>\n",
       "    </tr>\n",
       "    <tr>\n",
       "      <td>4397</td>\n",
       "      <td>Вспольный переулок</td>\n",
       "      <td>17</td>\n",
       "      <td>ЦАО</td>\n",
       "      <td>Пресненский район</td>\n",
       "    </tr>\n",
       "  </tbody>\n",
       "</table>\n",
       "<p>4398 rows × 4 columns</p>\n",
       "</div>"
      ],
      "text/plain": [
       "                           streetname  areaid okrug               area\n",
       "0                Выставочный переулок      17   ЦАО  Пресненский район\n",
       "1                        улица Гашека      17   ЦАО  Пресненский район\n",
       "2             Большая Никитская улица      17   ЦАО  Пресненский район\n",
       "3                   Глубокий переулок      17   ЦАО  Пресненский район\n",
       "4     Большой Гнездниковский переулок      17   ЦАО  Пресненский район\n",
       "...                               ...     ...   ...                ...\n",
       "4393              Вознесенский проезд      17   ЦАО  Пресненский район\n",
       "4394                  Волков переулок      17   ЦАО  Пресненский район\n",
       "4395                  Поварская улица      17   ЦАО  Пресненский район\n",
       "4396               Кудринская площадь      17   ЦАО  Пресненский район\n",
       "4397               Вспольный переулок      17   ЦАО  Пресненский район\n",
       "\n",
       "[4398 rows x 4 columns]"
      ]
     },
     "execution_count": 45,
     "metadata": {},
     "output_type": "execute_result"
    }
   ],
   "source": [
    "#Добавление файла с данными для определения района улицы\n",
    "spreadsheet_id = '1DPzjrlWmay76YKqiwNErWtg1CmrCwS4Qp3__J-Mssys'\n",
    "file_name = 'https://docs.google.com/spreadsheets/d/{}/export?format=csv'.format(spreadsheet_id)\n",
    "r = requests.get(file_name)\n",
    "street_area = pd.read_csv(BytesIO(r.content))\n",
    "street_area"
   ]
  },
  {
   "cell_type": "code",
   "execution_count": 46,
   "metadata": {},
   "outputs": [],
   "source": [
    "#Объединяю df с таблицей с информацией принадлежности улицы к району\n",
    "df = df.merge(street_area[['streetname', 'okrug', 'area']], how='left', left_on='street_name', right_on='streetname')"
   ]
  },
  {
   "cell_type": "code",
   "execution_count": 47,
   "metadata": {},
   "outputs": [
    {
     "name": "stdout",
     "output_type": "stream",
     "text": [
      "Количество дубликатов по столбцу id: 14129\n"
     ]
    }
   ],
   "source": [
    "#Проверка дубликатов после объединения\n",
    "print('Количество дубликатов по столбцу id:', df.duplicated(['id']).sum())"
   ]
  },
  {
   "cell_type": "code",
   "execution_count": 48,
   "metadata": {},
   "outputs": [],
   "source": [
    "#Удаляю дубликаты\n",
    "df=df.drop_duplicates(subset=['id'])"
   ]
  },
  {
   "cell_type": "code",
   "execution_count": 49,
   "metadata": {},
   "outputs": [],
   "source": [
    "#Удаляю повторяющийся столбец с наименованием улицы\n",
    "df=df.drop(columns = ['streetname'])"
   ]
  },
  {
   "cell_type": "code",
   "execution_count": 50,
   "metadata": {},
   "outputs": [],
   "source": [
    "#Переименовываю столбец, чтобы можно было объединить с df районов\n",
    "top10 = top10.rename(columns={'street_name':'streetname'})\n",
    "#Объединяю две таблицы\n",
    "top10_area=top10.merge(street_area, on = 'streetname', how = 'inner')"
   ]
  },
  {
   "cell_type": "code",
   "execution_count": 51,
   "metadata": {},
   "outputs": [],
   "source": [
    "streets = pd.DataFrame(data=top10_area['streetname'].unique(), columns=['street'])"
   ]
  },
  {
   "cell_type": "code",
   "execution_count": 52,
   "metadata": {},
   "outputs": [
    {
     "data": {
      "text/html": [
       "<div>\n",
       "<style scoped>\n",
       "    .dataframe tbody tr th:only-of-type {\n",
       "        vertical-align: middle;\n",
       "    }\n",
       "\n",
       "    .dataframe tbody tr th {\n",
       "        vertical-align: top;\n",
       "    }\n",
       "\n",
       "    .dataframe thead th {\n",
       "        text-align: right;\n",
       "    }\n",
       "</style>\n",
       "<table border=\"1\" class=\"dataframe\">\n",
       "  <thead>\n",
       "    <tr style=\"text-align: right;\">\n",
       "      <th></th>\n",
       "      <th>streetname</th>\n",
       "      <th>area</th>\n",
       "    </tr>\n",
       "  </thead>\n",
       "  <tbody>\n",
       "    <tr>\n",
       "      <td>0</td>\n",
       "      <td>Варшавское шоссе</td>\n",
       "      <td>[Район Чертаново Центральное, Район Чертаново Северное, Район Чертаново Южное, Донской район, Район Нагатино-Садовники, Нагорный район, Район Северное Бутово, Район Южное Бутово]</td>\n",
       "    </tr>\n",
       "    <tr>\n",
       "      <td>1</td>\n",
       "      <td>Каширское шоссе</td>\n",
       "      <td>[Район Москворечье-Сабурово, Район Нагатино-Садовники, Район Орехово-Борисово Южное, Район Орехово-Борисово Северное]</td>\n",
       "    </tr>\n",
       "    <tr>\n",
       "      <td>2</td>\n",
       "      <td>Кировоградская улица</td>\n",
       "      <td>[Район Чертаново Центральное, Район Чертаново Северное, Район Чертаново Южное]</td>\n",
       "    </tr>\n",
       "    <tr>\n",
       "      <td>3</td>\n",
       "      <td>Кутузовский проспект</td>\n",
       "      <td>[Район Дорогомилово, Район Фили-Давыдково]</td>\n",
       "    </tr>\n",
       "    <tr>\n",
       "      <td>4</td>\n",
       "      <td>Ленинградский проспект</td>\n",
       "      <td>[Район Аэропорт, Район Беговой, Хорошевский район, Район Сокол]</td>\n",
       "    </tr>\n",
       "    <tr>\n",
       "      <td>5</td>\n",
       "      <td>Ленинский проспект</td>\n",
       "      <td>[Район Проспект Вернадского, Район Тропарево-Никулино, Донской район, Район Гагаринский, Ломоносовский район, Обручевский район, Район Теплый Стан, Район Якиманка]</td>\n",
       "    </tr>\n",
       "    <tr>\n",
       "      <td>6</td>\n",
       "      <td>Пресненская набережная</td>\n",
       "      <td>[Пресненский район]</td>\n",
       "    </tr>\n",
       "    <tr>\n",
       "      <td>7</td>\n",
       "      <td>Профсоюзная улица</td>\n",
       "      <td>[Академический район, Район Черемушки, Район Ясенево, Район Коньково, Обручевский район, Район Теплый Стан]</td>\n",
       "    </tr>\n",
       "    <tr>\n",
       "      <td>8</td>\n",
       "      <td>проспект Вернадского</td>\n",
       "      <td>[Район Проспект Вернадского, Район Раменки, Район Тропарево-Никулино, Район Гагаринский, Ломоносовский район]</td>\n",
       "    </tr>\n",
       "    <tr>\n",
       "      <td>9</td>\n",
       "      <td>проспект Мира</td>\n",
       "      <td>[Алексеевский район, Ярославский Район, Район Марьина роща, Останкинский район, Район Ростокино, Район Свиблово, Мещанский район]</td>\n",
       "    </tr>\n",
       "  </tbody>\n",
       "</table>\n",
       "</div>"
      ],
      "text/plain": [
       "               streetname  \\\n",
       "0        Варшавское шоссе   \n",
       "1         Каширское шоссе   \n",
       "2    Кировоградская улица   \n",
       "3    Кутузовский проспект   \n",
       "4  Ленинградский проспект   \n",
       "5      Ленинский проспект   \n",
       "6  Пресненская набережная   \n",
       "7       Профсоюзная улица   \n",
       "8    проспект Вернадского   \n",
       "9           проспект Мира   \n",
       "\n",
       "                                                                                                                                                                                 area  \n",
       "0  [Район Чертаново Центральное, Район Чертаново Северное, Район Чертаново Южное, Донской район, Район Нагатино-Садовники, Нагорный район, Район Северное Бутово, Район Южное Бутово]  \n",
       "1                                                               [Район Москворечье-Сабурово, Район Нагатино-Садовники, Район Орехово-Борисово Южное, Район Орехово-Борисово Северное]  \n",
       "2                                                                                                      [Район Чертаново Центральное, Район Чертаново Северное, Район Чертаново Южное]  \n",
       "3                                                                                                                                          [Район Дорогомилово, Район Фили-Давыдково]  \n",
       "4                                                                                                                     [Район Аэропорт, Район Беговой, Хорошевский район, Район Сокол]  \n",
       "5                 [Район Проспект Вернадского, Район Тропарево-Никулино, Донской район, Район Гагаринский, Ломоносовский район, Обручевский район, Район Теплый Стан, Район Якиманка]  \n",
       "6                                                                                                                                                                 [Пресненский район]  \n",
       "7                                                                         [Академический район, Район Черемушки, Район Ясенево, Район Коньково, Обручевский район, Район Теплый Стан]  \n",
       "8                                                                       [Район Проспект Вернадского, Район Раменки, Район Тропарево-Никулино, Район Гагаринский, Ломоносовский район]  \n",
       "9                                                   [Алексеевский район, Ярославский Район, Район Марьина роща, Останкинский район, Район Ростокино, Район Свиблово, Мещанский район]  "
      ]
     },
     "execution_count": 52,
     "metadata": {},
     "output_type": "execute_result"
    }
   ],
   "source": [
    "pd.options.display.max_colwidth = 500\n",
    "top10_area.groupby('streetname')['area'].unique().reset_index()"
   ]
  },
  {
   "cell_type": "markdown",
   "metadata": {},
   "source": [
    "Улица Проспект мира хоть и имеет не самую большую протяженность,но располагается в 6 районах Москвы и на ней располагается 204 объекта, так же как и Профсоюзная улица, на которой располагается 182 объекта общественного питания. Проспект мира расположен в относительно центральной части города, и там распологается множество общественных пространств, а Профсоюзная улица находится в районе где много ВУЗов, возможно, большое количество объектов общественного питания сввязано с этим.\n",
    "\n",
    "Далее Ленинаградский проспект, Пресненская набережная и Варшавское шоссе на которых распологается около 160-170 объектов на каждой. Замыкает топ-10 Кировоградская улица на которой распологается 110 объектов общественного питания, улица находится на 3 больших спальных районах Москвы."
   ]
  },
  {
   "cell_type": "markdown",
   "metadata": {},
   "source": [
    "### Число улиц с одним объектом общественного питания, в каких районах Москвы находятся эти улицы"
   ]
  },
  {
   "cell_type": "code",
   "execution_count": 53,
   "metadata": {},
   "outputs": [
    {
     "data": {
      "text/html": [
       "<div>\n",
       "<style scoped>\n",
       "    .dataframe tbody tr th:only-of-type {\n",
       "        vertical-align: middle;\n",
       "    }\n",
       "\n",
       "    .dataframe tbody tr th {\n",
       "        vertical-align: top;\n",
       "    }\n",
       "\n",
       "    .dataframe thead th {\n",
       "        text-align: right;\n",
       "    }\n",
       "</style>\n",
       "<table border=\"1\" class=\"dataframe\">\n",
       "  <thead>\n",
       "    <tr style=\"text-align: right;\">\n",
       "      <th></th>\n",
       "      <th>id</th>\n",
       "      <th>object_name</th>\n",
       "      <th>chain</th>\n",
       "      <th>object_type</th>\n",
       "      <th>address</th>\n",
       "      <th>number_of_seats</th>\n",
       "      <th>street_name</th>\n",
       "      <th>okrug</th>\n",
       "      <th>area</th>\n",
       "    </tr>\n",
       "  </thead>\n",
       "  <tbody>\n",
       "    <tr>\n",
       "      <td>0</td>\n",
       "      <td>151635</td>\n",
       "      <td>СМЕТАНА</td>\n",
       "      <td>несетевое</td>\n",
       "      <td>кафе</td>\n",
       "      <td>город Москва, улица Егора Абакумова, дом 9</td>\n",
       "      <td>48</td>\n",
       "      <td>улица Егора Абакумова</td>\n",
       "      <td>СВАО</td>\n",
       "      <td>Ярославский Район</td>\n",
       "    </tr>\n",
       "    <tr>\n",
       "      <td>1</td>\n",
       "      <td>77874</td>\n",
       "      <td>Родник</td>\n",
       "      <td>несетевое</td>\n",
       "      <td>кафе</td>\n",
       "      <td>город Москва, улица Талалихина, дом 2/1, корпус 1</td>\n",
       "      <td>35</td>\n",
       "      <td>улица Талалихина</td>\n",
       "      <td>ЦАО</td>\n",
       "      <td>Таганский район</td>\n",
       "    </tr>\n",
       "    <tr>\n",
       "      <td>4</td>\n",
       "      <td>24309</td>\n",
       "      <td>Кафе «Академия»</td>\n",
       "      <td>несетевое</td>\n",
       "      <td>кафе</td>\n",
       "      <td>город Москва, Абельмановская улица, дом 6</td>\n",
       "      <td>95</td>\n",
       "      <td>Абельмановская улица</td>\n",
       "      <td>ЦАО</td>\n",
       "      <td>Таганский район</td>\n",
       "    </tr>\n",
       "    <tr>\n",
       "      <td>5</td>\n",
       "      <td>21894</td>\n",
       "      <td>ПИЦЦЕТОРИЯ</td>\n",
       "      <td>сетевое</td>\n",
       "      <td>кафе</td>\n",
       "      <td>город Москва, Абрамцевская улица, дом 1</td>\n",
       "      <td>40</td>\n",
       "      <td>Абрамцевская улица</td>\n",
       "      <td>СВАО</td>\n",
       "      <td>Район Лианозово</td>\n",
       "    </tr>\n",
       "    <tr>\n",
       "      <td>6</td>\n",
       "      <td>119365</td>\n",
       "      <td>Кафе «Вишневая метель»</td>\n",
       "      <td>несетевое</td>\n",
       "      <td>кафе</td>\n",
       "      <td>город Москва, Абрамцевская улица, дом 9, корпус 1</td>\n",
       "      <td>50</td>\n",
       "      <td>Абрамцевская улица</td>\n",
       "      <td>СВАО</td>\n",
       "      <td>Район Лианозово</td>\n",
       "    </tr>\n",
       "  </tbody>\n",
       "</table>\n",
       "</div>"
      ],
      "text/plain": [
       "       id             object_name      chain object_type  \\\n",
       "0  151635                 СМЕТАНА  несетевое        кафе   \n",
       "1   77874                  Родник  несетевое        кафе   \n",
       "4   24309         Кафе «Академия»  несетевое        кафе   \n",
       "5   21894              ПИЦЦЕТОРИЯ    сетевое        кафе   \n",
       "6  119365  Кафе «Вишневая метель»  несетевое        кафе   \n",
       "\n",
       "                                             address  number_of_seats  \\\n",
       "0         город Москва, улица Егора Абакумова, дом 9               48   \n",
       "1  город Москва, улица Талалихина, дом 2/1, корпус 1               35   \n",
       "4          город Москва, Абельмановская улица, дом 6               95   \n",
       "5            город Москва, Абрамцевская улица, дом 1               40   \n",
       "6  город Москва, Абрамцевская улица, дом 9, корпус 1               50   \n",
       "\n",
       "             street_name okrug               area  \n",
       "0  улица Егора Абакумова  СВАО  Ярославский Район  \n",
       "1       улица Талалихина   ЦАО    Таганский район  \n",
       "4   Абельмановская улица   ЦАО    Таганский район  \n",
       "5     Абрамцевская улица  СВАО    Район Лианозово  \n",
       "6     Абрамцевская улица  СВАО    Район Лианозово  "
      ]
     },
     "execution_count": 53,
     "metadata": {},
     "output_type": "execute_result"
    }
   ],
   "source": [
    "df.head()"
   ]
  },
  {
   "cell_type": "code",
   "execution_count": 54,
   "metadata": {},
   "outputs": [
    {
     "name": "stdout",
     "output_type": "stream",
     "text": [
      "Всего 549 улиц с 1 объектом общественного питания.\n"
     ]
    }
   ],
   "source": [
    "#Считаю число улиц\n",
    "temp = df.groupby('street_name').count()\n",
    "print('Всего {} улиц с 1 объектом общественного питания.'.format(len(temp.query('id == 1'))))"
   ]
  },
  {
   "cell_type": "code",
   "execution_count": 55,
   "metadata": {},
   "outputs": [
    {
     "data": {
      "text/html": [
       "<div>\n",
       "<style scoped>\n",
       "    .dataframe tbody tr th:only-of-type {\n",
       "        vertical-align: middle;\n",
       "    }\n",
       "\n",
       "    .dataframe tbody tr th {\n",
       "        vertical-align: top;\n",
       "    }\n",
       "\n",
       "    .dataframe thead th {\n",
       "        text-align: right;\n",
       "    }\n",
       "</style>\n",
       "<table border=\"1\" class=\"dataframe\">\n",
       "  <thead>\n",
       "    <tr style=\"text-align: right;\">\n",
       "      <th></th>\n",
       "      <th>id</th>\n",
       "      <th>object_name</th>\n",
       "      <th>chain</th>\n",
       "      <th>object_type</th>\n",
       "      <th>address</th>\n",
       "      <th>number_of_seats</th>\n",
       "      <th>street_name</th>\n",
       "      <th>okrug</th>\n",
       "      <th>area</th>\n",
       "    </tr>\n",
       "  </thead>\n",
       "  <tbody>\n",
       "    <tr>\n",
       "      <td>0</td>\n",
       "      <td>151635</td>\n",
       "      <td>СМЕТАНА</td>\n",
       "      <td>несетевое</td>\n",
       "      <td>кафе</td>\n",
       "      <td>город Москва, улица Егора Абакумова, дом 9</td>\n",
       "      <td>48</td>\n",
       "      <td>улица Егора Абакумова</td>\n",
       "      <td>СВАО</td>\n",
       "      <td>Ярославский Район</td>\n",
       "    </tr>\n",
       "    <tr>\n",
       "      <td>1</td>\n",
       "      <td>77874</td>\n",
       "      <td>Родник</td>\n",
       "      <td>несетевое</td>\n",
       "      <td>кафе</td>\n",
       "      <td>город Москва, улица Талалихина, дом 2/1, корпус 1</td>\n",
       "      <td>35</td>\n",
       "      <td>улица Талалихина</td>\n",
       "      <td>ЦАО</td>\n",
       "      <td>Таганский район</td>\n",
       "    </tr>\n",
       "    <tr>\n",
       "      <td>4</td>\n",
       "      <td>24309</td>\n",
       "      <td>Кафе «Академия»</td>\n",
       "      <td>несетевое</td>\n",
       "      <td>кафе</td>\n",
       "      <td>город Москва, Абельмановская улица, дом 6</td>\n",
       "      <td>95</td>\n",
       "      <td>Абельмановская улица</td>\n",
       "      <td>ЦАО</td>\n",
       "      <td>Таганский район</td>\n",
       "    </tr>\n",
       "    <tr>\n",
       "      <td>5</td>\n",
       "      <td>21894</td>\n",
       "      <td>ПИЦЦЕТОРИЯ</td>\n",
       "      <td>сетевое</td>\n",
       "      <td>кафе</td>\n",
       "      <td>город Москва, Абрамцевская улица, дом 1</td>\n",
       "      <td>40</td>\n",
       "      <td>Абрамцевская улица</td>\n",
       "      <td>СВАО</td>\n",
       "      <td>Район Лианозово</td>\n",
       "    </tr>\n",
       "    <tr>\n",
       "      <td>6</td>\n",
       "      <td>119365</td>\n",
       "      <td>Кафе «Вишневая метель»</td>\n",
       "      <td>несетевое</td>\n",
       "      <td>кафе</td>\n",
       "      <td>город Москва, Абрамцевская улица, дом 9, корпус 1</td>\n",
       "      <td>50</td>\n",
       "      <td>Абрамцевская улица</td>\n",
       "      <td>СВАО</td>\n",
       "      <td>Район Лианозово</td>\n",
       "    </tr>\n",
       "  </tbody>\n",
       "</table>\n",
       "</div>"
      ],
      "text/plain": [
       "       id             object_name      chain object_type  \\\n",
       "0  151635                 СМЕТАНА  несетевое        кафе   \n",
       "1   77874                  Родник  несетевое        кафе   \n",
       "4   24309         Кафе «Академия»  несетевое        кафе   \n",
       "5   21894              ПИЦЦЕТОРИЯ    сетевое        кафе   \n",
       "6  119365  Кафе «Вишневая метель»  несетевое        кафе   \n",
       "\n",
       "                                             address  number_of_seats  \\\n",
       "0         город Москва, улица Егора Абакумова, дом 9               48   \n",
       "1  город Москва, улица Талалихина, дом 2/1, корпус 1               35   \n",
       "4          город Москва, Абельмановская улица, дом 6               95   \n",
       "5            город Москва, Абрамцевская улица, дом 1               40   \n",
       "6  город Москва, Абрамцевская улица, дом 9, корпус 1               50   \n",
       "\n",
       "             street_name okrug               area  \n",
       "0  улица Егора Абакумова  СВАО  Ярославский Район  \n",
       "1       улица Талалихина   ЦАО    Таганский район  \n",
       "4   Абельмановская улица   ЦАО    Таганский район  \n",
       "5     Абрамцевская улица  СВАО    Район Лианозово  \n",
       "6     Абрамцевская улица  СВАО    Район Лианозово  "
      ]
     },
     "execution_count": 55,
     "metadata": {},
     "output_type": "execute_result"
    }
   ],
   "source": [
    "df.head()"
   ]
  },
  {
   "cell_type": "code",
   "execution_count": 56,
   "metadata": {},
   "outputs": [],
   "source": [
    "#Группирую df для того, чтобы выделить количество id по улицам\n",
    "group_id=df.groupby('street_name')['id'].count().sort_values(ascending=True).reset_index()\n",
    "#Переименовываю столбец для того, чтобы в дальнейшем соединить таблицы\n",
    "group_id = group_id.rename(columns={'street_name':'streetname'})\n",
    "#Выделяю улица с 1 id\n",
    "one_id=group_id.loc[group_id['id'] == 1]"
   ]
  },
  {
   "cell_type": "code",
   "execution_count": 57,
   "metadata": {},
   "outputs": [
    {
     "data": {
      "text/html": [
       "<div>\n",
       "<style scoped>\n",
       "    .dataframe tbody tr th:only-of-type {\n",
       "        vertical-align: middle;\n",
       "    }\n",
       "\n",
       "    .dataframe tbody tr th {\n",
       "        vertical-align: top;\n",
       "    }\n",
       "\n",
       "    .dataframe thead th {\n",
       "        text-align: right;\n",
       "    }\n",
       "</style>\n",
       "<table border=\"1\" class=\"dataframe\">\n",
       "  <thead>\n",
       "    <tr style=\"text-align: right;\">\n",
       "      <th></th>\n",
       "      <th>streetname</th>\n",
       "      <th>id</th>\n",
       "    </tr>\n",
       "  </thead>\n",
       "  <tbody>\n",
       "    <tr>\n",
       "      <td>0</td>\n",
       "      <td>Перовский проезд</td>\n",
       "      <td>1</td>\n",
       "    </tr>\n",
       "    <tr>\n",
       "      <td>1</td>\n",
       "      <td>Известковый переулок</td>\n",
       "      <td>1</td>\n",
       "    </tr>\n",
       "    <tr>\n",
       "      <td>2</td>\n",
       "      <td>Измайловская площадь</td>\n",
       "      <td>1</td>\n",
       "    </tr>\n",
       "    <tr>\n",
       "      <td>3</td>\n",
       "      <td>переулок Красина</td>\n",
       "      <td>1</td>\n",
       "    </tr>\n",
       "    <tr>\n",
       "      <td>4</td>\n",
       "      <td>переулок Васнецова</td>\n",
       "      <td>1</td>\n",
       "    </tr>\n",
       "    <tr>\n",
       "      <td>...</td>\n",
       "      <td>...</td>\n",
       "      <td>...</td>\n",
       "    </tr>\n",
       "    <tr>\n",
       "      <td>544</td>\n",
       "      <td>улица Крутицкий Вал</td>\n",
       "      <td>1</td>\n",
       "    </tr>\n",
       "    <tr>\n",
       "      <td>545</td>\n",
       "      <td>Бескудниковский проезд</td>\n",
       "      <td>1</td>\n",
       "    </tr>\n",
       "    <tr>\n",
       "      <td>546</td>\n",
       "      <td>улица Кутузова</td>\n",
       "      <td>1</td>\n",
       "    </tr>\n",
       "    <tr>\n",
       "      <td>547</td>\n",
       "      <td>улица Кухмистерова</td>\n",
       "      <td>1</td>\n",
       "    </tr>\n",
       "    <tr>\n",
       "      <td>548</td>\n",
       "      <td>Библиотечная улица</td>\n",
       "      <td>1</td>\n",
       "    </tr>\n",
       "  </tbody>\n",
       "</table>\n",
       "<p>549 rows × 2 columns</p>\n",
       "</div>"
      ],
      "text/plain": [
       "                 streetname  id\n",
       "0          Перовский проезд   1\n",
       "1      Известковый переулок   1\n",
       "2      Измайловская площадь   1\n",
       "3          переулок Красина   1\n",
       "4        переулок Васнецова   1\n",
       "..                      ...  ..\n",
       "544     улица Крутицкий Вал   1\n",
       "545  Бескудниковский проезд   1\n",
       "546          улица Кутузова   1\n",
       "547      улица Кухмистерова   1\n",
       "548      Библиотечная улица   1\n",
       "\n",
       "[549 rows x 2 columns]"
      ]
     },
     "execution_count": 57,
     "metadata": {},
     "output_type": "execute_result"
    }
   ],
   "source": [
    "one_id"
   ]
  },
  {
   "cell_type": "code",
   "execution_count": 58,
   "metadata": {},
   "outputs": [],
   "source": [
    "#Объединяю таблицы, чтобы присоединить район\n",
    "one_id_area=one_id.merge(street_area, on = 'streetname', how = 'inner')"
   ]
  },
  {
   "cell_type": "code",
   "execution_count": 59,
   "metadata": {},
   "outputs": [
    {
     "data": {
      "text/html": [
       "<div>\n",
       "<style scoped>\n",
       "    .dataframe tbody tr th:only-of-type {\n",
       "        vertical-align: middle;\n",
       "    }\n",
       "\n",
       "    .dataframe tbody tr th {\n",
       "        vertical-align: top;\n",
       "    }\n",
       "\n",
       "    .dataframe thead th {\n",
       "        text-align: right;\n",
       "    }\n",
       "</style>\n",
       "<table border=\"1\" class=\"dataframe\">\n",
       "  <thead>\n",
       "    <tr style=\"text-align: right;\">\n",
       "      <th></th>\n",
       "      <th>streetname</th>\n",
       "      <th>id</th>\n",
       "      <th>areaid</th>\n",
       "      <th>okrug</th>\n",
       "      <th>area</th>\n",
       "    </tr>\n",
       "  </thead>\n",
       "  <tbody>\n",
       "    <tr>\n",
       "      <td>0</td>\n",
       "      <td>Перовский проезд</td>\n",
       "      <td>1</td>\n",
       "      <td>114</td>\n",
       "      <td>ЮВАО</td>\n",
       "      <td>Район Лефортово</td>\n",
       "    </tr>\n",
       "    <tr>\n",
       "      <td>1</td>\n",
       "      <td>Перовский проезд</td>\n",
       "      <td>1</td>\n",
       "      <td>117</td>\n",
       "      <td>ЮВАО</td>\n",
       "      <td>Нижегородский район</td>\n",
       "    </tr>\n",
       "    <tr>\n",
       "      <td>2</td>\n",
       "      <td>Известковый переулок</td>\n",
       "      <td>1</td>\n",
       "      <td>18</td>\n",
       "      <td>ЦАО</td>\n",
       "      <td>Таганский район</td>\n",
       "    </tr>\n",
       "    <tr>\n",
       "      <td>3</td>\n",
       "      <td>Измайловская площадь</td>\n",
       "      <td>1</td>\n",
       "      <td>27</td>\n",
       "      <td>ВАО</td>\n",
       "      <td>Район Измайлово</td>\n",
       "    </tr>\n",
       "    <tr>\n",
       "      <td>4</td>\n",
       "      <td>переулок Красина</td>\n",
       "      <td>1</td>\n",
       "      <td>17</td>\n",
       "      <td>ЦАО</td>\n",
       "      <td>Пресненский район</td>\n",
       "    </tr>\n",
       "    <tr>\n",
       "      <td>...</td>\n",
       "      <td>...</td>\n",
       "      <td>...</td>\n",
       "      <td>...</td>\n",
       "      <td>...</td>\n",
       "      <td>...</td>\n",
       "    </tr>\n",
       "    <tr>\n",
       "      <td>535</td>\n",
       "      <td>улица Крутицкий Вал</td>\n",
       "      <td>1</td>\n",
       "      <td>122</td>\n",
       "      <td>ЮВАО</td>\n",
       "      <td>Южнопортовый Район</td>\n",
       "    </tr>\n",
       "    <tr>\n",
       "      <td>536</td>\n",
       "      <td>Бескудниковский проезд</td>\n",
       "      <td>1</td>\n",
       "      <td>56</td>\n",
       "      <td>САО</td>\n",
       "      <td>Бескудниковский Район</td>\n",
       "    </tr>\n",
       "    <tr>\n",
       "      <td>537</td>\n",
       "      <td>улица Кутузова</td>\n",
       "      <td>1</td>\n",
       "      <td>41</td>\n",
       "      <td>ЗАО</td>\n",
       "      <td>Можайский Район</td>\n",
       "    </tr>\n",
       "    <tr>\n",
       "      <td>538</td>\n",
       "      <td>улица Кухмистерова</td>\n",
       "      <td>1</td>\n",
       "      <td>118</td>\n",
       "      <td>ЮВАО</td>\n",
       "      <td>Район Печатники</td>\n",
       "    </tr>\n",
       "    <tr>\n",
       "      <td>539</td>\n",
       "      <td>Библиотечная улица</td>\n",
       "      <td>1</td>\n",
       "      <td>18</td>\n",
       "      <td>ЦАО</td>\n",
       "      <td>Таганский район</td>\n",
       "    </tr>\n",
       "  </tbody>\n",
       "</table>\n",
       "<p>540 rows × 5 columns</p>\n",
       "</div>"
      ],
      "text/plain": [
       "                 streetname  id  areaid okrug                   area\n",
       "0          Перовский проезд   1     114  ЮВАО        Район Лефортово\n",
       "1          Перовский проезд   1     117  ЮВАО    Нижегородский район\n",
       "2      Известковый переулок   1      18   ЦАО        Таганский район\n",
       "3      Измайловская площадь   1      27   ВАО        Район Измайлово\n",
       "4          переулок Красина   1      17   ЦАО      Пресненский район\n",
       "..                      ...  ..     ...   ...                    ...\n",
       "535     улица Крутицкий Вал   1     122  ЮВАО     Южнопортовый Район\n",
       "536  Бескудниковский проезд   1      56   САО  Бескудниковский Район\n",
       "537          улица Кутузова   1      41   ЗАО        Можайский Район\n",
       "538      улица Кухмистерова   1     118  ЮВАО        Район Печатники\n",
       "539      Библиотечная улица   1      18   ЦАО        Таганский район\n",
       "\n",
       "[540 rows x 5 columns]"
      ]
     },
     "execution_count": 59,
     "metadata": {},
     "output_type": "execute_result"
    }
   ],
   "source": [
    "one_id_area\n",
    "#Потерялось 9 строк"
   ]
  },
  {
   "cell_type": "code",
   "execution_count": 60,
   "metadata": {},
   "outputs": [
    {
     "name": "stdout",
     "output_type": "stream",
     "text": [
      "Округа, в которых находятся улицы с 1 объектом общественного питания:\n",
      "- ВАО\n",
      "- ЗАО\n",
      "- Зеленоград\n",
      "- САО\n",
      "- СВАО\n",
      "- СЗАО\n",
      "- ЦАО\n",
      "- ЮАО\n",
      "- ЮВАО\n",
      "- ЮЗАО\n"
     ]
    }
   ],
   "source": [
    "print('Округа, в которых находятся улицы с 1 объектом общественного питания:')\n",
    "for okrug in one_id_area['okrug'].sort_values().unique():\n",
    "    print('-', okrug)"
   ]
  },
  {
   "cell_type": "code",
   "execution_count": 61,
   "metadata": {},
   "outputs": [
    {
     "name": "stdout",
     "output_type": "stream",
     "text": [
      "Районы, в которых находятся улицы с 1 объектом общественного питания:\n",
      "- Алексеевский район\n",
      "- Алтуфьевский район\n",
      "- Бабушкинский район\n",
      "- Басманный район\n",
      "- Бескудниковский Район\n",
      "- Бутырский район\n",
      "- Войковский Район\n",
      "- Головинский район\n",
      "- Даниловский район\n",
      "- Дмитровский район\n",
      "- Донской район\n",
      "- Красносельский район\n",
      "- Лосиноостровский район\n",
      "- Мещанский район\n",
      "- Можайский Район\n",
      "- Молжаниновский район\n",
      "- Нагорный район\n",
      "- Нижегородский район\n",
      "- Обручевский район\n",
      "- Останкинский район\n",
      "- Панфиловский район\n",
      "- Пресненский район\n",
      "- Район Арбат\n",
      "- Район Аэропорт\n",
      "- Район Беговой\n",
      "- Район Бирюлево Восточное\n",
      "- Район Богородское\n",
      "- Район Внуково\n",
      "- Район Восточное Измайлово\n",
      "- Район Восточный\n",
      "- Район Выхино-Жулебино\n",
      "- Район Гольяново\n",
      "- Район Дорогомилово\n",
      "- Район Замоскворечье\n",
      "- Район Западное Дегунино\n",
      "- Район Зюзино\n",
      "- Район Ивановское\n",
      "- Район Измайлово\n",
      "- Район Коньково\n",
      "- Район Коптево\n",
      "- Район Косино-Ухтомский\n",
      "- Район Котловка\n",
      "- Район Крюково\n",
      "- Район Кузьминки\n",
      "- Район Кунцево\n",
      "- Район Куркино\n",
      "- Район Левобережный\n",
      "- Район Лефортово\n",
      "- Район Люблино\n",
      "- Район Марфино\n",
      "- Район Марьина роща\n",
      "- Район Марьино\n",
      "- Район Матушкино-Савелки\n",
      "- Район Метрогородок\n",
      "- Район Митино\n",
      "- Район Москворечье-Сабурово\n",
      "- Район Ново-Переделкино\n",
      "- Район Новогиреево\n",
      "- Район Отрадное\n",
      "- Район Очаково-Матвеевское\n",
      "- Район Перово\n",
      "- Район Печатники\n",
      "- Район Покровское-Стрешнево\n",
      "- Район Преображенское\n",
      "- Район Раменки\n",
      "- Район Ростокино\n",
      "- Район Свиблово\n",
      "- Район Северное Бутово\n",
      "- Район Северное Измайлово\n",
      "- Район Северное Медведково\n",
      "- Район Северный\n",
      "- Район Сокол\n",
      "- Район Соколиная Гора\n",
      "- Район Сокольники\n",
      "- Район Солнцево\n",
      "- Район Строгино\n",
      "- Район Текстильщики\n",
      "- Район Фили-Давыдково\n",
      "- Район Хамовники\n",
      "- Район Хорошево-Мневники\n",
      "- Район Царицыно\n",
      "- Район Черемушки\n",
      "- Район Чертаново Северное\n",
      "- Район Чертаново Южное\n",
      "- Район Щукино\n",
      "- Район Южное Бутово\n",
      "- Район Южное Медведково\n",
      "- Район Южное Тушино\n",
      "- Район Якиманка\n",
      "- Район Ясенево\n",
      "- Рязанский район\n",
      "- Савеловский район\n",
      "- Таганский район\n",
      "- Тверской район\n",
      "- Тимирязевский Район\n",
      "- Хорошевский район\n",
      "- Южнопортовый Район\n",
      "- Ярославский Район\n"
     ]
    }
   ],
   "source": [
    "print('Районы, в которых находятся улицы с 1 объектом общественного питания:')\n",
    "for area in one_id_area['area'].sort_values().unique():\n",
    "    print('-', area)"
   ]
  },
  {
   "cell_type": "code",
   "execution_count": 62,
   "metadata": {},
   "outputs": [
    {
     "name": "stdout",
     "output_type": "stream",
     "text": [
      "Районы в которых находится наибольшее количество улиц с 1 объектом общественного питания:\n",
      "area\n",
      "Таганский район        27\n",
      "Район Хамовники        24\n",
      "Басманный район        21\n",
      "Тверской район         20\n",
      "Пресненский район      19\n",
      "Район Марьина роща     18\n",
      "Мещанский район        17\n",
      "Район Арбат            17\n",
      "Район Замоскворечье    14\n",
      "Район Лефортово        12\n",
      "Name: streetname, dtype: int64\n"
     ]
    }
   ],
   "source": [
    "print('Районы в которых находится наибольшее количество улиц с 1 объектом общественного питания:')\n",
    "print(one_id_area.groupby('area')['streetname'].count().sort_values(ascending=False).head(10))"
   ]
  },
  {
   "cell_type": "markdown",
   "metadata": {},
   "source": [
    " Список районов с наибольшим количеством улиц с 1 объектом общественного питания, но строить предположения сложно, необходимо проводить более подробный анализ."
   ]
  },
  {
   "cell_type": "markdown",
   "metadata": {},
   "source": [
    "### Распределение количества посадочных мест для улиц с большим количеством объектов общественного питания. Закономерности."
   ]
  },
  {
   "cell_type": "code",
   "execution_count": 63,
   "metadata": {},
   "outputs": [
    {
     "data": {
      "text/html": [
       "<div>\n",
       "<style scoped>\n",
       "    .dataframe tbody tr th:only-of-type {\n",
       "        vertical-align: middle;\n",
       "    }\n",
       "\n",
       "    .dataframe tbody tr th {\n",
       "        vertical-align: top;\n",
       "    }\n",
       "\n",
       "    .dataframe thead th {\n",
       "        text-align: right;\n",
       "    }\n",
       "</style>\n",
       "<table border=\"1\" class=\"dataframe\">\n",
       "  <thead>\n",
       "    <tr style=\"text-align: right;\">\n",
       "      <th></th>\n",
       "      <th>streetname</th>\n",
       "      <th>id</th>\n",
       "    </tr>\n",
       "  </thead>\n",
       "  <tbody>\n",
       "    <tr>\n",
       "      <td>0</td>\n",
       "      <td>проспект Мира</td>\n",
       "      <td>204</td>\n",
       "    </tr>\n",
       "    <tr>\n",
       "      <td>1</td>\n",
       "      <td>Профсоюзная улица</td>\n",
       "      <td>182</td>\n",
       "    </tr>\n",
       "    <tr>\n",
       "      <td>2</td>\n",
       "      <td>Ленинградский проспект</td>\n",
       "      <td>171</td>\n",
       "    </tr>\n",
       "    <tr>\n",
       "      <td>3</td>\n",
       "      <td>Пресненская набережная</td>\n",
       "      <td>167</td>\n",
       "    </tr>\n",
       "    <tr>\n",
       "      <td>4</td>\n",
       "      <td>Варшавское шоссе</td>\n",
       "      <td>164</td>\n",
       "    </tr>\n",
       "    <tr>\n",
       "      <td>5</td>\n",
       "      <td>Ленинский проспект</td>\n",
       "      <td>147</td>\n",
       "    </tr>\n",
       "    <tr>\n",
       "      <td>6</td>\n",
       "      <td>проспект Вернадского</td>\n",
       "      <td>132</td>\n",
       "    </tr>\n",
       "    <tr>\n",
       "      <td>7</td>\n",
       "      <td>Кутузовский проспект</td>\n",
       "      <td>114</td>\n",
       "    </tr>\n",
       "    <tr>\n",
       "      <td>8</td>\n",
       "      <td>Каширское шоссе</td>\n",
       "      <td>112</td>\n",
       "    </tr>\n",
       "    <tr>\n",
       "      <td>9</td>\n",
       "      <td>Кировоградская улица</td>\n",
       "      <td>110</td>\n",
       "    </tr>\n",
       "  </tbody>\n",
       "</table>\n",
       "</div>"
      ],
      "text/plain": [
       "               streetname   id\n",
       "0           проспект Мира  204\n",
       "1       Профсоюзная улица  182\n",
       "2  Ленинградский проспект  171\n",
       "3  Пресненская набережная  167\n",
       "4        Варшавское шоссе  164\n",
       "5      Ленинский проспект  147\n",
       "6    проспект Вернадского  132\n",
       "7    Кутузовский проспект  114\n",
       "8         Каширское шоссе  112\n",
       "9    Кировоградская улица  110"
      ]
     },
     "execution_count": 63,
     "metadata": {},
     "output_type": "execute_result"
    }
   ],
   "source": [
    "#Вспоминаю таблицу со списком топ10 улиц по количеству объектов общественного питания\n",
    "top10"
   ]
  },
  {
   "cell_type": "code",
   "execution_count": 64,
   "metadata": {},
   "outputs": [],
   "source": [
    "#Выбираю из df только улицы из таблицы top10\n",
    "top10 = top10.rename(columns={'streetname':'street_name'})\n",
    "top10_streets_list = top10['street_name'].to_list()\n",
    "top10_streets_data = df.query('street_name in @top10_streets_list')"
   ]
  },
  {
   "cell_type": "code",
   "execution_count": 65,
   "metadata": {
    "scrolled": false
   },
   "outputs": [
    {
     "data": {
      "image/png": "[encoded data removed]",
      "text/plain": [
       "<Figure size 1080x864 with 1 Axes>"
      ]
     },
     "metadata": {},
     "output_type": "display_data"
    }
   ],
   "source": [
    "plt.figure(figsize=(15,12))\n",
    "plt.xlim(0,300)\n",
    "sns.boxplot(data=top10_streets_data, x='number_of_seats', y='street_name')\n",
    "plt.title('Распределение количества посадочных мест для улиц с большим количеством объектов общественного питания').set_size(15)\n",
    "sns.set(rc={'figure.figsize':(15,15)})\n",
    "plt.ylabel('')\n",
    "plt.xlabel('Количество посадочных мест').set_size(13)\n",
    "plt.xticks(rotation=0, size = 13)\n",
    "plt.show()"
   ]
  },
  {
   "cell_type": "code",
   "execution_count": 66,
   "metadata": {},
   "outputs": [
    {
     "name": "stdout",
     "output_type": "stream",
     "text": [
      "Среднее количество посадочных мест на топ-10 улицах по количеству объектов общественного питания: 40.0\n"
     ]
    }
   ],
   "source": [
    "print('Среднее количество посадочных мест на топ-10 улицах по количеству объектов общественного питания: {}'.format(top10_streets_data['number_of_seats'].median()))"
   ]
  },
  {
   "cell_type": "markdown",
   "metadata": {},
   "source": [
    "Относительно небольшое количество посадочных мест, в среднем 40, может быть так же связано с тем, что стоимость аренды высокая и площадь заведений относительно небольшая. В среднем на этих улицах количество посадочных мест находится в диапозоне 45-85, наименьшее на Прененской набережной, наибольшее на Кутузовском проспекте."
   ]
  },
  {
   "cell_type": "code",
   "execution_count": 67,
   "metadata": {},
   "outputs": [],
   "source": [
    "#Таблица с топ-10 улиц по количеству объектов и среднему количеству посадочных мест \n",
    "top_10_streets_plot=top10_streets_data.groupby('street_name').agg({'id' : 'count', 'number_of_seats':'median'}).sort_values(by='id',ascending=False).head(10).reset_index()"
   ]
  },
  {
   "cell_type": "code",
   "execution_count": 68,
   "metadata": {},
   "outputs": [
    {
     "data": {
      "text/html": [
       "<div>\n",
       "<style scoped>\n",
       "    .dataframe tbody tr th:only-of-type {\n",
       "        vertical-align: middle;\n",
       "    }\n",
       "\n",
       "    .dataframe tbody tr th {\n",
       "        vertical-align: top;\n",
       "    }\n",
       "\n",
       "    .dataframe thead th {\n",
       "        text-align: right;\n",
       "    }\n",
       "</style>\n",
       "<table border=\"1\" class=\"dataframe\">\n",
       "  <thead>\n",
       "    <tr style=\"text-align: right;\">\n",
       "      <th></th>\n",
       "      <th>street_name</th>\n",
       "      <th>id</th>\n",
       "      <th>number_of_seats</th>\n",
       "    </tr>\n",
       "  </thead>\n",
       "  <tbody>\n",
       "    <tr>\n",
       "      <td>0</td>\n",
       "      <td>проспект Мира</td>\n",
       "      <td>204</td>\n",
       "      <td>46.50</td>\n",
       "    </tr>\n",
       "    <tr>\n",
       "      <td>1</td>\n",
       "      <td>Профсоюзная улица</td>\n",
       "      <td>182</td>\n",
       "      <td>24.00</td>\n",
       "    </tr>\n",
       "    <tr>\n",
       "      <td>2</td>\n",
       "      <td>Ленинградский проспект</td>\n",
       "      <td>171</td>\n",
       "      <td>40.00</td>\n",
       "    </tr>\n",
       "    <tr>\n",
       "      <td>3</td>\n",
       "      <td>Пресненская набережная</td>\n",
       "      <td>167</td>\n",
       "      <td>30.00</td>\n",
       "    </tr>\n",
       "    <tr>\n",
       "      <td>4</td>\n",
       "      <td>Варшавское шоссе</td>\n",
       "      <td>164</td>\n",
       "      <td>30.00</td>\n",
       "    </tr>\n",
       "    <tr>\n",
       "      <td>5</td>\n",
       "      <td>Ленинский проспект</td>\n",
       "      <td>147</td>\n",
       "      <td>45.00</td>\n",
       "    </tr>\n",
       "    <tr>\n",
       "      <td>6</td>\n",
       "      <td>проспект Вернадского</td>\n",
       "      <td>132</td>\n",
       "      <td>40.00</td>\n",
       "    </tr>\n",
       "    <tr>\n",
       "      <td>7</td>\n",
       "      <td>Кутузовский проспект</td>\n",
       "      <td>114</td>\n",
       "      <td>40.00</td>\n",
       "    </tr>\n",
       "    <tr>\n",
       "      <td>8</td>\n",
       "      <td>Каширское шоссе</td>\n",
       "      <td>112</td>\n",
       "      <td>25.00</td>\n",
       "    </tr>\n",
       "    <tr>\n",
       "      <td>9</td>\n",
       "      <td>Кировоградская улица</td>\n",
       "      <td>110</td>\n",
       "      <td>30.00</td>\n",
       "    </tr>\n",
       "  </tbody>\n",
       "</table>\n",
       "</div>"
      ],
      "text/plain": [
       "              street_name   id  number_of_seats\n",
       "0           проспект Мира  204            46.50\n",
       "1       Профсоюзная улица  182            24.00\n",
       "2  Ленинградский проспект  171            40.00\n",
       "3  Пресненская набережная  167            30.00\n",
       "4        Варшавское шоссе  164            30.00\n",
       "5      Ленинский проспект  147            45.00\n",
       "6    проспект Вернадского  132            40.00\n",
       "7    Кутузовский проспект  114            40.00\n",
       "8         Каширское шоссе  112            25.00\n",
       "9    Кировоградская улица  110            30.00"
      ]
     },
     "execution_count": 68,
     "metadata": {},
     "output_type": "execute_result"
    }
   ],
   "source": [
    "top_10_streets_plot"
   ]
  },
  {
   "cell_type": "code",
   "execution_count": 69,
   "metadata": {},
   "outputs": [
    {
     "data": {
      "image/png": "[encoded data removed]",
      "text/plain": [
       "<Figure size 1080x1080 with 1 Axes>"
      ]
     },
     "metadata": {},
     "output_type": "display_data"
    }
   ],
   "source": [
    "#График для использования в презентации\n",
    "ax = sns.barplot(x='number_of_seats', y='street_name', data=top_10_streets_plot, palette=\"Set2\")\n",
    "ax.set_xlabel('Количество мест').set_size(13)\n",
    "ax.set_ylabel('Название улицы').set_size(13)\n",
    "ax.set_title('Среднее количество посадочных мест').set_size(15)\n",
    "plt.xticks(rotation=0,size=20)\n",
    "plt.yticks(rotation=0, size = 20)\n",
    "plt.show()"
   ]
  },
  {
   "cell_type": "markdown",
   "metadata": {},
   "source": [
    "## Общие выводы"
   ]
  },
  {
   "cell_type": "markdown",
   "metadata": {},
   "source": [
    "* Наибольшие доли среди типов объектов общественного питания составляют кафе (40%), столовые (17%), рестораны (15%), фаст-фуды (13%) и бары 6%. Несетевые заведения составляют 81% от общего количества объектов общественного питания,а сетевые всего 19%.\n",
    "* В рамках сетевых заведений по объектам характерно следующее распределение: кафе(47%), фаст-фуд (27%),рестораны(18%). Скорее всего быть сетью выгодно, если есть положительный опыт, то люди будут выбирать сетевые объекты, не все любят экспериментировать, а тем более с едой. Вероятно человек выберет сетевое кафе или фаст-фуд, потому что это проверенное место, а вот насчет неизвестного заведения - подумает. Для сетевых заведений характерно относительно мало заведений с большим количеством посадочных мест. В 95% сетей не более 154 посадочных мест и 12 заведений в среднем.\n",
    "* По среднему количеству посадочных мест лидируют столовые (130), затем рестораны (96), буфеты (51), бары (43) и кафе (39). Столовые специализируются на том, чтобы как можно больше людей могло разместиться, чтобы съесть всю приготовленную еду, так же как и рестораны, но не в таких масштабах. А вот буфеты,бары и кафе так же могут отдавать на вынос и такие большие площади не нужны.\n",
    "* Топ-10 улиц по количеству объектов общественного питания и районы города в которых они располагаются:\n",
    "<ol>\n",
    "<li>Проспект Мира: Мещанский, Марьина Роща, Алексеевский, Останкинский, Свиблово, Ростокино;</li>\n",
    "<li>Профсоюзная улица: Академический, Коньково, Обручевский, Тёплый Стан, Черёмушки, Ясенево;</li>\n",
    "<li>Ленинградский проспект: Беговой, Аэропорт, Сокол, Хорошёвский;</li>\n",
    "<li>Пресненская набережная: Пресненский;</li>\n",
    "<li>Варшавское шоссе: Донской, Нагатино-Садовники, Нагорный;</li>\n",
    "<li>Ленинский проспект: Гагаринский и Донской;</li>\n",
    "<li>Проспект Вернадского: Проспект Вернадского;</li>\n",
    "<li>Кутузовский проспект: Дорогомилово, Фили-Давыдково;</li>\n",
    "<li>Каширское шоссе: Нагатино-Садовники и Нагорный;</li>\n",
    "<li>Кировоградская улица: Чертаново Северное, Чертаново Центральное и Чертаново Южное.</li>\n",
    "</ol>\n",
    "В среднем 40 посадочных мест в заведениях на топ-10 улицах по количеству объектов общественного питания. Количество посадочных мест находится в диапозоне 45-85, наименьшее на Прененской набережной, наибольшее на Кутузовском проспекте.\n",
    "* Так же в городе 549 улиц с 1 объектом общественного питания, но для анализа данных объектов,думаю, необходимо дополнительное исследование. Улицы находятся в большом количество районов города."
   ]
  },
  {
   "cell_type": "markdown",
   "metadata": {},
   "source": [
    "По данному исследованию сложно дать точные рекомендации, так как не проводился глубокий анализ, мы можно сказать познакоимились с миром общественного питания, но есть несколько интересных моментов.\n",
    "\n",
    "Наибольшее количество заведений принадлежит кафе (как в общем количестве, так и в сетевых объектах), но нельзя утверждать, что они наиболее популярны, потому что количество не равно качество и популярность. Для объекта общественного питания важно расположение, так как это напрямую влияет на проходимость и количество посетителей, а соответственно на выручку, поэтому данный вопрос нужно изучать подробнее и опираться на то какой тип заведения хотели бы открыть инвесторы и учредители, и на кого объект будет ориентирован. \n",
    "\n",
    "Необходимо провести дополнительный анализ по районам, какие районы являются (условно) студентческими, бизнес, спальными и так далее, так как вряд ли будет большой спрос на рестораны в студентческом районе. Если ориентироваться только на топ-10 улиц, то нужно учитывать очень высокую конкуренцию, а если рассмотреть другие районы/улицы подробнее, то можно обнаружить перспективный район или свободную улицу и занять там выгодное положение.\n",
    "\n",
    "Можно предположить, что оригинальное кафе с роботами будет интересно \"избалованному\" клиенту и лучше расположить его на одной из топ-10 улиц, так же предполагая, что по этим улицам могут прогуливаться туристы. Но здесь все-равно необходим более детальный анализ. Учитывая, что обслуживание роботами вряд ли обходится дешево, то необходим так же провести анализ цен в заведениях, которые находятся в предполагаемом районе или исходя из анализа цен подобрать подходящие районы.\n",
    "\n"
   ]
  },
  {
   "cell_type": "markdown",
   "metadata": {},
   "source": [
    "Презентация: https://drive.google.com/file/d/1XoGLb4MX5zOPsb_cQ2rApNfPOqhTW4Bk/view?usp=sharing"
   ]
  }
 ],
 "metadata": {
  "ExecuteTimeLog": [
   {
    "duration": 1640,
    "start_time": "2021-06-14T09:11:56.568Z"
   },
   {
    "duration": 6,
    "start_time": "2021-06-14T09:12:42.461Z"
   },
   {
    "duration": 59,
    "start_time": "2021-06-14T09:13:51.948Z"
   },
   {
    "duration": 19,
    "start_time": "2021-06-14T09:13:59.261Z"
   },
   {
    "duration": 15,
    "start_time": "2021-06-14T09:14:45.071Z"
   },
   {
    "duration": 26,
    "start_time": "2021-06-14T09:23:00.578Z"
   },
   {
    "duration": 23,
    "start_time": "2021-06-14T09:23:37.560Z"
   },
   {
    "duration": 12,
    "start_time": "2021-06-14T09:24:02.414Z"
   },
   {
    "duration": 12,
    "start_time": "2021-06-14T09:24:22.130Z"
   },
   {
    "duration": 8,
    "start_time": "2021-06-14T09:26:36.745Z"
   },
   {
    "duration": 627,
    "start_time": "2021-06-14T09:28:40.475Z"
   },
   {
    "duration": 7,
    "start_time": "2021-06-14T09:28:53.185Z"
   },
   {
    "duration": 4,
    "start_time": "2021-06-14T09:31:12.125Z"
   },
   {
    "duration": 5,
    "start_time": "2021-06-14T09:31:28.937Z"
   },
   {
    "duration": 6,
    "start_time": "2021-06-14T09:32:05.289Z"
   },
   {
    "duration": 5,
    "start_time": "2021-06-14T09:33:33.399Z"
   },
   {
    "duration": 338,
    "start_time": "2021-06-14T09:34:08.744Z"
   },
   {
    "duration": 41,
    "start_time": "2021-06-14T09:34:25.108Z"
   },
   {
    "duration": 12,
    "start_time": "2021-06-14T09:37:31.639Z"
   },
   {
    "duration": 10,
    "start_time": "2021-06-14T09:37:45.495Z"
   },
   {
    "duration": 30,
    "start_time": "2021-06-14T09:38:27.505Z"
   },
   {
    "duration": 6,
    "start_time": "2021-06-14T09:38:35.838Z"
   },
   {
    "duration": 32,
    "start_time": "2021-06-14T09:40:32.218Z"
   },
   {
    "duration": 22,
    "start_time": "2021-06-14T09:43:35.692Z"
   },
   {
    "duration": 2167,
    "start_time": "2021-06-14T09:44:02.540Z"
   },
   {
    "duration": 74,
    "start_time": "2021-06-14T09:44:04.711Z"
   },
   {
    "duration": 25,
    "start_time": "2021-06-14T09:44:04.790Z"
   },
   {
    "duration": 20,
    "start_time": "2021-06-14T09:44:04.819Z"
   },
   {
    "duration": 48,
    "start_time": "2021-06-14T09:44:04.842Z"
   },
   {
    "duration": 12,
    "start_time": "2021-06-14T09:44:04.893Z"
   },
   {
    "duration": 59,
    "start_time": "2021-06-14T09:44:04.908Z"
   },
   {
    "duration": 7,
    "start_time": "2021-06-14T09:44:04.969Z"
   },
   {
    "duration": 8,
    "start_time": "2021-06-14T09:44:04.979Z"
   },
   {
    "duration": 9,
    "start_time": "2021-06-14T09:44:04.990Z"
   },
   {
    "duration": 63,
    "start_time": "2021-06-14T09:44:05.002Z"
   },
   {
    "duration": 499,
    "start_time": "2021-06-14T09:45:49.855Z"
   },
   {
    "duration": 8118,
    "start_time": "2021-06-14T09:49:14.535Z"
   },
   {
    "duration": 22,
    "start_time": "2021-06-14T09:49:36.456Z"
   },
   {
    "duration": 9,
    "start_time": "2021-06-14T09:50:41.873Z"
   },
   {
    "duration": 32,
    "start_time": "2021-06-14T09:50:42.526Z"
   },
   {
    "duration": 31,
    "start_time": "2021-06-14T09:50:44.106Z"
   },
   {
    "duration": 12,
    "start_time": "2021-06-14T09:51:55.156Z"
   },
   {
    "duration": 10,
    "start_time": "2021-06-14T09:52:18.006Z"
   },
   {
    "duration": 7,
    "start_time": "2021-06-14T09:55:20.850Z"
   },
   {
    "duration": 10,
    "start_time": "2021-06-14T09:55:50.107Z"
   },
   {
    "duration": 7,
    "start_time": "2021-06-14T09:56:02.760Z"
   },
   {
    "duration": 5,
    "start_time": "2021-06-14T09:56:19.389Z"
   },
   {
    "duration": 6,
    "start_time": "2021-06-14T09:56:19.939Z"
   },
   {
    "duration": 8,
    "start_time": "2021-06-14T09:56:37.820Z"
   },
   {
    "duration": 349,
    "start_time": "2021-06-14T10:00:05.445Z"
   },
   {
    "duration": 11,
    "start_time": "2021-06-14T10:00:17.126Z"
   },
   {
    "duration": 18,
    "start_time": "2021-06-14T10:00:36.715Z"
   },
   {
    "duration": 352,
    "start_time": "2021-06-14T10:02:45.734Z"
   },
   {
    "duration": 18,
    "start_time": "2021-06-14T10:03:06.744Z"
   },
   {
    "duration": 329,
    "start_time": "2021-06-14T10:04:50.075Z"
   },
   {
    "duration": 8,
    "start_time": "2021-06-14T10:06:09.311Z"
   },
   {
    "duration": 8,
    "start_time": "2021-06-14T10:06:38.045Z"
   },
   {
    "duration": 2051,
    "start_time": "2021-06-14T10:06:56.939Z"
   },
   {
    "duration": 76,
    "start_time": "2021-06-14T10:06:58.994Z"
   },
   {
    "duration": 24,
    "start_time": "2021-06-14T10:06:59.075Z"
   },
   {
    "duration": 19,
    "start_time": "2021-06-14T10:06:59.103Z"
   },
   {
    "duration": 64,
    "start_time": "2021-06-14T10:06:59.126Z"
   },
   {
    "duration": 15,
    "start_time": "2021-06-14T10:06:59.193Z"
   },
   {
    "duration": 14,
    "start_time": "2021-06-14T10:06:59.212Z"
   },
   {
    "duration": 53,
    "start_time": "2021-06-14T10:06:59.229Z"
   },
   {
    "duration": 11,
    "start_time": "2021-06-14T10:06:59.287Z"
   },
   {
    "duration": 15,
    "start_time": "2021-06-14T10:06:59.301Z"
   },
   {
    "duration": 22,
    "start_time": "2021-06-14T10:06:59.319Z"
   },
   {
    "duration": 8,
    "start_time": "2021-06-14T10:06:59.363Z"
   },
   {
    "duration": 17,
    "start_time": "2021-06-14T10:06:59.375Z"
   },
   {
    "duration": 67,
    "start_time": "2021-06-14T10:06:59.395Z"
   },
   {
    "duration": 9,
    "start_time": "2021-06-14T10:07:39.787Z"
   },
   {
    "duration": 119,
    "start_time": "2021-06-14T10:07:45.924Z"
   },
   {
    "duration": 7,
    "start_time": "2021-06-14T10:07:51.705Z"
   },
   {
    "duration": 322,
    "start_time": "2021-06-14T10:20:03.183Z"
   },
   {
    "duration": 309,
    "start_time": "2021-06-14T10:20:59.095Z"
   },
   {
    "duration": 332,
    "start_time": "2021-06-14T10:21:10.977Z"
   },
   {
    "duration": 523,
    "start_time": "2021-06-14T10:21:29.999Z"
   },
   {
    "duration": 9,
    "start_time": "2021-06-14T10:22:01.424Z"
   },
   {
    "duration": 367,
    "start_time": "2021-06-14T10:22:13.539Z"
   },
   {
    "duration": 9,
    "start_time": "2021-06-14T10:22:27.031Z"
   },
   {
    "duration": 9,
    "start_time": "2021-06-14T10:23:10.917Z"
   },
   {
    "duration": 410,
    "start_time": "2021-06-14T10:23:24.636Z"
   },
   {
    "duration": 721,
    "start_time": "2021-06-14T10:23:40.738Z"
   },
   {
    "duration": 523,
    "start_time": "2021-06-14T10:24:17.196Z"
   },
   {
    "duration": 306,
    "start_time": "2021-06-14T10:25:36.665Z"
   },
   {
    "duration": 299,
    "start_time": "2021-06-14T10:26:00.056Z"
   },
   {
    "duration": 2027,
    "start_time": "2021-06-14T10:27:24.851Z"
   },
   {
    "duration": 57,
    "start_time": "2021-06-14T10:27:26.881Z"
   },
   {
    "duration": 16,
    "start_time": "2021-06-14T10:27:26.941Z"
   },
   {
    "duration": 14,
    "start_time": "2021-06-14T10:27:26.960Z"
   },
   {
    "duration": 23,
    "start_time": "2021-06-14T10:27:26.976Z"
   },
   {
    "duration": 11,
    "start_time": "2021-06-14T10:27:27.002Z"
   },
   {
    "duration": 8,
    "start_time": "2021-06-14T10:27:27.015Z"
   },
   {
    "duration": 54,
    "start_time": "2021-06-14T10:27:27.025Z"
   },
   {
    "duration": 8,
    "start_time": "2021-06-14T10:27:27.083Z"
   },
   {
    "duration": 8,
    "start_time": "2021-06-14T10:27:27.094Z"
   },
   {
    "duration": 6,
    "start_time": "2021-06-14T10:27:27.104Z"
   },
   {
    "duration": 49,
    "start_time": "2021-06-14T10:27:27.113Z"
   },
   {
    "duration": 43,
    "start_time": "2021-06-14T10:27:27.165Z"
   },
   {
    "duration": 14,
    "start_time": "2021-06-14T10:27:27.211Z"
   },
   {
    "duration": 334,
    "start_time": "2021-06-14T10:27:27.228Z"
   },
   {
    "duration": 463,
    "start_time": "2021-06-14T10:28:06.015Z"
   },
   {
    "duration": 427,
    "start_time": "2021-06-14T10:28:17.201Z"
   },
   {
    "duration": 506,
    "start_time": "2021-06-14T10:28:24.194Z"
   },
   {
    "duration": 623,
    "start_time": "2021-06-14T10:28:47.349Z"
   },
   {
    "duration": 530,
    "start_time": "2021-06-14T10:29:16.761Z"
   },
   {
    "duration": 516,
    "start_time": "2021-06-14T10:34:33.386Z"
   },
   {
    "duration": 693,
    "start_time": "2021-06-14T10:34:41.146Z"
   },
   {
    "duration": 692,
    "start_time": "2021-06-14T10:34:56.427Z"
   },
   {
    "duration": 698,
    "start_time": "2021-06-14T10:35:03.516Z"
   },
   {
    "duration": 516,
    "start_time": "2021-06-14T10:35:11.073Z"
   },
   {
    "duration": 518,
    "start_time": "2021-06-14T10:35:27.057Z"
   },
   {
    "duration": 222,
    "start_time": "2021-06-14T13:27:56.022Z"
   },
   {
    "duration": 1552,
    "start_time": "2021-06-14T13:28:08.467Z"
   },
   {
    "duration": 155,
    "start_time": "2021-06-14T13:28:10.022Z"
   },
   {
    "duration": 17,
    "start_time": "2021-06-14T13:28:10.180Z"
   },
   {
    "duration": 9,
    "start_time": "2021-06-14T13:28:10.201Z"
   },
   {
    "duration": 17,
    "start_time": "2021-06-14T13:28:10.212Z"
   },
   {
    "duration": 8,
    "start_time": "2021-06-14T13:28:10.230Z"
   },
   {
    "duration": 8,
    "start_time": "2021-06-14T13:28:10.240Z"
   },
   {
    "duration": 51,
    "start_time": "2021-06-14T13:28:10.250Z"
   },
   {
    "duration": 6,
    "start_time": "2021-06-14T13:28:10.303Z"
   },
   {
    "duration": 7,
    "start_time": "2021-06-14T13:28:10.310Z"
   },
   {
    "duration": 5,
    "start_time": "2021-06-14T13:28:10.318Z"
   },
   {
    "duration": 6,
    "start_time": "2021-06-14T13:28:10.325Z"
   },
   {
    "duration": 59,
    "start_time": "2021-06-14T13:28:10.333Z"
   },
   {
    "duration": 9,
    "start_time": "2021-06-14T13:28:10.394Z"
   },
   {
    "duration": 683,
    "start_time": "2021-06-14T13:28:10.406Z"
   },
   {
    "duration": 343,
    "start_time": "2021-06-14T13:28:23.173Z"
   },
   {
    "duration": 180,
    "start_time": "2021-06-14T13:34:26.760Z"
   },
   {
    "duration": 343,
    "start_time": "2021-06-14T13:36:26.035Z"
   },
   {
    "duration": 427,
    "start_time": "2021-06-14T13:36:34.780Z"
   },
   {
    "duration": 418,
    "start_time": "2021-06-14T13:36:41.406Z"
   },
   {
    "duration": 352,
    "start_time": "2021-06-14T13:36:51.500Z"
   },
   {
    "duration": 365,
    "start_time": "2021-06-14T13:37:45.909Z"
   },
   {
    "duration": 23,
    "start_time": "2021-06-14T13:39:31.602Z"
   },
   {
    "duration": 61,
    "start_time": "2021-06-14T13:42:26.531Z"
   },
   {
    "duration": 6,
    "start_time": "2021-06-14T13:42:31.439Z"
   },
   {
    "duration": 4,
    "start_time": "2021-06-14T13:42:40.743Z"
   },
   {
    "duration": 6,
    "start_time": "2021-06-14T13:43:27.359Z"
   },
   {
    "duration": 7,
    "start_time": "2021-06-14T13:43:48.369Z"
   },
   {
    "duration": 300,
    "start_time": "2021-06-14T13:44:05.728Z"
   },
   {
    "duration": 298,
    "start_time": "2021-06-14T13:44:15.654Z"
   },
   {
    "duration": 301,
    "start_time": "2021-06-14T13:44:24.316Z"
   },
   {
    "duration": 280,
    "start_time": "2021-06-14T13:44:32.513Z"
   },
   {
    "duration": 285,
    "start_time": "2021-06-14T13:44:39.393Z"
   },
   {
    "duration": 243,
    "start_time": "2021-06-14T13:44:50.857Z"
   },
   {
    "duration": 247,
    "start_time": "2021-06-14T13:45:16.113Z"
   },
   {
    "duration": 241,
    "start_time": "2021-06-14T13:45:54.726Z"
   },
   {
    "duration": 338,
    "start_time": "2021-06-14T13:46:12.401Z"
   },
   {
    "duration": 241,
    "start_time": "2021-06-14T13:46:16.667Z"
   },
   {
    "duration": 210,
    "start_time": "2021-06-14T13:53:34.405Z"
   },
   {
    "duration": 7,
    "start_time": "2021-06-14T13:54:22.895Z"
   },
   {
    "duration": 263,
    "start_time": "2021-06-14T13:54:50.558Z"
   },
   {
    "duration": 240,
    "start_time": "2021-06-14T13:54:56.697Z"
   },
   {
    "duration": 10,
    "start_time": "2021-06-14T13:55:29.893Z"
   },
   {
    "duration": 1493,
    "start_time": "2021-06-14T13:56:39.522Z"
   },
   {
    "duration": 48,
    "start_time": "2021-06-14T13:56:41.017Z"
   },
   {
    "duration": 11,
    "start_time": "2021-06-14T13:56:41.068Z"
   },
   {
    "duration": 15,
    "start_time": "2021-06-14T13:56:41.082Z"
   },
   {
    "duration": 21,
    "start_time": "2021-06-14T13:56:41.099Z"
   },
   {
    "duration": 8,
    "start_time": "2021-06-14T13:56:41.122Z"
   },
   {
    "duration": 6,
    "start_time": "2021-06-14T13:56:41.132Z"
   },
   {
    "duration": 15,
    "start_time": "2021-06-14T13:56:41.141Z"
   },
   {
    "duration": 9,
    "start_time": "2021-06-14T13:56:41.194Z"
   },
   {
    "duration": 5,
    "start_time": "2021-06-14T13:56:41.205Z"
   },
   {
    "duration": 11,
    "start_time": "2021-06-14T13:56:41.212Z"
   },
   {
    "duration": 14,
    "start_time": "2021-06-14T13:56:41.225Z"
   },
   {
    "duration": 30,
    "start_time": "2021-06-14T13:56:41.241Z"
   },
   {
    "duration": 20,
    "start_time": "2021-06-14T13:56:41.273Z"
   },
   {
    "duration": 361,
    "start_time": "2021-06-14T13:56:41.295Z"
   },
   {
    "duration": 6,
    "start_time": "2021-06-14T13:56:41.658Z"
   },
   {
    "duration": 291,
    "start_time": "2021-06-14T13:56:41.666Z"
   },
   {
    "duration": 8,
    "start_time": "2021-06-14T13:56:41.959Z"
   },
   {
    "duration": 23,
    "start_time": "2021-06-14T13:56:41.969Z"
   },
   {
    "duration": 43333,
    "start_time": "2021-06-14T13:56:41.994Z"
   },
   {
    "duration": 8,
    "start_time": "2021-06-14T13:58:12.068Z"
   },
   {
    "duration": 299,
    "start_time": "2021-06-14T13:58:55.732Z"
   },
   {
    "duration": 8,
    "start_time": "2021-06-14T13:58:56.032Z"
   },
   {
    "duration": 1492,
    "start_time": "2021-06-14T13:59:01.233Z"
   },
   {
    "duration": 51,
    "start_time": "2021-06-14T13:59:02.727Z"
   },
   {
    "duration": 16,
    "start_time": "2021-06-14T13:59:02.780Z"
   },
   {
    "duration": 12,
    "start_time": "2021-06-14T13:59:02.799Z"
   },
   {
    "duration": 17,
    "start_time": "2021-06-14T13:59:02.813Z"
   },
   {
    "duration": 8,
    "start_time": "2021-06-14T13:59:02.832Z"
   },
   {
    "duration": 8,
    "start_time": "2021-06-14T13:59:02.842Z"
   },
   {
    "duration": 59,
    "start_time": "2021-06-14T13:59:02.851Z"
   },
   {
    "duration": 6,
    "start_time": "2021-06-14T13:59:02.913Z"
   },
   {
    "duration": 6,
    "start_time": "2021-06-14T13:59:02.921Z"
   },
   {
    "duration": 6,
    "start_time": "2021-06-14T13:59:02.929Z"
   },
   {
    "duration": 6,
    "start_time": "2021-06-14T13:59:02.937Z"
   },
   {
    "duration": 66,
    "start_time": "2021-06-14T13:59:02.944Z"
   },
   {
    "duration": 7,
    "start_time": "2021-06-14T13:59:03.012Z"
   },
   {
    "duration": 367,
    "start_time": "2021-06-14T13:59:03.020Z"
   },
   {
    "duration": 10,
    "start_time": "2021-06-14T13:59:03.390Z"
   },
   {
    "duration": 260,
    "start_time": "2021-06-14T13:59:03.402Z"
   },
   {
    "duration": 6,
    "start_time": "2021-06-14T13:59:03.664Z"
   },
   {
    "duration": 30,
    "start_time": "2021-06-14T13:59:03.672Z"
   },
   {
    "duration": 9,
    "start_time": "2021-06-14T14:00:21.429Z"
   },
   {
    "duration": 8,
    "start_time": "2021-06-14T14:00:54.790Z"
   },
   {
    "duration": 8,
    "start_time": "2021-06-14T14:00:55.443Z"
   },
   {
    "duration": 41927,
    "start_time": "2021-06-14T14:01:09.068Z"
   },
   {
    "duration": 7,
    "start_time": "2021-06-14T14:02:30.146Z"
   },
   {
    "duration": 41994,
    "start_time": "2021-06-14T14:02:30.843Z"
   },
   {
    "duration": 327,
    "start_time": "2021-06-14T14:03:55.511Z"
   },
   {
    "duration": 6,
    "start_time": "2021-06-14T14:03:59.001Z"
   },
   {
    "duration": 290,
    "start_time": "2021-06-14T14:03:59.641Z"
   },
   {
    "duration": 226,
    "start_time": "2021-06-14T14:36:54.387Z"
   },
   {
    "duration": 207,
    "start_time": "2021-06-14T14:37:55.213Z"
   },
   {
    "duration": 10,
    "start_time": "2021-06-14T14:38:27.473Z"
   },
   {
    "duration": 10,
    "start_time": "2021-06-14T14:38:33.763Z"
   },
   {
    "duration": 4630,
    "start_time": "2021-06-14T14:41:41.906Z"
   },
   {
    "duration": 1776,
    "start_time": "2021-06-14T14:42:03.527Z"
   },
   {
    "duration": 189,
    "start_time": "2021-06-14T14:42:20.471Z"
   },
   {
    "duration": 5,
    "start_time": "2021-06-14T14:43:09.945Z"
   },
   {
    "duration": 9,
    "start_time": "2021-06-14T14:43:17.642Z"
   },
   {
    "duration": 4,
    "start_time": "2021-06-14T14:43:30.054Z"
   },
   {
    "duration": 8,
    "start_time": "2021-06-14T14:43:30.569Z"
   },
   {
    "duration": 5,
    "start_time": "2021-06-14T14:43:44.216Z"
   },
   {
    "duration": 5,
    "start_time": "2021-06-14T14:43:48.185Z"
   },
   {
    "duration": 8,
    "start_time": "2021-06-14T14:43:48.557Z"
   },
   {
    "duration": 9,
    "start_time": "2021-06-14T14:44:22.703Z"
   },
   {
    "duration": 8,
    "start_time": "2021-06-14T14:47:57.313Z"
   },
   {
    "duration": 5,
    "start_time": "2021-06-14T14:47:57.851Z"
   },
   {
    "duration": 293,
    "start_time": "2021-06-14T14:47:58.411Z"
   },
   {
    "duration": 9,
    "start_time": "2021-06-14T14:48:47.209Z"
   },
   {
    "duration": 7,
    "start_time": "2021-06-14T14:48:54.042Z"
   },
   {
    "duration": 6,
    "start_time": "2021-06-14T14:48:56.830Z"
   },
   {
    "duration": 6,
    "start_time": "2021-06-14T14:48:57.402Z"
   },
   {
    "duration": 5,
    "start_time": "2021-06-14T14:48:58.352Z"
   },
   {
    "duration": 290,
    "start_time": "2021-06-14T14:48:59.036Z"
   },
   {
    "duration": 9,
    "start_time": "2021-06-14T15:01:57.115Z"
   },
   {
    "duration": 324,
    "start_time": "2021-06-14T15:02:08.626Z"
   },
   {
    "duration": 291,
    "start_time": "2021-06-14T15:02:22.220Z"
   },
   {
    "duration": 301,
    "start_time": "2021-06-14T15:02:29.661Z"
   },
   {
    "duration": 6,
    "start_time": "2021-06-14T15:03:42.479Z"
   },
   {
    "duration": 5,
    "start_time": "2021-06-14T15:03:52.380Z"
   },
   {
    "duration": 9,
    "start_time": "2021-06-14T15:04:07.157Z"
   },
   {
    "duration": 10,
    "start_time": "2021-06-14T15:04:08.121Z"
   },
   {
    "duration": 5,
    "start_time": "2021-06-14T15:04:08.669Z"
   },
   {
    "duration": 5,
    "start_time": "2021-06-14T15:04:09.150Z"
   },
   {
    "duration": 183,
    "start_time": "2021-06-14T15:06:05.710Z"
   },
   {
    "duration": 10,
    "start_time": "2021-06-14T15:08:57.460Z"
   },
   {
    "duration": 5,
    "start_time": "2021-06-14T15:08:58.109Z"
   },
   {
    "duration": 11,
    "start_time": "2021-06-14T15:09:08.904Z"
   },
   {
    "duration": 5,
    "start_time": "2021-06-14T15:09:09.338Z"
   },
   {
    "duration": 5,
    "start_time": "2021-06-14T15:09:10.070Z"
   },
   {
    "duration": 60,
    "start_time": "2021-06-14T15:10:50.073Z"
   },
   {
    "duration": 705,
    "start_time": "2021-06-14T15:10:59.293Z"
   },
   {
    "duration": 693,
    "start_time": "2021-06-14T15:11:14.314Z"
   },
   {
    "duration": 13,
    "start_time": "2021-06-14T15:11:39.988Z"
   },
   {
    "duration": 5,
    "start_time": "2021-06-14T15:11:40.870Z"
   },
   {
    "duration": 9,
    "start_time": "2021-06-14T15:11:55.425Z"
   },
   {
    "duration": 4,
    "start_time": "2021-06-14T15:11:55.780Z"
   },
   {
    "duration": 1459,
    "start_time": "2021-06-14T15:12:06.948Z"
   },
   {
    "duration": 48,
    "start_time": "2021-06-14T15:12:08.409Z"
   },
   {
    "duration": 12,
    "start_time": "2021-06-14T15:12:08.459Z"
   },
   {
    "duration": 9,
    "start_time": "2021-06-14T15:12:08.473Z"
   },
   {
    "duration": 21,
    "start_time": "2021-06-14T15:12:08.483Z"
   },
   {
    "duration": 8,
    "start_time": "2021-06-14T15:12:08.506Z"
   },
   {
    "duration": 12,
    "start_time": "2021-06-14T15:12:08.515Z"
   },
   {
    "duration": 17,
    "start_time": "2021-06-14T15:12:08.529Z"
   },
   {
    "duration": 6,
    "start_time": "2021-06-14T15:12:08.548Z"
   },
   {
    "duration": 6,
    "start_time": "2021-06-14T15:12:08.556Z"
   },
   {
    "duration": 32,
    "start_time": "2021-06-14T15:12:08.563Z"
   },
   {
    "duration": 11,
    "start_time": "2021-06-14T15:12:08.597Z"
   },
   {
    "duration": 34,
    "start_time": "2021-06-14T15:12:08.610Z"
   },
   {
    "duration": 12,
    "start_time": "2021-06-14T15:12:08.646Z"
   },
   {
    "duration": 382,
    "start_time": "2021-06-14T15:12:08.660Z"
   },
   {
    "duration": 7,
    "start_time": "2021-06-14T15:12:09.043Z"
   },
   {
    "duration": 261,
    "start_time": "2021-06-14T15:12:09.052Z"
   },
   {
    "duration": 8,
    "start_time": "2021-06-14T15:12:09.316Z"
   },
   {
    "duration": 8,
    "start_time": "2021-06-14T15:12:09.326Z"
   },
   {
    "duration": 17,
    "start_time": "2021-06-14T15:12:09.335Z"
   },
   {
    "duration": 16,
    "start_time": "2021-06-14T15:12:09.354Z"
   },
   {
    "duration": 23,
    "start_time": "2021-06-14T15:12:09.372Z"
   },
   {
    "duration": 327,
    "start_time": "2021-06-14T15:12:09.399Z"
   },
   {
    "duration": 716,
    "start_time": "2021-06-14T15:12:09.012Z"
   },
   {
    "duration": 8,
    "start_time": "2021-06-14T15:12:22.475Z"
   },
   {
    "duration": 4,
    "start_time": "2021-06-14T15:12:23.128Z"
   },
   {
    "duration": 28,
    "start_time": "2021-06-14T15:16:26.619Z"
   },
   {
    "duration": 12,
    "start_time": "2021-06-14T15:16:35.326Z"
   },
   {
    "duration": 10,
    "start_time": "2021-06-14T15:18:01.647Z"
   },
   {
    "duration": 397,
    "start_time": "2021-06-14T15:18:19.700Z"
   },
   {
    "duration": 420,
    "start_time": "2021-06-14T15:18:29.100Z"
   },
   {
    "duration": 7,
    "start_time": "2021-06-14T15:22:42.551Z"
   },
   {
    "duration": 776,
    "start_time": "2021-06-14T15:23:31.695Z"
   },
   {
    "duration": 633,
    "start_time": "2021-06-14T15:23:31.840Z"
   },
   {
    "duration": 767,
    "start_time": "2021-06-14T15:23:41.937Z"
   },
   {
    "duration": 12,
    "start_time": "2021-06-14T15:23:50.584Z"
   },
   {
    "duration": 8,
    "start_time": "2021-06-14T15:23:51.347Z"
   },
   {
    "duration": 297,
    "start_time": "2021-06-14T15:24:29.731Z"
   },
   {
    "duration": 735,
    "start_time": "2021-06-14T15:24:47.430Z"
   },
   {
    "duration": 316,
    "start_time": "2021-06-14T15:25:14.015Z"
   },
   {
    "duration": 422,
    "start_time": "2021-06-14T15:25:21.684Z"
   },
   {
    "duration": 65,
    "start_time": "2021-06-14T15:26:30.812Z"
   },
   {
    "duration": 417,
    "start_time": "2021-06-14T15:26:44.461Z"
   },
   {
    "duration": 391,
    "start_time": "2021-06-14T15:27:59.027Z"
   },
   {
    "duration": 6,
    "start_time": "2021-06-14T15:30:29.661Z"
   },
   {
    "duration": 220,
    "start_time": "2021-06-14T15:33:04.500Z"
   },
   {
    "duration": 278,
    "start_time": "2021-06-14T15:33:55.693Z"
   },
   {
    "duration": 208,
    "start_time": "2021-06-14T15:35:20.608Z"
   },
   {
    "duration": 285,
    "start_time": "2021-06-14T15:35:40.547Z"
   },
   {
    "duration": 275,
    "start_time": "2021-06-14T15:36:08.375Z"
   },
   {
    "duration": 298,
    "start_time": "2021-06-14T15:36:20.980Z"
   },
   {
    "duration": 279,
    "start_time": "2021-06-14T15:36:53.532Z"
   },
   {
    "duration": 311,
    "start_time": "2021-06-14T15:37:09.936Z"
   },
   {
    "duration": 297,
    "start_time": "2021-06-14T15:37:20.732Z"
   },
   {
    "duration": 437,
    "start_time": "2021-06-14T15:37:41.519Z"
   },
   {
    "duration": 524,
    "start_time": "2021-06-14T15:38:32.507Z"
   },
   {
    "duration": 305,
    "start_time": "2021-06-14T15:38:45.959Z"
   },
   {
    "duration": 324,
    "start_time": "2021-06-14T15:40:02.821Z"
   },
   {
    "duration": 326,
    "start_time": "2021-06-14T15:40:16.246Z"
   },
   {
    "duration": 313,
    "start_time": "2021-06-14T15:41:24.430Z"
   },
   {
    "duration": 281,
    "start_time": "2021-06-14T15:41:34.800Z"
   },
   {
    "duration": 276,
    "start_time": "2021-06-14T15:41:43.641Z"
   },
   {
    "duration": 287,
    "start_time": "2021-06-14T15:42:26.388Z"
   },
   {
    "duration": 289,
    "start_time": "2021-06-14T15:46:06.449Z"
   },
   {
    "duration": 278,
    "start_time": "2021-06-14T15:46:18.022Z"
   },
   {
    "duration": 285,
    "start_time": "2021-06-14T15:46:41.340Z"
   },
   {
    "duration": 270,
    "start_time": "2021-06-14T15:48:12.096Z"
   },
   {
    "duration": 286,
    "start_time": "2021-06-14T15:48:23.033Z"
   },
   {
    "duration": 329,
    "start_time": "2021-06-14T15:48:28.642Z"
   },
   {
    "duration": 6,
    "start_time": "2021-06-14T15:51:17.222Z"
   },
   {
    "duration": 6,
    "start_time": "2021-06-14T15:52:19.328Z"
   },
   {
    "duration": 5,
    "start_time": "2021-06-14T15:52:42.410Z"
   },
   {
    "duration": 57,
    "start_time": "2021-06-14T15:54:54.894Z"
   },
   {
    "duration": 5,
    "start_time": "2021-06-14T15:58:07.563Z"
   },
   {
    "duration": 310,
    "start_time": "2021-06-14T16:14:11.661Z"
   },
   {
    "duration": 358,
    "start_time": "2021-06-14T16:14:41.236Z"
   },
   {
    "duration": 367,
    "start_time": "2021-06-14T16:14:47.940Z"
   },
   {
    "duration": 318,
    "start_time": "2021-06-14T16:14:54.190Z"
   },
   {
    "duration": 502,
    "start_time": "2021-06-14T16:14:59.854Z"
   },
   {
    "duration": 310,
    "start_time": "2021-06-14T16:15:13.556Z"
   },
   {
    "duration": 316,
    "start_time": "2021-06-14T16:15:52.425Z"
   },
   {
    "duration": 316,
    "start_time": "2021-06-14T16:15:58.019Z"
   },
   {
    "duration": 339,
    "start_time": "2021-06-14T16:16:43.264Z"
   },
   {
    "duration": 318,
    "start_time": "2021-06-14T16:17:41.279Z"
   },
   {
    "duration": 311,
    "start_time": "2021-06-14T16:18:21.533Z"
   },
   {
    "duration": 497,
    "start_time": "2021-06-14T16:18:26.348Z"
   },
   {
    "duration": 516,
    "start_time": "2021-06-14T16:18:31.856Z"
   },
   {
    "duration": 635,
    "start_time": "2021-06-14T16:18:58.866Z"
   },
   {
    "duration": 819,
    "start_time": "2021-06-14T16:19:55.532Z"
   },
   {
    "duration": 630,
    "start_time": "2021-06-14T16:20:06.144Z"
   },
   {
    "duration": 641,
    "start_time": "2021-06-14T16:20:18.934Z"
   },
   {
    "duration": 631,
    "start_time": "2021-06-14T16:20:29.619Z"
   },
   {
    "duration": 627,
    "start_time": "2021-06-14T16:20:45.202Z"
   },
   {
    "duration": 291,
    "start_time": "2021-06-15T16:37:21.443Z"
   },
   {
    "duration": 1994,
    "start_time": "2021-06-15T16:37:29.157Z"
   },
   {
    "duration": 56,
    "start_time": "2021-06-15T16:37:31.153Z"
   },
   {
    "duration": 16,
    "start_time": "2021-06-15T16:37:31.212Z"
   },
   {
    "duration": 26,
    "start_time": "2021-06-15T16:37:31.230Z"
   },
   {
    "duration": 25,
    "start_time": "2021-06-15T16:37:31.258Z"
   },
   {
    "duration": 13,
    "start_time": "2021-06-15T16:37:31.285Z"
   },
   {
    "duration": 14,
    "start_time": "2021-06-15T16:37:31.300Z"
   },
   {
    "duration": 54,
    "start_time": "2021-06-15T16:37:31.316Z"
   },
   {
    "duration": 11,
    "start_time": "2021-06-15T16:37:31.374Z"
   },
   {
    "duration": 31,
    "start_time": "2021-06-15T16:37:31.387Z"
   },
   {
    "duration": 30,
    "start_time": "2021-06-15T16:37:31.420Z"
   },
   {
    "duration": 20,
    "start_time": "2021-06-15T16:37:31.453Z"
   },
   {
    "duration": 61,
    "start_time": "2021-06-15T16:37:31.476Z"
   },
   {
    "duration": 35,
    "start_time": "2021-06-15T16:37:31.539Z"
   },
   {
    "duration": 488,
    "start_time": "2021-06-15T16:37:31.576Z"
   },
   {
    "duration": 8,
    "start_time": "2021-06-15T16:37:32.066Z"
   },
   {
    "duration": 371,
    "start_time": "2021-06-15T16:37:32.076Z"
   },
   {
    "duration": 25,
    "start_time": "2021-06-15T16:37:32.450Z"
   },
   {
    "duration": 11,
    "start_time": "2021-06-15T16:37:32.478Z"
   },
   {
    "duration": 467,
    "start_time": "2021-06-15T16:37:32.491Z"
   },
   {
    "duration": 12,
    "start_time": "2021-06-15T16:37:32.962Z"
   },
   {
    "duration": 8,
    "start_time": "2021-06-15T16:37:32.977Z"
   },
   {
    "duration": 485,
    "start_time": "2021-06-15T16:37:32.988Z"
   },
   {
    "duration": 7,
    "start_time": "2021-06-15T16:37:33.477Z"
   },
   {
    "duration": 915,
    "start_time": "2021-06-15T16:37:33.487Z"
   },
   {
    "duration": 542,
    "start_time": "2021-06-15T16:45:39.924Z"
   },
   {
    "duration": 508,
    "start_time": "2021-06-15T16:46:10.631Z"
   },
   {
    "duration": 884,
    "start_time": "2021-06-15T16:52:58.641Z"
   },
   {
    "duration": 1338,
    "start_time": "2021-06-15T16:58:39.845Z"
   },
   {
    "duration": 1370,
    "start_time": "2021-06-15T16:59:32.193Z"
   },
   {
    "duration": 1330,
    "start_time": "2021-06-15T17:00:38.645Z"
   },
   {
    "duration": 1423,
    "start_time": "2021-06-15T17:01:06.495Z"
   },
   {
    "duration": 614,
    "start_time": "2021-06-15T17:18:37.208Z"
   },
   {
    "duration": 216,
    "start_time": "2021-06-15T17:19:16.244Z"
   },
   {
    "duration": 23,
    "start_time": "2021-06-15T17:19:21.261Z"
   },
   {
    "duration": 12,
    "start_time": "2021-06-15T17:21:56.941Z"
   },
   {
    "duration": 15,
    "start_time": "2021-06-15T17:22:21.987Z"
   },
   {
    "duration": 13,
    "start_time": "2021-06-15T17:22:26.576Z"
   },
   {
    "duration": 17,
    "start_time": "2021-06-15T17:25:17.850Z"
   },
   {
    "duration": 270,
    "start_time": "2021-06-15T17:25:54.576Z"
   },
   {
    "duration": 19,
    "start_time": "2021-06-15T17:26:20.204Z"
   },
   {
    "duration": 12,
    "start_time": "2021-06-15T17:31:33.330Z"
   },
   {
    "duration": 933,
    "start_time": "2021-06-15T17:31:40.734Z"
   },
   {
    "duration": 825,
    "start_time": "2021-06-15T17:31:48.832Z"
   },
   {
    "duration": 17,
    "start_time": "2021-06-15T17:32:02.195Z"
   },
   {
    "duration": 13,
    "start_time": "2021-06-15T17:32:12.265Z"
   },
   {
    "duration": 10,
    "start_time": "2021-06-15T17:32:23.924Z"
   },
   {
    "duration": 898,
    "start_time": "2021-06-15T17:33:21.750Z"
   },
   {
    "duration": 854,
    "start_time": "2021-06-15T17:33:57.785Z"
   },
   {
    "duration": 1093,
    "start_time": "2021-06-15T17:34:07.074Z"
   },
   {
    "duration": 952,
    "start_time": "2021-06-15T17:34:19.231Z"
   },
   {
    "duration": 854,
    "start_time": "2021-06-15T17:34:31.589Z"
   },
   {
    "duration": 841,
    "start_time": "2021-06-15T17:34:39.841Z"
   },
   {
    "duration": 346,
    "start_time": "2021-06-15T17:35:30.654Z"
   },
   {
    "duration": 839,
    "start_time": "2021-06-15T17:35:37.304Z"
   },
   {
    "duration": 116,
    "start_time": "2021-06-15T17:36:53.184Z"
   },
   {
    "duration": 14,
    "start_time": "2021-06-15T17:57:56.879Z"
   },
   {
    "duration": 302,
    "start_time": "2021-06-15T17:59:25.494Z"
   },
   {
    "duration": 22,
    "start_time": "2021-06-15T17:59:43.803Z"
   },
   {
    "duration": 7,
    "start_time": "2021-06-15T18:07:12.460Z"
   },
   {
    "duration": 7,
    "start_time": "2021-06-15T18:07:38.289Z"
   },
   {
    "duration": 351,
    "start_time": "2021-06-15T18:08:03.774Z"
   },
   {
    "duration": 6,
    "start_time": "2021-06-15T18:08:13.250Z"
   },
   {
    "duration": 8,
    "start_time": "2021-06-15T18:08:21.286Z"
   },
   {
    "duration": 89,
    "start_time": "2021-06-15T18:12:14.383Z"
   },
   {
    "duration": 89,
    "start_time": "2021-06-15T18:12:19.020Z"
   },
   {
    "duration": 21,
    "start_time": "2021-06-15T18:12:32.263Z"
   },
   {
    "duration": 23,
    "start_time": "2021-06-15T18:12:42.828Z"
   },
   {
    "duration": 20,
    "start_time": "2021-06-15T18:12:57.220Z"
   },
   {
    "duration": 1842,
    "start_time": "2021-06-15T18:14:48.617Z"
   },
   {
    "duration": 706,
    "start_time": "2021-06-15T18:19:25.640Z"
   },
   {
    "duration": 56,
    "start_time": "2021-06-15T18:19:39.665Z"
   },
   {
    "duration": 284,
    "start_time": "2021-06-15T18:28:24.304Z"
   },
   {
    "duration": 1183,
    "start_time": "2021-06-15T18:28:33.093Z"
   },
   {
    "duration": 1002,
    "start_time": "2021-06-15T18:34:07.985Z"
   },
   {
    "duration": 750,
    "start_time": "2021-06-15T18:35:09.040Z"
   },
   {
    "duration": 260,
    "start_time": "2021-06-15T18:36:19.186Z"
   },
   {
    "duration": 11,
    "start_time": "2021-06-15T18:36:38.095Z"
   },
   {
    "duration": 23,
    "start_time": "2021-06-15T18:36:53.493Z"
   },
   {
    "duration": 1995,
    "start_time": "2021-06-15T19:37:00.936Z"
   },
   {
    "duration": 56,
    "start_time": "2021-06-15T19:37:02.933Z"
   },
   {
    "duration": 16,
    "start_time": "2021-06-15T19:37:02.992Z"
   },
   {
    "duration": 14,
    "start_time": "2021-06-15T19:37:03.012Z"
   },
   {
    "duration": 45,
    "start_time": "2021-06-15T19:37:03.029Z"
   },
   {
    "duration": 10,
    "start_time": "2021-06-15T19:37:03.077Z"
   },
   {
    "duration": 9,
    "start_time": "2021-06-15T19:37:03.090Z"
   },
   {
    "duration": 53,
    "start_time": "2021-06-15T19:37:03.103Z"
   },
   {
    "duration": 9,
    "start_time": "2021-06-15T19:37:03.159Z"
   },
   {
    "duration": 10,
    "start_time": "2021-06-15T19:37:03.170Z"
   },
   {
    "duration": 6,
    "start_time": "2021-06-15T19:37:03.183Z"
   },
   {
    "duration": 6,
    "start_time": "2021-06-15T19:37:03.191Z"
   },
   {
    "duration": 84,
    "start_time": "2021-06-15T19:37:03.199Z"
   },
   {
    "duration": 13,
    "start_time": "2021-06-15T19:37:03.286Z"
   },
   {
    "duration": 548,
    "start_time": "2021-06-15T19:37:03.301Z"
   },
   {
    "duration": 9,
    "start_time": "2021-06-15T19:37:03.855Z"
   },
   {
    "duration": 378,
    "start_time": "2021-06-15T19:37:03.866Z"
   },
   {
    "duration": 25,
    "start_time": "2021-06-15T19:37:04.246Z"
   },
   {
    "duration": 9,
    "start_time": "2021-06-15T19:37:04.274Z"
   },
   {
    "duration": 484,
    "start_time": "2021-06-15T19:37:04.286Z"
   },
   {
    "duration": 432,
    "start_time": "2021-06-15T19:37:04.773Z"
   },
   {
    "duration": 2349,
    "start_time": "2021-06-15T19:37:02.859Z"
   },
   {
    "duration": 2347,
    "start_time": "2021-06-15T19:37:02.862Z"
   },
   {
    "duration": 2346,
    "start_time": "2021-06-15T19:37:02.865Z"
   },
   {
    "duration": 2345,
    "start_time": "2021-06-15T19:37:02.867Z"
   },
   {
    "duration": 2341,
    "start_time": "2021-06-15T19:37:02.872Z"
   },
   {
    "duration": 2341,
    "start_time": "2021-06-15T19:37:02.874Z"
   },
   {
    "duration": 2340,
    "start_time": "2021-06-15T19:37:02.876Z"
   },
   {
    "duration": 2339,
    "start_time": "2021-06-15T19:37:02.878Z"
   },
   {
    "duration": 2337,
    "start_time": "2021-06-15T19:37:02.881Z"
   },
   {
    "duration": 2333,
    "start_time": "2021-06-15T19:37:02.886Z"
   },
   {
    "duration": 2333,
    "start_time": "2021-06-15T19:37:02.888Z"
   },
   {
    "duration": 2333,
    "start_time": "2021-06-15T19:37:02.889Z"
   },
   {
    "duration": 2328,
    "start_time": "2021-06-15T19:37:02.896Z"
   },
   {
    "duration": 2323,
    "start_time": "2021-06-15T19:37:02.902Z"
   },
   {
    "duration": 487,
    "start_time": "2021-06-15T19:37:38.101Z"
   },
   {
    "duration": 1950,
    "start_time": "2021-06-15T19:38:15.202Z"
   },
   {
    "duration": 63,
    "start_time": "2021-06-15T19:38:17.155Z"
   },
   {
    "duration": 19,
    "start_time": "2021-06-15T19:38:17.222Z"
   },
   {
    "duration": 25,
    "start_time": "2021-06-15T19:38:17.244Z"
   },
   {
    "duration": 26,
    "start_time": "2021-06-15T19:38:17.271Z"
   },
   {
    "duration": 12,
    "start_time": "2021-06-15T19:38:17.299Z"
   },
   {
    "duration": 49,
    "start_time": "2021-06-15T19:38:17.314Z"
   },
   {
    "duration": 30,
    "start_time": "2021-06-15T19:38:17.368Z"
   },
   {
    "duration": 10,
    "start_time": "2021-06-15T19:38:17.401Z"
   },
   {
    "duration": 46,
    "start_time": "2021-06-15T19:38:17.414Z"
   },
   {
    "duration": 13,
    "start_time": "2021-06-15T19:38:17.463Z"
   },
   {
    "duration": 7,
    "start_time": "2021-06-15T19:38:17.479Z"
   },
   {
    "duration": 76,
    "start_time": "2021-06-15T19:38:17.489Z"
   },
   {
    "duration": 12,
    "start_time": "2021-06-15T19:38:17.568Z"
   },
   {
    "duration": 646,
    "start_time": "2021-06-15T19:38:17.583Z"
   },
   {
    "duration": 29,
    "start_time": "2021-06-15T19:38:18.232Z"
   },
   {
    "duration": 526,
    "start_time": "2021-06-15T19:38:18.264Z"
   },
   {
    "duration": 32,
    "start_time": "2021-06-15T19:38:18.793Z"
   },
   {
    "duration": 32,
    "start_time": "2021-06-15T19:38:18.828Z"
   },
   {
    "duration": 701,
    "start_time": "2021-06-15T19:38:18.864Z"
   },
   {
    "duration": 495,
    "start_time": "2021-06-15T19:38:19.568Z"
   },
   {
    "duration": 449,
    "start_time": "2021-06-15T19:38:20.066Z"
   },
   {
    "duration": 2353,
    "start_time": "2021-06-15T19:38:18.166Z"
   },
   {
    "duration": 2348,
    "start_time": "2021-06-15T19:38:18.173Z"
   },
   {
    "duration": 2348,
    "start_time": "2021-06-15T19:38:18.175Z"
   },
   {
    "duration": 2348,
    "start_time": "2021-06-15T19:38:18.177Z"
   },
   {
    "duration": 2350,
    "start_time": "2021-06-15T19:38:18.178Z"
   },
   {
    "duration": 2345,
    "start_time": "2021-06-15T19:38:18.185Z"
   },
   {
    "duration": 2345,
    "start_time": "2021-06-15T19:38:18.187Z"
   },
   {
    "duration": 2346,
    "start_time": "2021-06-15T19:38:18.189Z"
   },
   {
    "duration": 2345,
    "start_time": "2021-06-15T19:38:18.191Z"
   },
   {
    "duration": 2346,
    "start_time": "2021-06-15T19:38:18.193Z"
   },
   {
    "duration": 2346,
    "start_time": "2021-06-15T19:38:18.195Z"
   },
   {
    "duration": 2346,
    "start_time": "2021-06-15T19:38:18.197Z"
   },
   {
    "duration": 2341,
    "start_time": "2021-06-15T19:38:18.204Z"
   },
   {
    "duration": 6,
    "start_time": "2021-06-15T19:38:31.349Z"
   },
   {
    "duration": 277,
    "start_time": "2021-06-15T19:41:32.866Z"
   },
   {
    "duration": 260,
    "start_time": "2021-06-15T19:41:56.844Z"
   },
   {
    "duration": 565,
    "start_time": "2021-06-15T19:42:05.610Z"
   },
   {
    "duration": 7,
    "start_time": "2021-06-15T19:42:18.994Z"
   },
   {
    "duration": 6,
    "start_time": "2021-06-15T19:42:30.948Z"
   },
   {
    "duration": 1950,
    "start_time": "2021-06-15T19:43:08.207Z"
   },
   {
    "duration": 57,
    "start_time": "2021-06-15T19:43:10.159Z"
   },
   {
    "duration": 16,
    "start_time": "2021-06-15T19:43:10.219Z"
   },
   {
    "duration": 25,
    "start_time": "2021-06-15T19:43:10.238Z"
   },
   {
    "duration": 23,
    "start_time": "2021-06-15T19:43:10.266Z"
   },
   {
    "duration": 10,
    "start_time": "2021-06-15T19:43:10.292Z"
   },
   {
    "duration": 7,
    "start_time": "2021-06-15T19:43:10.305Z"
   },
   {
    "duration": 59,
    "start_time": "2021-06-15T19:43:10.317Z"
   },
   {
    "duration": 10,
    "start_time": "2021-06-15T19:43:10.380Z"
   },
   {
    "duration": 8,
    "start_time": "2021-06-15T19:43:10.393Z"
   },
   {
    "duration": 7,
    "start_time": "2021-06-15T19:43:10.404Z"
   },
   {
    "duration": 7,
    "start_time": "2021-06-15T19:43:10.456Z"
   },
   {
    "duration": 42,
    "start_time": "2021-06-15T19:43:10.466Z"
   },
   {
    "duration": 16,
    "start_time": "2021-06-15T19:43:10.510Z"
   },
   {
    "duration": 710,
    "start_time": "2021-06-15T19:43:10.556Z"
   },
   {
    "duration": 9,
    "start_time": "2021-06-15T19:43:11.269Z"
   },
   {
    "duration": 469,
    "start_time": "2021-06-15T19:43:11.280Z"
   },
   {
    "duration": 21,
    "start_time": "2021-06-15T19:43:11.751Z"
   },
   {
    "duration": 9,
    "start_time": "2021-06-15T19:43:11.774Z"
   },
   {
    "duration": 491,
    "start_time": "2021-06-15T19:43:11.785Z"
   },
   {
    "duration": 477,
    "start_time": "2021-06-15T19:43:12.278Z"
   },
   {
    "duration": 6,
    "start_time": "2021-06-15T19:43:12.758Z"
   },
   {
    "duration": 575,
    "start_time": "2021-06-15T19:43:12.769Z"
   },
   {
    "duration": 1352,
    "start_time": "2021-06-15T19:43:13.346Z"
   },
   {
    "duration": 102,
    "start_time": "2021-06-15T19:43:14.701Z"
   },
   {
    "duration": 14,
    "start_time": "2021-06-15T19:43:14.805Z"
   },
   {
    "duration": 36,
    "start_time": "2021-06-15T19:43:14.821Z"
   },
   {
    "duration": 13,
    "start_time": "2021-06-15T19:43:14.859Z"
   },
   {
    "duration": 9,
    "start_time": "2021-06-15T19:43:14.875Z"
   },
   {
    "duration": 844,
    "start_time": "2021-06-15T19:43:14.887Z"
   },
   {
    "duration": 24,
    "start_time": "2021-06-15T19:43:15.733Z"
   },
   {
    "duration": 23,
    "start_time": "2021-06-15T19:43:15.760Z"
   },
   {
    "duration": 1281,
    "start_time": "2021-06-15T19:43:15.786Z"
   },
   {
    "duration": 10,
    "start_time": "2021-06-15T19:43:17.070Z"
   },
   {
    "duration": 22,
    "start_time": "2021-06-15T19:43:17.082Z"
   },
   {
    "duration": 30,
    "start_time": "2021-06-15T19:44:00.714Z"
   },
   {
    "duration": 22,
    "start_time": "2021-06-15T19:44:01.952Z"
   },
   {
    "duration": 31,
    "start_time": "2021-06-15T19:44:06.812Z"
   },
   {
    "duration": 803,
    "start_time": "2021-06-15T19:46:16.031Z"
   },
   {
    "duration": 35,
    "start_time": "2021-06-15T19:46:16.983Z"
   },
   {
    "duration": 314,
    "start_time": "2021-06-15T19:46:58.266Z"
   },
   {
    "duration": 265,
    "start_time": "2021-06-15T19:46:59.597Z"
   },
   {
    "duration": 1958,
    "start_time": "2021-06-15T19:47:08.314Z"
   },
   {
    "duration": 59,
    "start_time": "2021-06-15T19:47:10.275Z"
   },
   {
    "duration": 19,
    "start_time": "2021-06-15T19:47:10.342Z"
   },
   {
    "duration": 15,
    "start_time": "2021-06-15T19:47:10.363Z"
   },
   {
    "duration": 27,
    "start_time": "2021-06-15T19:47:10.381Z"
   },
   {
    "duration": 10,
    "start_time": "2021-06-15T19:47:10.410Z"
   },
   {
    "duration": 6,
    "start_time": "2021-06-15T19:47:10.456Z"
   },
   {
    "duration": 23,
    "start_time": "2021-06-15T19:47:10.465Z"
   },
   {
    "duration": 8,
    "start_time": "2021-06-15T19:47:10.491Z"
   },
   {
    "duration": 10,
    "start_time": "2021-06-15T19:47:10.501Z"
   },
   {
    "duration": 44,
    "start_time": "2021-06-15T19:47:10.513Z"
   },
   {
    "duration": 5,
    "start_time": "2021-06-15T19:47:10.560Z"
   },
   {
    "duration": 46,
    "start_time": "2021-06-15T19:47:10.567Z"
   },
   {
    "duration": 11,
    "start_time": "2021-06-15T19:47:10.615Z"
   },
   {
    "duration": 522,
    "start_time": "2021-06-15T19:47:10.629Z"
   },
   {
    "duration": 9,
    "start_time": "2021-06-15T19:47:11.155Z"
   },
   {
    "duration": 377,
    "start_time": "2021-06-15T19:47:11.167Z"
   },
   {
    "duration": 25,
    "start_time": "2021-06-15T19:47:11.546Z"
   },
   {
    "duration": 9,
    "start_time": "2021-06-15T19:47:11.574Z"
   },
   {
    "duration": 475,
    "start_time": "2021-06-15T19:47:11.585Z"
   },
   {
    "duration": 482,
    "start_time": "2021-06-15T19:47:12.063Z"
   },
   {
    "duration": 11,
    "start_time": "2021-06-15T19:47:12.550Z"
   },
   {
    "duration": 556,
    "start_time": "2021-06-15T19:47:12.564Z"
   },
   {
    "duration": 1391,
    "start_time": "2021-06-15T19:47:13.123Z"
   },
   {
    "duration": 104,
    "start_time": "2021-06-15T19:47:14.516Z"
   },
   {
    "duration": 13,
    "start_time": "2021-06-15T19:47:14.623Z"
   },
   {
    "duration": 25,
    "start_time": "2021-06-15T19:47:14.639Z"
   },
   {
    "duration": 14,
    "start_time": "2021-06-15T19:47:14.666Z"
   },
   {
    "duration": 12,
    "start_time": "2021-06-15T19:47:14.682Z"
   },
   {
    "duration": 876,
    "start_time": "2021-06-15T19:47:14.696Z"
   },
   {
    "duration": 15,
    "start_time": "2021-06-15T19:47:15.574Z"
   },
   {
    "duration": 25,
    "start_time": "2021-06-15T19:47:15.591Z"
   },
   {
    "duration": 904,
    "start_time": "2021-06-15T19:47:15.619Z"
   },
   {
    "duration": 29,
    "start_time": "2021-06-15T19:47:16.526Z"
   },
   {
    "duration": 43,
    "start_time": "2021-06-15T19:47:16.558Z"
   },
   {
    "duration": 858,
    "start_time": "2021-06-15T19:51:14.194Z"
   },
   {
    "duration": 56,
    "start_time": "2021-06-15T19:51:15.054Z"
   },
   {
    "duration": 41,
    "start_time": "2021-06-15T19:51:16.200Z"
   },
   {
    "duration": 203,
    "start_time": "2021-06-15T19:52:50.494Z"
   },
   {
    "duration": 38,
    "start_time": "2021-06-15T19:52:51.192Z"
   },
   {
    "duration": 1881,
    "start_time": "2021-06-15T19:53:02.081Z"
   },
   {
    "duration": 57,
    "start_time": "2021-06-15T19:53:03.966Z"
   },
   {
    "duration": 17,
    "start_time": "2021-06-15T19:53:04.026Z"
   },
   {
    "duration": 16,
    "start_time": "2021-06-15T19:53:04.046Z"
   },
   {
    "duration": 23,
    "start_time": "2021-06-15T19:53:04.065Z"
   },
   {
    "duration": 10,
    "start_time": "2021-06-15T19:53:04.091Z"
   },
   {
    "duration": 15,
    "start_time": "2021-06-15T19:53:04.103Z"
   },
   {
    "duration": 51,
    "start_time": "2021-06-15T19:53:04.122Z"
   },
   {
    "duration": 8,
    "start_time": "2021-06-15T19:53:04.176Z"
   },
   {
    "duration": 8,
    "start_time": "2021-06-15T19:53:04.187Z"
   },
   {
    "duration": 6,
    "start_time": "2021-06-15T19:53:04.198Z"
   },
   {
    "duration": 50,
    "start_time": "2021-06-15T19:53:04.207Z"
   },
   {
    "duration": 65,
    "start_time": "2021-06-15T19:53:04.260Z"
   },
   {
    "duration": 31,
    "start_time": "2021-06-15T19:53:04.328Z"
   },
   {
    "duration": 531,
    "start_time": "2021-06-15T19:53:04.361Z"
   },
   {
    "duration": 9,
    "start_time": "2021-06-15T19:53:04.895Z"
   },
   {
    "duration": 375,
    "start_time": "2021-06-15T19:53:04.906Z"
   },
   {
    "duration": 20,
    "start_time": "2021-06-15T19:53:05.283Z"
   },
   {
    "duration": 9,
    "start_time": "2021-06-15T19:53:05.305Z"
   },
   {
    "duration": 496,
    "start_time": "2021-06-15T19:53:05.316Z"
   },
   {
    "duration": 483,
    "start_time": "2021-06-15T19:53:05.814Z"
   },
   {
    "duration": 6,
    "start_time": "2021-06-15T19:53:06.300Z"
   },
   {
    "duration": 557,
    "start_time": "2021-06-15T19:53:06.311Z"
   },
   {
    "duration": 1397,
    "start_time": "2021-06-15T19:53:06.871Z"
   },
   {
    "duration": 106,
    "start_time": "2021-06-15T19:53:08.271Z"
   },
   {
    "duration": 15,
    "start_time": "2021-06-15T19:53:08.379Z"
   },
   {
    "duration": 21,
    "start_time": "2021-06-15T19:53:08.396Z"
   },
   {
    "duration": 37,
    "start_time": "2021-06-15T19:53:08.419Z"
   },
   {
    "duration": 12,
    "start_time": "2021-06-15T19:53:08.458Z"
   },
   {
    "duration": 839,
    "start_time": "2021-06-15T19:53:08.472Z"
   },
   {
    "duration": 13,
    "start_time": "2021-06-15T19:53:09.313Z"
   },
   {
    "duration": 45,
    "start_time": "2021-06-15T19:53:09.329Z"
   },
   {
    "duration": 801,
    "start_time": "2021-06-15T19:53:09.377Z"
   },
   {
    "duration": 21,
    "start_time": "2021-06-15T19:53:10.180Z"
   },
   {
    "duration": 37,
    "start_time": "2021-06-15T19:53:10.204Z"
   },
   {
    "duration": 39,
    "start_time": "2021-06-15T19:55:52.615Z"
   },
   {
    "duration": 21,
    "start_time": "2021-06-15T20:00:23.069Z"
   },
   {
    "duration": 42,
    "start_time": "2021-06-15T20:00:48.664Z"
   },
   {
    "duration": 9,
    "start_time": "2021-06-15T20:01:03.219Z"
   },
   {
    "duration": 9,
    "start_time": "2021-06-15T20:01:20.161Z"
   },
   {
    "duration": 32,
    "start_time": "2021-06-15T20:02:54.823Z"
   },
   {
    "duration": 11,
    "start_time": "2021-06-15T20:03:08.173Z"
   },
   {
    "duration": 16,
    "start_time": "2021-06-15T20:03:14.323Z"
   },
   {
    "duration": 484,
    "start_time": "2021-06-15T20:03:54.779Z"
   },
   {
    "duration": 295,
    "start_time": "2021-06-15T20:04:02.888Z"
   },
   {
    "duration": 312,
    "start_time": "2021-06-15T20:04:28.757Z"
   },
   {
    "duration": 704,
    "start_time": "2021-06-15T20:04:44.987Z"
   },
   {
    "duration": 259,
    "start_time": "2021-06-15T20:04:49.853Z"
   },
   {
    "duration": 9,
    "start_time": "2021-06-15T20:05:10.989Z"
   },
   {
    "duration": 35,
    "start_time": "2021-06-15T20:05:15.032Z"
   },
   {
    "duration": 15,
    "start_time": "2021-06-15T20:05:27.788Z"
   },
   {
    "duration": 1043,
    "start_time": "2021-06-15T20:06:43.516Z"
   },
   {
    "duration": 8,
    "start_time": "2021-06-15T20:08:45.448Z"
   },
   {
    "duration": 11,
    "start_time": "2021-06-15T20:08:53.633Z"
   },
   {
    "duration": 15,
    "start_time": "2021-06-15T20:09:28.728Z"
   },
   {
    "duration": 16,
    "start_time": "2021-06-15T20:09:34.520Z"
   },
   {
    "duration": 288,
    "start_time": "2021-06-15T20:10:02.733Z"
   },
   {
    "duration": 14,
    "start_time": "2021-06-15T20:10:13.917Z"
   },
   {
    "duration": 16,
    "start_time": "2021-06-15T20:10:14.319Z"
   },
   {
    "duration": 278,
    "start_time": "2021-06-15T20:10:35.710Z"
   },
   {
    "duration": 7,
    "start_time": "2021-06-15T20:10:55.135Z"
   },
   {
    "duration": 8,
    "start_time": "2021-06-15T20:10:58.593Z"
   },
   {
    "duration": 9,
    "start_time": "2021-06-15T20:11:29.543Z"
   },
   {
    "duration": 10,
    "start_time": "2021-06-15T20:11:31.655Z"
   },
   {
    "duration": 10,
    "start_time": "2021-06-15T20:11:45.953Z"
   },
   {
    "duration": 13,
    "start_time": "2021-06-15T20:11:48.652Z"
   },
   {
    "duration": 311,
    "start_time": "2021-06-15T20:12:37.668Z"
   },
   {
    "duration": 6,
    "start_time": "2021-06-15T20:13:52.346Z"
   },
   {
    "duration": 10,
    "start_time": "2021-06-15T20:13:57.233Z"
   },
   {
    "duration": 10,
    "start_time": "2021-06-15T20:14:09.099Z"
   },
   {
    "duration": 13,
    "start_time": "2021-06-15T20:14:18.636Z"
   },
   {
    "duration": 12,
    "start_time": "2021-06-15T20:16:52.169Z"
   },
   {
    "duration": 13,
    "start_time": "2021-06-15T20:16:52.652Z"
   },
   {
    "duration": 20,
    "start_time": "2021-06-15T20:18:49.774Z"
   },
   {
    "duration": 8,
    "start_time": "2021-06-15T20:18:55.340Z"
   },
   {
    "duration": 368,
    "start_time": "2021-06-15T20:19:35.563Z"
   },
   {
    "duration": 10,
    "start_time": "2021-06-15T20:19:36.290Z"
   },
   {
    "duration": 44,
    "start_time": "2021-06-15T20:19:47.253Z"
   },
   {
    "duration": 31,
    "start_time": "2021-06-15T20:19:47.923Z"
   },
   {
    "duration": 72,
    "start_time": "2021-06-15T20:20:11.978Z"
   },
   {
    "duration": 39,
    "start_time": "2021-06-15T20:20:12.209Z"
   },
   {
    "duration": 261,
    "start_time": "2021-06-15T20:20:22.928Z"
   },
   {
    "duration": 45,
    "start_time": "2021-06-15T20:20:23.676Z"
   },
   {
    "duration": 215,
    "start_time": "2021-06-15T20:20:38.672Z"
   },
   {
    "duration": 46,
    "start_time": "2021-06-15T20:20:40.462Z"
   },
   {
    "duration": 91,
    "start_time": "2021-06-15T20:27:28.904Z"
   },
   {
    "duration": 263,
    "start_time": "2021-06-15T20:27:33.976Z"
   },
   {
    "duration": 262,
    "start_time": "2021-06-15T20:27:55.701Z"
   },
   {
    "duration": 253,
    "start_time": "2021-06-15T20:28:06.604Z"
   },
   {
    "duration": 258,
    "start_time": "2021-06-15T20:28:18.271Z"
   },
   {
    "duration": 206,
    "start_time": "2021-06-15T20:28:26.170Z"
   },
   {
    "duration": 5,
    "start_time": "2021-06-15T20:32:26.889Z"
   },
   {
    "duration": 14,
    "start_time": "2021-06-15T20:33:39.669Z"
   },
   {
    "duration": 14,
    "start_time": "2021-06-15T20:33:48.351Z"
   },
   {
    "duration": 264,
    "start_time": "2021-06-15T20:34:26.078Z"
   },
   {
    "duration": 309,
    "start_time": "2021-06-15T20:34:30.479Z"
   },
   {
    "duration": 248,
    "start_time": "2021-06-15T20:34:31.084Z"
   },
   {
    "duration": 12,
    "start_time": "2021-06-15T20:34:48.725Z"
   },
   {
    "duration": 5922,
    "start_time": "2021-06-15T20:34:49.806Z"
   },
   {
    "duration": 10680,
    "start_time": "2021-06-15T20:35:07.681Z"
   },
   {
    "duration": 7010,
    "start_time": "2021-06-15T20:35:33.298Z"
   },
   {
    "duration": 6696,
    "start_time": "2021-06-15T20:35:42.555Z"
   },
   {
    "duration": 14,
    "start_time": "2021-06-15T20:36:06.229Z"
   },
   {
    "duration": 16,
    "start_time": "2021-06-15T20:36:46.073Z"
   },
   {
    "duration": 289,
    "start_time": "2021-06-15T20:37:30.095Z"
   },
   {
    "duration": 15,
    "start_time": "2021-06-15T20:37:44.733Z"
   },
   {
    "duration": 12,
    "start_time": "2021-06-15T20:37:54.337Z"
   },
   {
    "duration": 264,
    "start_time": "2021-06-15T20:38:27.838Z"
   },
   {
    "duration": 12,
    "start_time": "2021-06-15T20:38:38.917Z"
   },
   {
    "duration": 21,
    "start_time": "2021-06-15T20:38:46.463Z"
   },
   {
    "duration": 7,
    "start_time": "2021-06-15T20:39:25.007Z"
   },
   {
    "duration": 318,
    "start_time": "2021-06-17T07:37:52.296Z"
   },
   {
    "duration": 2089,
    "start_time": "2021-06-17T07:37:58.637Z"
   },
   {
    "duration": 64,
    "start_time": "2021-06-17T07:38:00.730Z"
   },
   {
    "duration": 22,
    "start_time": "2021-06-17T07:38:00.799Z"
   },
   {
    "duration": 38,
    "start_time": "2021-06-17T07:38:00.825Z"
   },
   {
    "duration": 34,
    "start_time": "2021-06-17T07:38:00.866Z"
   },
   {
    "duration": 13,
    "start_time": "2021-06-17T07:38:00.903Z"
   },
   {
    "duration": 37,
    "start_time": "2021-06-17T07:38:00.919Z"
   },
   {
    "duration": 24,
    "start_time": "2021-06-17T07:38:00.962Z"
   },
   {
    "duration": 11,
    "start_time": "2021-06-17T07:38:00.990Z"
   },
   {
    "duration": 16,
    "start_time": "2021-06-17T07:38:01.004Z"
   },
   {
    "duration": 8,
    "start_time": "2021-06-17T07:38:01.058Z"
   },
   {
    "duration": 27,
    "start_time": "2021-06-17T07:38:01.069Z"
   },
   {
    "duration": 57,
    "start_time": "2021-06-17T07:38:01.099Z"
   },
   {
    "duration": 63,
    "start_time": "2021-06-17T07:38:01.158Z"
   },
   {
    "duration": 568,
    "start_time": "2021-06-17T07:38:01.223Z"
   },
   {
    "duration": 10,
    "start_time": "2021-06-17T07:38:01.794Z"
   },
   {
    "duration": 387,
    "start_time": "2021-06-17T07:38:01.806Z"
   },
   {
    "duration": 22,
    "start_time": "2021-06-17T07:38:02.195Z"
   },
   {
    "duration": 10,
    "start_time": "2021-06-17T07:38:02.219Z"
   },
   {
    "duration": 607,
    "start_time": "2021-06-17T07:38:02.232Z"
   },
   {
    "duration": 770,
    "start_time": "2021-06-17T07:38:02.843Z"
   },
   {
    "duration": 9,
    "start_time": "2021-06-17T07:38:03.617Z"
   },
   {
    "duration": 941,
    "start_time": "2021-06-17T07:38:03.635Z"
   },
   {
    "duration": 2265,
    "start_time": "2021-06-17T07:38:04.581Z"
   },
   {
    "duration": 190,
    "start_time": "2021-06-17T07:38:06.857Z"
   },
   {
    "duration": 25,
    "start_time": "2021-06-17T07:38:07.051Z"
   },
   {
    "duration": 18,
    "start_time": "2021-06-17T07:38:07.079Z"
   },
   {
    "duration": 16,
    "start_time": "2021-06-17T07:38:07.100Z"
   },
   {
    "duration": 11,
    "start_time": "2021-06-17T07:38:07.155Z"
   },
   {
    "duration": 892,
    "start_time": "2021-06-17T07:38:07.169Z"
   },
   {
    "duration": 16,
    "start_time": "2021-06-17T07:38:08.064Z"
   },
   {
    "duration": 27,
    "start_time": "2021-06-17T07:38:08.083Z"
   },
   {
    "duration": 1097,
    "start_time": "2021-06-17T07:38:08.112Z"
   },
   {
    "duration": 26,
    "start_time": "2021-06-17T07:38:09.213Z"
   },
   {
    "duration": 9,
    "start_time": "2021-06-17T07:38:09.242Z"
   },
   {
    "duration": 19,
    "start_time": "2021-06-17T07:38:09.256Z"
   },
   {
    "duration": 25,
    "start_time": "2021-06-17T07:38:09.278Z"
   },
   {
    "duration": 57,
    "start_time": "2021-06-17T07:38:09.306Z"
   },
   {
    "duration": 26,
    "start_time": "2021-06-17T07:38:09.366Z"
   },
   {
    "duration": 76,
    "start_time": "2021-06-17T07:38:09.395Z"
   },
   {
    "duration": 20,
    "start_time": "2021-06-17T07:38:09.474Z"
   },
   {
    "duration": 65,
    "start_time": "2021-06-17T07:38:09.497Z"
   },
   {
    "duration": 32,
    "start_time": "2021-06-17T07:38:09.565Z"
   },
   {
    "duration": 9,
    "start_time": "2021-06-17T07:38:09.655Z"
   },
   {
    "duration": 7,
    "start_time": "2021-06-17T07:38:32.584Z"
   },
   {
    "duration": 33,
    "start_time": "2021-06-17T07:39:42.448Z"
   },
   {
    "duration": 11,
    "start_time": "2021-06-17T07:39:55.640Z"
   },
   {
    "duration": 19,
    "start_time": "2021-06-17T07:39:56.073Z"
   },
   {
    "duration": 7,
    "start_time": "2021-06-17T07:39:56.583Z"
   },
   {
    "duration": 33,
    "start_time": "2021-06-17T07:39:56.984Z"
   },
   {
    "duration": 866,
    "start_time": "2021-06-17T07:44:51.436Z"
   },
   {
    "duration": 13,
    "start_time": "2021-06-17T07:45:08.083Z"
   },
   {
    "duration": 16,
    "start_time": "2021-06-17T07:45:15.700Z"
   },
   {
    "duration": 13,
    "start_time": "2021-06-18T12:43:12.094Z"
   },
   {
    "duration": 309,
    "start_time": "2021-06-18T12:43:27.234Z"
   },
   {
    "duration": 23,
    "start_time": "2021-06-18T12:43:31.186Z"
   },
   {
    "duration": 942,
    "start_time": "2021-06-18T12:44:34.903Z"
   },
   {
    "duration": 88,
    "start_time": "2021-06-18T12:47:17.979Z"
   },
   {
    "duration": 23,
    "start_time": "2021-06-18T12:47:27.338Z"
   },
   {
    "duration": 259,
    "start_time": "2021-06-18T12:47:46.663Z"
   },
   {
    "duration": 27,
    "start_time": "2021-06-18T12:48:00.771Z"
   },
   {
    "duration": 24,
    "start_time": "2021-06-18T12:49:28.368Z"
   },
   {
    "duration": 16,
    "start_time": "2021-06-18T12:51:18.248Z"
   },
   {
    "duration": 1058,
    "start_time": "2021-06-18T12:51:25.041Z"
   },
   {
    "duration": 1157,
    "start_time": "2021-06-18T12:51:33.067Z"
   },
   {
    "duration": 11,
    "start_time": "2021-06-18T12:52:09.938Z"
   },
   {
    "duration": 980,
    "start_time": "2021-06-18T12:52:45.988Z"
   },
   {
    "duration": 794,
    "start_time": "2021-06-18T12:53:52.662Z"
   },
   {
    "duration": 1079,
    "start_time": "2021-06-18T12:54:35.079Z"
   },
   {
    "duration": 8,
    "start_time": "2021-06-18T12:54:44.432Z"
   },
   {
    "duration": 11,
    "start_time": "2021-06-18T12:54:50.111Z"
   },
   {
    "duration": 1300,
    "start_time": "2021-06-18T12:55:31.145Z"
   },
   {
    "duration": 2236,
    "start_time": "2021-06-18T12:55:39.497Z"
   },
   {
    "duration": 68,
    "start_time": "2021-06-18T12:55:41.737Z"
   },
   {
    "duration": 22,
    "start_time": "2021-06-18T12:55:41.808Z"
   },
   {
    "duration": 29,
    "start_time": "2021-06-18T12:55:41.833Z"
   },
   {
    "duration": 36,
    "start_time": "2021-06-18T12:55:41.864Z"
   },
   {
    "duration": 14,
    "start_time": "2021-06-18T12:55:41.902Z"
   },
   {
    "duration": 42,
    "start_time": "2021-06-18T12:55:41.919Z"
   },
   {
    "duration": 25,
    "start_time": "2021-06-18T12:55:41.964Z"
   },
   {
    "duration": 10,
    "start_time": "2021-06-18T12:55:41.992Z"
   },
   {
    "duration": 9,
    "start_time": "2021-06-18T12:55:42.005Z"
   },
   {
    "duration": 44,
    "start_time": "2021-06-18T12:55:42.017Z"
   },
   {
    "duration": 8,
    "start_time": "2021-06-18T12:55:42.065Z"
   },
   {
    "duration": 81,
    "start_time": "2021-06-18T12:55:42.076Z"
   },
   {
    "duration": 16,
    "start_time": "2021-06-18T12:55:42.159Z"
   },
   {
    "duration": 625,
    "start_time": "2021-06-18T12:55:42.177Z"
   },
   {
    "duration": 8,
    "start_time": "2021-06-18T12:55:42.805Z"
   },
   {
    "duration": 569,
    "start_time": "2021-06-18T12:55:42.816Z"
   },
   {
    "duration": 24,
    "start_time": "2021-06-18T12:55:43.387Z"
   },
   {
    "duration": 42,
    "start_time": "2021-06-18T12:55:43.414Z"
   },
   {
    "duration": 565,
    "start_time": "2021-06-18T12:55:43.460Z"
   },
   {
    "duration": 558,
    "start_time": "2021-06-18T12:55:44.028Z"
   },
   {
    "duration": 6,
    "start_time": "2021-06-18T12:55:44.589Z"
   },
   {
    "duration": 654,
    "start_time": "2021-06-18T12:55:44.601Z"
   },
   {
    "duration": 1500,
    "start_time": "2021-06-18T12:55:45.259Z"
   },
   {
    "duration": 116,
    "start_time": "2021-06-18T12:55:46.761Z"
   },
   {
    "duration": 16,
    "start_time": "2021-06-18T12:55:46.880Z"
   },
   {
    "duration": 15,
    "start_time": "2021-06-18T12:55:46.899Z"
   },
   {
    "duration": 51,
    "start_time": "2021-06-18T12:55:46.917Z"
   },
   {
    "duration": 12,
    "start_time": "2021-06-18T12:55:46.971Z"
   },
   {
    "duration": 1089,
    "start_time": "2021-06-18T12:55:46.986Z"
   },
   {
    "duration": 18,
    "start_time": "2021-06-18T12:55:48.077Z"
   },
   {
    "duration": 26,
    "start_time": "2021-06-18T12:55:48.098Z"
   },
   {
    "duration": 1108,
    "start_time": "2021-06-18T12:55:48.155Z"
   },
   {
    "duration": 32,
    "start_time": "2021-06-18T12:55:49.266Z"
   },
   {
    "duration": 8,
    "start_time": "2021-06-18T12:55:49.301Z"
   },
   {
    "duration": 55,
    "start_time": "2021-06-18T12:55:49.312Z"
   },
   {
    "duration": 17,
    "start_time": "2021-06-18T12:55:49.370Z"
   },
   {
    "duration": 10,
    "start_time": "2021-06-18T12:55:49.390Z"
   },
   {
    "duration": 52,
    "start_time": "2021-06-18T12:55:49.403Z"
   },
   {
    "duration": 19,
    "start_time": "2021-06-18T12:55:49.458Z"
   },
   {
    "duration": 30,
    "start_time": "2021-06-18T12:55:49.479Z"
   },
   {
    "duration": 22,
    "start_time": "2021-06-18T12:55:49.512Z"
   },
   {
    "duration": 44,
    "start_time": "2021-06-18T12:55:49.537Z"
   },
   {
    "duration": 21,
    "start_time": "2021-06-18T12:55:49.583Z"
   },
   {
    "duration": 64,
    "start_time": "2021-06-18T12:55:49.607Z"
   },
   {
    "duration": 11,
    "start_time": "2021-06-18T12:55:49.674Z"
   },
   {
    "duration": 30,
    "start_time": "2021-06-18T12:55:49.688Z"
   },
   {
    "duration": 49,
    "start_time": "2021-06-18T12:55:49.721Z"
   },
   {
    "duration": 14,
    "start_time": "2021-06-18T12:55:49.774Z"
   },
   {
    "duration": 1798,
    "start_time": "2021-06-18T12:55:49.791Z"
   },
   {
    "duration": 1358,
    "start_time": "2021-06-18T12:56:33.825Z"
   },
   {
    "duration": 687,
    "start_time": "2021-06-18T12:57:16.161Z"
   },
   {
    "duration": 14,
    "start_time": "2021-06-18T12:58:35.244Z"
   },
   {
    "duration": 36,
    "start_time": "2021-06-18T12:58:35.612Z"
   },
   {
    "duration": 2060,
    "start_time": "2021-06-18T12:59:22.709Z"
   },
   {
    "duration": 58,
    "start_time": "2021-06-18T12:59:24.772Z"
   },
   {
    "duration": 17,
    "start_time": "2021-06-18T12:59:24.833Z"
   },
   {
    "duration": 14,
    "start_time": "2021-06-18T12:59:24.853Z"
   },
   {
    "duration": 27,
    "start_time": "2021-06-18T12:59:24.870Z"
   },
   {
    "duration": 10,
    "start_time": "2021-06-18T12:59:24.900Z"
   },
   {
    "duration": 47,
    "start_time": "2021-06-18T12:59:24.913Z"
   },
   {
    "duration": 24,
    "start_time": "2021-06-18T12:59:24.964Z"
   },
   {
    "duration": 11,
    "start_time": "2021-06-18T12:59:24.991Z"
   },
   {
    "duration": 9,
    "start_time": "2021-06-18T12:59:25.004Z"
   },
   {
    "duration": 6,
    "start_time": "2021-06-18T12:59:25.057Z"
   },
   {
    "duration": 21,
    "start_time": "2021-06-18T12:59:25.065Z"
   },
   {
    "duration": 88,
    "start_time": "2021-06-18T12:59:25.089Z"
   },
   {
    "duration": 12,
    "start_time": "2021-06-18T12:59:25.180Z"
   },
   {
    "duration": 633,
    "start_time": "2021-06-18T12:59:25.195Z"
   },
   {
    "duration": 9,
    "start_time": "2021-06-18T12:59:25.831Z"
   },
   {
    "duration": 535,
    "start_time": "2021-06-18T12:59:25.843Z"
   },
   {
    "duration": 22,
    "start_time": "2021-06-18T12:59:26.380Z"
   },
   {
    "duration": 10,
    "start_time": "2021-06-18T12:59:26.404Z"
   },
   {
    "duration": 894,
    "start_time": "2021-06-18T12:59:26.417Z"
   },
   {
    "duration": 530,
    "start_time": "2021-06-18T12:59:27.315Z"
   },
   {
    "duration": 12,
    "start_time": "2021-06-18T12:59:27.847Z"
   },
   {
    "duration": 622,
    "start_time": "2021-06-18T12:59:27.866Z"
   },
   {
    "duration": 1454,
    "start_time": "2021-06-18T12:59:28.492Z"
   },
   {
    "duration": 114,
    "start_time": "2021-06-18T12:59:29.950Z"
   },
   {
    "duration": 15,
    "start_time": "2021-06-18T12:59:30.067Z"
   },
   {
    "duration": 14,
    "start_time": "2021-06-18T12:59:30.084Z"
   },
   {
    "duration": 22,
    "start_time": "2021-06-18T12:59:30.101Z"
   },
   {
    "duration": 39,
    "start_time": "2021-06-18T12:59:30.126Z"
   },
   {
    "duration": 1335,
    "start_time": "2021-06-18T12:59:30.168Z"
   },
   {
    "duration": 18,
    "start_time": "2021-06-18T12:59:31.506Z"
   },
   {
    "duration": 55,
    "start_time": "2021-06-18T12:59:31.527Z"
   },
   {
    "duration": 876,
    "start_time": "2021-06-18T12:59:31.585Z"
   },
   {
    "duration": 24,
    "start_time": "2021-06-18T12:59:32.463Z"
   },
   {
    "duration": 8,
    "start_time": "2021-06-18T12:59:32.490Z"
   },
   {
    "duration": 30,
    "start_time": "2021-06-18T12:59:32.501Z"
   },
   {
    "duration": 37,
    "start_time": "2021-06-18T12:59:32.534Z"
   },
   {
    "duration": 8,
    "start_time": "2021-06-18T12:59:32.575Z"
   },
   {
    "duration": 19,
    "start_time": "2021-06-18T12:59:32.586Z"
   },
   {
    "duration": 53,
    "start_time": "2021-06-18T12:59:32.608Z"
   },
   {
    "duration": 16,
    "start_time": "2021-06-18T12:59:32.664Z"
   },
   {
    "duration": 13,
    "start_time": "2021-06-18T12:59:32.683Z"
   },
   {
    "duration": 59,
    "start_time": "2021-06-18T12:59:32.698Z"
   },
   {
    "duration": 12,
    "start_time": "2021-06-18T12:59:32.759Z"
   },
   {
    "duration": 39,
    "start_time": "2021-06-18T12:59:32.773Z"
   },
   {
    "duration": 13,
    "start_time": "2021-06-18T12:59:32.856Z"
   },
   {
    "duration": 35,
    "start_time": "2021-06-18T12:59:32.873Z"
   },
   {
    "duration": 52,
    "start_time": "2021-06-18T12:59:32.911Z"
   },
   {
    "duration": 10,
    "start_time": "2021-06-18T12:59:32.965Z"
   },
   {
    "duration": 1198,
    "start_time": "2021-06-18T12:59:32.977Z"
   },
   {
    "duration": 1039,
    "start_time": "2021-06-18T12:59:34.177Z"
   },
   {
    "duration": 993,
    "start_time": "2021-06-18T12:59:49.448Z"
   },
   {
    "duration": 1688,
    "start_time": "2021-06-18T13:01:02.510Z"
   },
   {
    "duration": 876,
    "start_time": "2021-06-18T13:01:58.765Z"
   },
   {
    "duration": 120,
    "start_time": "2021-06-18T13:03:13.951Z"
   },
   {
    "duration": 5,
    "start_time": "2021-06-18T13:03:26.939Z"
   },
   {
    "duration": 10,
    "start_time": "2021-06-18T13:04:32.985Z"
   },
   {
    "duration": 843,
    "start_time": "2021-06-18T13:05:12.907Z"
   },
   {
    "duration": 804,
    "start_time": "2021-06-18T13:12:42.793Z"
   },
   {
    "duration": 801,
    "start_time": "2021-06-18T13:12:53.185Z"
   },
   {
    "duration": 1181,
    "start_time": "2021-06-18T13:13:26.998Z"
   },
   {
    "duration": 834,
    "start_time": "2021-06-18T13:13:48.876Z"
   },
   {
    "duration": 840,
    "start_time": "2021-06-18T13:14:49.630Z"
   },
   {
    "duration": 865,
    "start_time": "2021-06-18T13:15:02.174Z"
   },
   {
    "duration": 806,
    "start_time": "2021-06-18T13:15:11.046Z"
   },
   {
    "duration": 834,
    "start_time": "2021-06-18T13:16:12.136Z"
   },
   {
    "duration": 818,
    "start_time": "2021-06-18T13:17:54.587Z"
   },
   {
    "duration": 5,
    "start_time": "2021-06-18T13:40:33.835Z"
   },
   {
    "duration": 5,
    "start_time": "2021-06-18T13:47:12.587Z"
   },
   {
    "duration": 442,
    "start_time": "2021-06-18T13:49:34.517Z"
   },
   {
    "duration": 7,
    "start_time": "2021-06-18T13:49:40.313Z"
   },
   {
    "duration": 94,
    "start_time": "2021-06-18T13:53:06.275Z"
   },
   {
    "duration": 1215,
    "start_time": "2021-06-18T13:53:11.167Z"
   },
   {
    "duration": 1195,
    "start_time": "2021-06-18T13:54:20.074Z"
   },
   {
    "duration": 896,
    "start_time": "2021-06-18T13:55:09.171Z"
   },
   {
    "duration": 5,
    "start_time": "2021-06-18T13:58:35.354Z"
   },
   {
    "duration": 6,
    "start_time": "2021-06-18T13:58:43.644Z"
   },
   {
    "duration": 15,
    "start_time": "2021-06-18T14:08:28.581Z"
   },
   {
    "duration": 11,
    "start_time": "2021-06-18T14:08:29.494Z"
   },
   {
    "duration": 12,
    "start_time": "2021-06-18T14:16:53.130Z"
   },
   {
    "duration": 14,
    "start_time": "2021-06-18T14:16:54.711Z"
   },
   {
    "duration": 26,
    "start_time": "2021-06-18T14:17:02.135Z"
   },
   {
    "duration": 23,
    "start_time": "2021-06-19T07:37:25.688Z"
   },
   {
    "duration": 17,
    "start_time": "2021-06-19T07:37:43.373Z"
   },
   {
    "duration": 566,
    "start_time": "2021-06-19T07:52:00.205Z"
   },
   {
    "duration": 2042,
    "start_time": "2021-06-19T07:55:35.477Z"
   },
   {
    "duration": 65,
    "start_time": "2021-06-19T07:55:37.522Z"
   },
   {
    "duration": 18,
    "start_time": "2021-06-19T07:55:37.589Z"
   },
   {
    "duration": 50,
    "start_time": "2021-06-19T07:55:37.611Z"
   },
   {
    "duration": 29,
    "start_time": "2021-06-19T07:55:37.664Z"
   },
   {
    "duration": 12,
    "start_time": "2021-06-19T07:55:37.695Z"
   },
   {
    "duration": 10,
    "start_time": "2021-06-19T07:55:37.710Z"
   },
   {
    "duration": 30,
    "start_time": "2021-06-19T07:55:37.758Z"
   },
   {
    "duration": 9,
    "start_time": "2021-06-19T07:55:37.792Z"
   },
   {
    "duration": 7,
    "start_time": "2021-06-19T07:55:37.804Z"
   },
   {
    "duration": 53,
    "start_time": "2021-06-19T07:55:37.813Z"
   },
   {
    "duration": 7,
    "start_time": "2021-06-19T07:55:37.868Z"
   },
   {
    "duration": 79,
    "start_time": "2021-06-19T07:55:37.877Z"
   },
   {
    "duration": 19,
    "start_time": "2021-06-19T07:55:37.958Z"
   },
   {
    "duration": 548,
    "start_time": "2021-06-19T07:55:37.979Z"
   },
   {
    "duration": 9,
    "start_time": "2021-06-19T07:55:38.529Z"
   },
   {
    "duration": 392,
    "start_time": "2021-06-19T07:55:38.556Z"
   },
   {
    "duration": 23,
    "start_time": "2021-06-19T07:55:38.951Z"
   },
   {
    "duration": 10,
    "start_time": "2021-06-19T07:55:38.977Z"
   },
   {
    "duration": 530,
    "start_time": "2021-06-19T07:55:38.989Z"
   },
   {
    "duration": 530,
    "start_time": "2021-06-19T07:55:39.522Z"
   },
   {
    "duration": 11,
    "start_time": "2021-06-19T07:55:40.056Z"
   },
   {
    "duration": 604,
    "start_time": "2021-06-19T07:55:40.075Z"
   },
   {
    "duration": 1587,
    "start_time": "2021-06-19T07:55:40.685Z"
   },
   {
    "duration": 127,
    "start_time": "2021-06-19T07:55:42.275Z"
   },
   {
    "duration": 18,
    "start_time": "2021-06-19T07:55:42.404Z"
   },
   {
    "duration": 32,
    "start_time": "2021-06-19T07:55:42.425Z"
   },
   {
    "duration": 18,
    "start_time": "2021-06-19T07:55:42.460Z"
   },
   {
    "duration": 12,
    "start_time": "2021-06-19T07:55:42.481Z"
   },
   {
    "duration": 1384,
    "start_time": "2021-06-19T07:55:42.496Z"
   },
   {
    "duration": 14,
    "start_time": "2021-06-19T07:55:43.883Z"
   },
   {
    "duration": 61,
    "start_time": "2021-06-19T07:55:43.900Z"
   },
   {
    "duration": 1106,
    "start_time": "2021-06-19T07:55:43.967Z"
   },
   {
    "duration": 23,
    "start_time": "2021-06-19T07:55:45.076Z"
   },
   {
    "duration": 9,
    "start_time": "2021-06-19T07:55:45.102Z"
   },
   {
    "duration": 53,
    "start_time": "2021-06-19T07:55:45.113Z"
   },
   {
    "duration": 19,
    "start_time": "2021-06-19T07:55:45.170Z"
   },
   {
    "duration": 9,
    "start_time": "2021-06-19T07:55:45.191Z"
   },
   {
    "duration": 61,
    "start_time": "2021-06-19T07:55:45.202Z"
   },
   {
    "duration": 18,
    "start_time": "2021-06-19T07:55:45.272Z"
   },
   {
    "duration": 12,
    "start_time": "2021-06-19T07:55:45.293Z"
   },
   {
    "duration": 54,
    "start_time": "2021-06-19T07:55:45.308Z"
   },
   {
    "duration": 25,
    "start_time": "2021-06-19T07:55:45.364Z"
   },
   {
    "duration": 10,
    "start_time": "2021-06-19T07:55:45.391Z"
   },
   {
    "duration": 75,
    "start_time": "2021-06-19T07:55:45.403Z"
   },
   {
    "duration": 9,
    "start_time": "2021-06-19T07:55:45.486Z"
   },
   {
    "duration": 10,
    "start_time": "2021-06-19T07:55:45.497Z"
   },
   {
    "duration": 997,
    "start_time": "2021-06-19T07:55:45.509Z"
   },
   {
    "duration": 6,
    "start_time": "2021-06-19T07:55:46.508Z"
   },
   {
    "duration": 52,
    "start_time": "2021-06-19T07:55:46.516Z"
   },
   {
    "duration": 977,
    "start_time": "2021-06-19T07:55:58.208Z"
   },
   {
    "duration": 1070,
    "start_time": "2021-06-19T08:10:36.511Z"
   },
   {
    "duration": 18,
    "start_time": "2021-06-19T08:13:39.413Z"
   },
   {
    "duration": 19,
    "start_time": "2021-06-19T08:14:38.517Z"
   },
   {
    "duration": 11,
    "start_time": "2021-06-19T08:17:46.409Z"
   },
   {
    "duration": 10,
    "start_time": "2021-06-19T08:17:54.639Z"
   },
   {
    "duration": 6,
    "start_time": "2021-06-19T08:18:37.405Z"
   },
   {
    "duration": 10,
    "start_time": "2021-06-19T08:18:50.694Z"
   },
   {
    "duration": 521,
    "start_time": "2021-06-19T08:19:34.361Z"
   },
   {
    "duration": 5,
    "start_time": "2021-06-19T08:19:40.493Z"
   },
   {
    "duration": 15,
    "start_time": "2021-06-19T08:19:41.976Z"
   },
   {
    "duration": 5,
    "start_time": "2021-06-19T08:19:56.741Z"
   },
   {
    "duration": 127,
    "start_time": "2021-06-19T08:19:57.232Z"
   },
   {
    "duration": 2027,
    "start_time": "2021-06-19T08:20:41.695Z"
   },
   {
    "duration": 63,
    "start_time": "2021-06-19T08:20:43.724Z"
   },
   {
    "duration": 17,
    "start_time": "2021-06-19T08:20:43.790Z"
   },
   {
    "duration": 17,
    "start_time": "2021-06-19T08:20:43.810Z"
   },
   {
    "duration": 32,
    "start_time": "2021-06-19T08:20:43.855Z"
   },
   {
    "duration": 14,
    "start_time": "2021-06-19T08:20:43.890Z"
   },
   {
    "duration": 8,
    "start_time": "2021-06-19T08:20:43.907Z"
   },
   {
    "duration": 27,
    "start_time": "2021-06-19T08:20:43.959Z"
   },
   {
    "duration": 8,
    "start_time": "2021-06-19T08:20:43.989Z"
   },
   {
    "duration": 7,
    "start_time": "2021-06-19T08:20:44.000Z"
   },
   {
    "duration": 61,
    "start_time": "2021-06-19T08:20:44.010Z"
   },
   {
    "duration": 6,
    "start_time": "2021-06-19T08:20:44.074Z"
   },
   {
    "duration": 73,
    "start_time": "2021-06-19T08:20:44.083Z"
   },
   {
    "duration": 11,
    "start_time": "2021-06-19T08:20:44.164Z"
   },
   {
    "duration": 23,
    "start_time": "2021-06-19T08:20:44.177Z"
   },
   {
    "duration": 8,
    "start_time": "2021-06-19T08:20:44.203Z"
   },
   {
    "duration": 10,
    "start_time": "2021-06-19T08:20:44.213Z"
   },
   {
    "duration": 552,
    "start_time": "2021-06-19T08:20:44.256Z"
   },
   {
    "duration": 9,
    "start_time": "2021-06-19T08:20:44.811Z"
   },
   {
    "duration": 403,
    "start_time": "2021-06-19T08:20:44.823Z"
   },
   {
    "duration": 48,
    "start_time": "2021-06-19T08:20:45.229Z"
   },
   {
    "duration": 9,
    "start_time": "2021-06-19T08:20:45.279Z"
   },
   {
    "duration": 524,
    "start_time": "2021-06-19T08:20:45.294Z"
   },
   {
    "duration": 638,
    "start_time": "2021-06-19T08:20:45.821Z"
   },
   {
    "duration": 9,
    "start_time": "2021-06-19T08:20:46.462Z"
   },
   {
    "duration": 618,
    "start_time": "2021-06-19T08:20:46.474Z"
   },
   {
    "duration": 2289,
    "start_time": "2021-06-19T08:20:47.095Z"
   },
   {
    "duration": 17,
    "start_time": "2021-06-19T08:20:49.386Z"
   },
   {
    "duration": 116,
    "start_time": "2021-06-19T08:20:49.406Z"
   },
   {
    "duration": 14,
    "start_time": "2021-06-19T08:20:49.524Z"
   },
   {
    "duration": 19,
    "start_time": "2021-06-19T08:20:49.540Z"
   },
   {
    "duration": 16,
    "start_time": "2021-06-19T08:20:49.562Z"
   },
   {
    "duration": 10,
    "start_time": "2021-06-19T08:20:49.580Z"
   },
   {
    "duration": 985,
    "start_time": "2021-06-19T08:20:49.592Z"
   },
   {
    "duration": 14,
    "start_time": "2021-06-19T08:20:50.581Z"
   },
   {
    "duration": 65,
    "start_time": "2021-06-19T08:20:50.599Z"
   },
   {
    "duration": 1230,
    "start_time": "2021-06-19T08:20:50.667Z"
   },
   {
    "duration": 23,
    "start_time": "2021-06-19T08:20:51.900Z"
   },
   {
    "duration": 8,
    "start_time": "2021-06-19T08:20:51.926Z"
   },
   {
    "duration": 40,
    "start_time": "2021-06-19T08:20:51.936Z"
   },
   {
    "duration": 18,
    "start_time": "2021-06-19T08:20:51.979Z"
   },
   {
    "duration": 8,
    "start_time": "2021-06-19T08:20:52.000Z"
   },
   {
    "duration": 60,
    "start_time": "2021-06-19T08:20:52.010Z"
   },
   {
    "duration": 17,
    "start_time": "2021-06-19T08:20:52.073Z"
   },
   {
    "duration": 13,
    "start_time": "2021-06-19T08:20:52.092Z"
   },
   {
    "duration": 55,
    "start_time": "2021-06-19T08:20:52.108Z"
   },
   {
    "duration": 28,
    "start_time": "2021-06-19T08:20:52.166Z"
   },
   {
    "duration": 14,
    "start_time": "2021-06-19T08:20:52.197Z"
   },
   {
    "duration": 62,
    "start_time": "2021-06-19T08:20:52.213Z"
   },
   {
    "duration": 12,
    "start_time": "2021-06-19T08:20:52.288Z"
   },
   {
    "duration": 65,
    "start_time": "2021-06-19T08:20:52.303Z"
   },
   {
    "duration": 963,
    "start_time": "2021-06-19T08:20:52.372Z"
   },
   {
    "duration": 7,
    "start_time": "2021-06-19T08:20:53.337Z"
   },
   {
    "duration": 21,
    "start_time": "2021-06-19T08:20:53.356Z"
   },
   {
    "duration": 11,
    "start_time": "2021-06-19T08:22:04.798Z"
   },
   {
    "duration": 10,
    "start_time": "2021-06-19T08:22:05.518Z"
   },
   {
    "duration": 11,
    "start_time": "2021-06-19T08:22:45.525Z"
   },
   {
    "duration": 11,
    "start_time": "2021-06-19T08:23:41.283Z"
   },
   {
    "duration": 18,
    "start_time": "2021-06-19T08:23:58.259Z"
   },
   {
    "duration": 11,
    "start_time": "2021-06-19T08:24:55.321Z"
   },
   {
    "duration": 8,
    "start_time": "2021-06-19T08:25:04.896Z"
   },
   {
    "duration": 13,
    "start_time": "2021-06-19T08:25:17.686Z"
   },
   {
    "duration": 9,
    "start_time": "2021-06-19T08:25:18.207Z"
   },
   {
    "duration": 11,
    "start_time": "2021-06-19T08:27:00.982Z"
   },
   {
    "duration": 994,
    "start_time": "2021-06-19T08:29:45.289Z"
   },
   {
    "duration": 18,
    "start_time": "2021-06-19T08:30:07.318Z"
   },
   {
    "duration": 15,
    "start_time": "2021-06-19T08:31:11.151Z"
   },
   {
    "duration": 19,
    "start_time": "2021-06-19T08:36:46.379Z"
   },
   {
    "duration": 17,
    "start_time": "2021-06-19T08:38:02.210Z"
   },
   {
    "duration": 20,
    "start_time": "2021-06-19T08:38:09.560Z"
   },
   {
    "duration": 2037,
    "start_time": "2021-06-19T08:39:05.044Z"
   },
   {
    "duration": 87,
    "start_time": "2021-06-19T08:39:07.084Z"
   },
   {
    "duration": 24,
    "start_time": "2021-06-19T08:39:07.175Z"
   },
   {
    "duration": 16,
    "start_time": "2021-06-19T08:39:07.202Z"
   },
   {
    "duration": 61,
    "start_time": "2021-06-19T08:39:07.221Z"
   },
   {
    "duration": 11,
    "start_time": "2021-06-19T08:39:07.285Z"
   },
   {
    "duration": 8,
    "start_time": "2021-06-19T08:39:07.298Z"
   },
   {
    "duration": 75,
    "start_time": "2021-06-19T08:39:07.310Z"
   },
   {
    "duration": 8,
    "start_time": "2021-06-19T08:39:07.388Z"
   },
   {
    "duration": 6,
    "start_time": "2021-06-19T08:39:07.399Z"
   },
   {
    "duration": 57,
    "start_time": "2021-06-19T08:39:07.408Z"
   },
   {
    "duration": 7,
    "start_time": "2021-06-19T08:39:07.468Z"
   },
   {
    "duration": 88,
    "start_time": "2021-06-19T08:39:07.478Z"
   },
   {
    "duration": 10,
    "start_time": "2021-06-19T08:39:07.569Z"
   },
   {
    "duration": 15,
    "start_time": "2021-06-19T08:39:07.581Z"
   },
   {
    "duration": 10,
    "start_time": "2021-06-19T08:39:07.598Z"
   },
   {
    "duration": 560,
    "start_time": "2021-06-19T08:39:07.656Z"
   },
   {
    "duration": 45,
    "start_time": "2021-06-19T08:39:08.219Z"
   },
   {
    "duration": 11,
    "start_time": "2021-06-19T08:39:08.267Z"
   },
   {
    "duration": 12,
    "start_time": "2021-06-19T08:39:08.281Z"
   },
   {
    "duration": 426,
    "start_time": "2021-06-19T08:39:08.297Z"
   },
   {
    "duration": 9,
    "start_time": "2021-06-19T08:39:08.727Z"
   },
   {
    "duration": 16,
    "start_time": "2021-06-19T08:39:08.760Z"
   },
   {
    "duration": 10,
    "start_time": "2021-06-19T08:39:08.780Z"
   },
   {
    "duration": 70,
    "start_time": "2021-06-19T08:39:08.792Z"
   },
   {
    "duration": 13,
    "start_time": "2021-06-19T08:39:08.865Z"
   },
   {
    "duration": 520,
    "start_time": "2021-06-19T08:39:08.881Z"
   },
   {
    "duration": 525,
    "start_time": "2021-06-19T08:39:09.404Z"
   },
   {
    "duration": 7,
    "start_time": "2021-06-19T08:39:09.931Z"
   },
   {
    "duration": 590,
    "start_time": "2021-06-19T08:39:09.959Z"
   },
   {
    "duration": 1476,
    "start_time": "2021-06-19T08:39:10.552Z"
   },
   {
    "duration": 30,
    "start_time": "2021-06-19T08:39:12.031Z"
   },
   {
    "duration": 138,
    "start_time": "2021-06-19T08:39:12.063Z"
   },
   {
    "duration": 15,
    "start_time": "2021-06-19T08:39:12.204Z"
   },
   {
    "duration": 43,
    "start_time": "2021-06-19T08:39:12.222Z"
   },
   {
    "duration": 15,
    "start_time": "2021-06-19T08:39:12.268Z"
   },
   {
    "duration": 14,
    "start_time": "2021-06-19T08:39:12.285Z"
   },
   {
    "duration": 940,
    "start_time": "2021-06-19T08:39:12.301Z"
   },
   {
    "duration": 29,
    "start_time": "2021-06-19T08:39:13.244Z"
   },
   {
    "duration": 35,
    "start_time": "2021-06-19T08:39:13.276Z"
   },
   {
    "duration": 1067,
    "start_time": "2021-06-19T08:39:13.313Z"
   },
   {
    "duration": 24,
    "start_time": "2021-06-19T08:39:14.382Z"
   },
   {
    "duration": 8,
    "start_time": "2021-06-19T08:39:14.408Z"
   },
   {
    "duration": 55,
    "start_time": "2021-06-19T08:39:14.418Z"
   },
   {
    "duration": 17,
    "start_time": "2021-06-19T08:39:14.476Z"
   },
   {
    "duration": 7,
    "start_time": "2021-06-19T08:39:14.496Z"
   },
   {
    "duration": 67,
    "start_time": "2021-06-19T08:39:14.505Z"
   },
   {
    "duration": 16,
    "start_time": "2021-06-19T08:39:14.575Z"
   },
   {
    "duration": 16,
    "start_time": "2021-06-19T08:39:14.594Z"
   },
   {
    "duration": 14,
    "start_time": "2021-06-19T08:39:14.613Z"
   },
   {
    "duration": 24,
    "start_time": "2021-06-19T08:39:14.656Z"
   },
   {
    "duration": 11,
    "start_time": "2021-06-19T08:39:14.683Z"
   },
   {
    "duration": 74,
    "start_time": "2021-06-19T08:39:14.697Z"
   },
   {
    "duration": 25,
    "start_time": "2021-06-19T08:39:14.774Z"
   },
   {
    "duration": 9,
    "start_time": "2021-06-19T08:39:14.801Z"
   },
   {
    "duration": 982,
    "start_time": "2021-06-19T08:39:14.813Z"
   },
   {
    "duration": 8,
    "start_time": "2021-06-19T08:39:15.797Z"
   },
   {
    "duration": 54,
    "start_time": "2021-06-19T08:39:15.807Z"
   },
   {
    "duration": 10,
    "start_time": "2021-06-19T08:39:55.090Z"
   },
   {
    "duration": 10,
    "start_time": "2021-06-19T08:40:05.241Z"
   },
   {
    "duration": 466,
    "start_time": "2021-06-19T08:40:52.709Z"
   },
   {
    "duration": 12,
    "start_time": "2021-06-19T08:40:53.292Z"
   },
   {
    "duration": 13,
    "start_time": "2021-06-19T08:41:02.002Z"
   },
   {
    "duration": 13,
    "start_time": "2021-06-19T08:41:02.916Z"
   },
   {
    "duration": 11,
    "start_time": "2021-06-19T08:41:31.232Z"
   },
   {
    "duration": 14,
    "start_time": "2021-06-19T08:41:32.065Z"
   },
   {
    "duration": 14,
    "start_time": "2021-06-19T08:41:51.367Z"
   },
   {
    "duration": 12,
    "start_time": "2021-06-19T08:41:52.115Z"
   },
   {
    "duration": 978,
    "start_time": "2021-06-19T08:44:09.453Z"
   },
   {
    "duration": 457,
    "start_time": "2021-06-19T08:46:45.727Z"
   },
   {
    "duration": 431,
    "start_time": "2021-06-19T08:46:57.765Z"
   },
   {
    "duration": 6275,
    "start_time": "2021-06-19T08:47:40.480Z"
   },
   {
    "duration": 445,
    "start_time": "2021-06-19T08:47:52.171Z"
   },
   {
    "duration": 9,
    "start_time": "2021-06-19T08:48:08.444Z"
   },
   {
    "duration": 6399,
    "start_time": "2021-06-19T08:50:37.685Z"
   },
   {
    "duration": 9,
    "start_time": "2021-06-19T08:50:57.923Z"
   },
   {
    "duration": 12,
    "start_time": "2021-06-19T08:51:04.883Z"
   },
   {
    "duration": 6,
    "start_time": "2021-06-19T08:52:10.241Z"
   },
   {
    "duration": 6,
    "start_time": "2021-06-19T08:52:38.087Z"
   },
   {
    "duration": 6,
    "start_time": "2021-06-19T08:53:04.521Z"
   },
   {
    "duration": 12,
    "start_time": "2021-06-19T08:54:15.518Z"
   },
   {
    "duration": 7,
    "start_time": "2021-06-19T08:54:28.521Z"
   },
   {
    "duration": 7,
    "start_time": "2021-06-19T08:54:35.405Z"
   },
   {
    "duration": 15,
    "start_time": "2021-06-19T08:54:41.081Z"
   },
   {
    "duration": 9,
    "start_time": "2021-06-19T08:54:41.678Z"
   },
   {
    "duration": 9,
    "start_time": "2021-06-19T08:54:42.391Z"
   },
   {
    "duration": 9,
    "start_time": "2021-06-19T08:54:47.592Z"
   },
   {
    "duration": 8,
    "start_time": "2021-06-19T08:54:52.922Z"
   },
   {
    "duration": 5,
    "start_time": "2021-06-19T08:55:50.672Z"
   },
   {
    "duration": 5,
    "start_time": "2021-06-19T08:57:17.047Z"
   },
   {
    "duration": 5,
    "start_time": "2021-06-19T08:57:23.721Z"
   },
   {
    "duration": 10,
    "start_time": "2021-06-19T09:03:17.065Z"
   },
   {
    "duration": 12,
    "start_time": "2021-06-19T09:03:23.947Z"
   },
   {
    "duration": 7,
    "start_time": "2021-06-19T09:03:39.422Z"
   },
   {
    "duration": 266,
    "start_time": "2021-06-19T09:04:20.081Z"
   },
   {
    "duration": 7,
    "start_time": "2021-06-19T09:04:26.693Z"
   },
   {
    "duration": 6,
    "start_time": "2021-06-19T09:04:56.523Z"
   },
   {
    "duration": 6,
    "start_time": "2021-06-19T09:05:05.482Z"
   },
   {
    "duration": 6809,
    "start_time": "2021-06-19T09:07:56.211Z"
   },
   {
    "duration": 665,
    "start_time": "2021-06-19T09:08:14.042Z"
   },
   {
    "duration": 7,
    "start_time": "2021-06-19T09:11:12.255Z"
   },
   {
    "duration": 783,
    "start_time": "2021-06-19T09:13:25.957Z"
   },
   {
    "duration": 7,
    "start_time": "2021-06-19T09:14:03.906Z"
   },
   {
    "duration": 932,
    "start_time": "2021-06-19T09:14:19.214Z"
   },
   {
    "duration": 6,
    "start_time": "2021-06-19T09:14:31.363Z"
   },
   {
    "duration": 7,
    "start_time": "2021-06-19T09:15:04.944Z"
   },
   {
    "duration": 8,
    "start_time": "2021-06-19T09:15:14.914Z"
   },
   {
    "duration": 802,
    "start_time": "2021-06-19T09:16:24.129Z"
   },
   {
    "duration": 779,
    "start_time": "2021-06-19T09:17:28.115Z"
   },
   {
    "duration": 761,
    "start_time": "2021-06-19T09:17:40.845Z"
   },
   {
    "duration": 8,
    "start_time": "2021-06-19T09:19:35.545Z"
   },
   {
    "duration": 2009,
    "start_time": "2021-06-19T09:19:55.068Z"
   },
   {
    "duration": 60,
    "start_time": "2021-06-19T09:19:57.080Z"
   },
   {
    "duration": 17,
    "start_time": "2021-06-19T09:19:57.143Z"
   },
   {
    "duration": 13,
    "start_time": "2021-06-19T09:19:57.164Z"
   },
   {
    "duration": 24,
    "start_time": "2021-06-19T09:19:57.180Z"
   },
   {
    "duration": 61,
    "start_time": "2021-06-19T09:19:57.206Z"
   },
   {
    "duration": 9,
    "start_time": "2021-06-19T09:19:57.270Z"
   },
   {
    "duration": 33,
    "start_time": "2021-06-19T09:19:57.282Z"
   },
   {
    "duration": 12,
    "start_time": "2021-06-19T09:19:57.358Z"
   },
   {
    "duration": 10,
    "start_time": "2021-06-19T09:19:57.375Z"
   },
   {
    "duration": 10,
    "start_time": "2021-06-19T09:19:57.389Z"
   },
   {
    "duration": 56,
    "start_time": "2021-06-19T09:19:57.403Z"
   },
   {
    "duration": 46,
    "start_time": "2021-06-19T09:19:57.462Z"
   },
   {
    "duration": 9,
    "start_time": "2021-06-19T09:19:57.511Z"
   },
   {
    "duration": 12,
    "start_time": "2021-06-19T09:19:57.557Z"
   },
   {
    "duration": 11,
    "start_time": "2021-06-19T09:19:57.571Z"
   },
   {
    "duration": 596,
    "start_time": "2021-06-19T09:19:57.584Z"
   },
   {
    "duration": 12,
    "start_time": "2021-06-19T09:19:58.182Z"
   },
   {
    "duration": 10,
    "start_time": "2021-06-19T09:19:58.196Z"
   },
   {
    "duration": 50,
    "start_time": "2021-06-19T09:19:58.209Z"
   },
   {
    "duration": 397,
    "start_time": "2021-06-19T09:19:58.262Z"
   },
   {
    "duration": 7,
    "start_time": "2021-06-19T09:19:58.661Z"
   },
   {
    "duration": 15,
    "start_time": "2021-06-19T09:19:58.670Z"
   },
   {
    "duration": 12,
    "start_time": "2021-06-19T09:19:58.687Z"
   },
   {
    "duration": 76,
    "start_time": "2021-06-19T09:19:58.701Z"
   },
   {
    "duration": 10,
    "start_time": "2021-06-19T09:19:58.780Z"
   },
   {
    "duration": 536,
    "start_time": "2021-06-19T09:19:58.796Z"
   },
   {
    "duration": 599,
    "start_time": "2021-06-19T09:19:59.336Z"
   },
   {
    "duration": 20,
    "start_time": "2021-06-19T09:19:59.938Z"
   },
   {
    "duration": 596,
    "start_time": "2021-06-19T09:19:59.960Z"
   },
   {
    "duration": 1627,
    "start_time": "2021-06-19T09:20:00.558Z"
   },
   {
    "duration": 23,
    "start_time": "2021-06-19T09:20:02.188Z"
   },
   {
    "duration": 148,
    "start_time": "2021-06-19T09:20:02.214Z"
   },
   {
    "duration": 16,
    "start_time": "2021-06-19T09:20:02.365Z"
   },
   {
    "duration": 48,
    "start_time": "2021-06-19T09:20:02.385Z"
   },
   {
    "duration": 36,
    "start_time": "2021-06-19T09:20:02.437Z"
   },
   {
    "duration": 33,
    "start_time": "2021-06-19T09:20:02.475Z"
   },
   {
    "duration": 879,
    "start_time": "2021-06-19T09:20:02.511Z"
   },
   {
    "duration": 16,
    "start_time": "2021-06-19T09:20:03.394Z"
   },
   {
    "duration": 57,
    "start_time": "2021-06-19T09:20:03.413Z"
   },
   {
    "duration": 1252,
    "start_time": "2021-06-19T09:20:03.472Z"
   },
   {
    "duration": 26,
    "start_time": "2021-06-19T09:20:04.727Z"
   },
   {
    "duration": 8,
    "start_time": "2021-06-19T09:20:04.756Z"
   },
   {
    "duration": 29,
    "start_time": "2021-06-19T09:20:04.767Z"
   },
   {
    "duration": 18,
    "start_time": "2021-06-19T09:20:04.799Z"
   },
   {
    "duration": 49,
    "start_time": "2021-06-19T09:20:04.820Z"
   },
   {
    "duration": 18,
    "start_time": "2021-06-19T09:20:04.872Z"
   },
   {
    "duration": 17,
    "start_time": "2021-06-19T09:20:04.893Z"
   },
   {
    "duration": 53,
    "start_time": "2021-06-19T09:20:04.912Z"
   },
   {
    "duration": 17,
    "start_time": "2021-06-19T09:20:04.967Z"
   },
   {
    "duration": 21,
    "start_time": "2021-06-19T09:20:04.987Z"
   },
   {
    "duration": 48,
    "start_time": "2021-06-19T09:20:05.011Z"
   },
   {
    "duration": 37,
    "start_time": "2021-06-19T09:20:05.062Z"
   },
   {
    "duration": 10,
    "start_time": "2021-06-19T09:20:05.101Z"
   },
   {
    "duration": 53,
    "start_time": "2021-06-19T09:20:05.114Z"
   },
   {
    "duration": 967,
    "start_time": "2021-06-19T09:20:05.169Z"
   },
   {
    "duration": 20,
    "start_time": "2021-06-19T09:20:06.139Z"
   },
   {
    "duration": 26,
    "start_time": "2021-06-19T09:20:06.162Z"
   },
   {
    "duration": 948,
    "start_time": "2021-06-19T09:21:15.367Z"
   },
   {
    "duration": 2131,
    "start_time": "2021-06-19T09:46:16.006Z"
   },
   {
    "duration": 59,
    "start_time": "2021-06-19T09:46:18.140Z"
   },
   {
    "duration": 17,
    "start_time": "2021-06-19T09:46:18.202Z"
   },
   {
    "duration": 41,
    "start_time": "2021-06-19T09:46:18.222Z"
   },
   {
    "duration": 28,
    "start_time": "2021-06-19T09:46:18.265Z"
   },
   {
    "duration": 13,
    "start_time": "2021-06-19T09:46:18.295Z"
   },
   {
    "duration": 47,
    "start_time": "2021-06-19T09:46:18.311Z"
   },
   {
    "duration": 28,
    "start_time": "2021-06-19T09:46:18.360Z"
   },
   {
    "duration": 10,
    "start_time": "2021-06-19T09:46:18.394Z"
   },
   {
    "duration": 50,
    "start_time": "2021-06-19T09:46:18.407Z"
   },
   {
    "duration": 7,
    "start_time": "2021-06-19T09:46:18.459Z"
   },
   {
    "duration": 16,
    "start_time": "2021-06-19T09:46:18.469Z"
   },
   {
    "duration": 77,
    "start_time": "2021-06-19T09:46:18.487Z"
   },
   {
    "duration": 9,
    "start_time": "2021-06-19T09:46:18.567Z"
   },
   {
    "duration": 16,
    "start_time": "2021-06-19T09:46:18.578Z"
   },
   {
    "duration": 61,
    "start_time": "2021-06-19T09:46:18.597Z"
   },
   {
    "duration": 579,
    "start_time": "2021-06-19T09:46:18.660Z"
   },
   {
    "duration": 24,
    "start_time": "2021-06-19T09:46:19.242Z"
   },
   {
    "duration": 12,
    "start_time": "2021-06-19T09:46:19.268Z"
   },
   {
    "duration": 12,
    "start_time": "2021-06-19T09:46:19.283Z"
   },
   {
    "duration": 459,
    "start_time": "2021-06-19T09:46:19.299Z"
   },
   {
    "duration": 10,
    "start_time": "2021-06-19T09:46:19.761Z"
   },
   {
    "duration": 21,
    "start_time": "2021-06-19T09:46:19.774Z"
   },
   {
    "duration": 24,
    "start_time": "2021-06-19T09:46:19.797Z"
   },
   {
    "duration": 59,
    "start_time": "2021-06-19T09:46:19.825Z"
   },
   {
    "duration": 12,
    "start_time": "2021-06-19T09:46:19.887Z"
   },
   {
    "duration": 788,
    "start_time": "2021-06-19T09:46:19.909Z"
   },
   {
    "duration": 840,
    "start_time": "2021-06-19T09:46:20.702Z"
   },
   {
    "duration": 17,
    "start_time": "2021-06-19T09:46:21.545Z"
   },
   {
    "duration": 887,
    "start_time": "2021-06-19T09:46:21.565Z"
   },
   {
    "duration": 2230,
    "start_time": "2021-06-19T09:46:22.457Z"
   },
   {
    "duration": 24,
    "start_time": "2021-06-19T09:46:24.691Z"
   },
   {
    "duration": 201,
    "start_time": "2021-06-19T09:46:24.718Z"
   },
   {
    "duration": 22,
    "start_time": "2021-06-19T09:46:24.922Z"
   },
   {
    "duration": 25,
    "start_time": "2021-06-19T09:46:24.947Z"
   },
   {
    "duration": 18,
    "start_time": "2021-06-19T09:46:24.975Z"
   },
   {
    "duration": 13,
    "start_time": "2021-06-19T09:46:24.995Z"
   },
   {
    "duration": 1050,
    "start_time": "2021-06-19T09:46:25.011Z"
   },
   {
    "duration": 17,
    "start_time": "2021-06-19T09:46:26.064Z"
   },
   {
    "duration": 24,
    "start_time": "2021-06-19T09:46:26.083Z"
   },
   {
    "duration": 1324,
    "start_time": "2021-06-19T09:46:26.110Z"
   },
   {
    "duration": 23,
    "start_time": "2021-06-19T09:46:27.436Z"
   },
   {
    "duration": 13,
    "start_time": "2021-06-19T09:46:27.461Z"
   },
   {
    "duration": 21,
    "start_time": "2021-06-19T09:46:27.477Z"
   },
   {
    "duration": 18,
    "start_time": "2021-06-19T09:46:27.501Z"
   },
   {
    "duration": 7,
    "start_time": "2021-06-19T09:46:27.558Z"
   },
   {
    "duration": 20,
    "start_time": "2021-06-19T09:46:27.567Z"
   },
   {
    "duration": 66,
    "start_time": "2021-06-19T09:46:27.590Z"
   },
   {
    "duration": 15,
    "start_time": "2021-06-19T09:46:27.658Z"
   },
   {
    "duration": 12,
    "start_time": "2021-06-19T09:46:27.676Z"
   },
   {
    "duration": 22,
    "start_time": "2021-06-19T09:46:27.690Z"
   },
   {
    "duration": 51,
    "start_time": "2021-06-19T09:46:27.714Z"
   },
   {
    "duration": 32,
    "start_time": "2021-06-19T09:46:27.768Z"
   },
   {
    "duration": 9,
    "start_time": "2021-06-19T09:46:27.857Z"
   },
   {
    "duration": 10,
    "start_time": "2021-06-19T09:46:27.869Z"
   },
   {
    "duration": 970,
    "start_time": "2021-06-19T09:46:27.881Z"
   },
   {
    "duration": 6,
    "start_time": "2021-06-19T09:46:28.853Z"
   },
   {
    "duration": 21,
    "start_time": "2021-06-19T09:46:28.862Z"
   },
   {
    "duration": 6,
    "start_time": "2021-06-19T11:04:19.932Z"
   },
   {
    "duration": 83,
    "start_time": "2021-06-19T11:30:10.924Z"
   },
   {
    "duration": 462,
    "start_time": "2021-06-19T11:30:25.499Z"
   },
   {
    "duration": 270,
    "start_time": "2021-06-19T11:30:40.387Z"
   },
   {
    "duration": 251,
    "start_time": "2021-06-19T11:33:13.580Z"
   },
   {
    "duration": 277,
    "start_time": "2021-06-19T11:33:47.935Z"
   },
   {
    "duration": 1051,
    "start_time": "2021-06-19T11:34:01.990Z"
   },
   {
    "duration": 275,
    "start_time": "2021-06-19T11:36:23.599Z"
   },
   {
    "duration": 863,
    "start_time": "2021-06-19T11:36:38.359Z"
   },
   {
    "duration": 93,
    "start_time": "2021-06-19T11:38:40.712Z"
   },
   {
    "duration": 350,
    "start_time": "2021-06-19T11:38:45.991Z"
   },
   {
    "duration": 194,
    "start_time": "2021-06-19T11:38:55.061Z"
   },
   {
    "duration": 485,
    "start_time": "2021-06-19T11:41:27.110Z"
   },
   {
    "duration": 465,
    "start_time": "2021-06-19T11:41:41.623Z"
   },
   {
    "duration": 599,
    "start_time": "2021-06-19T11:42:00.822Z"
   },
   {
    "duration": 412,
    "start_time": "2021-06-19T11:42:25.163Z"
   },
   {
    "duration": 173,
    "start_time": "2021-06-19T11:42:54.443Z"
   },
   {
    "duration": 983,
    "start_time": "2021-06-19T11:53:18.913Z"
   },
   {
    "duration": 259,
    "start_time": "2021-06-19T11:54:50.756Z"
   },
   {
    "duration": 1039,
    "start_time": "2021-06-19T11:55:26.386Z"
   },
   {
    "duration": 273,
    "start_time": "2021-06-19T11:55:42.993Z"
   },
   {
    "duration": 1973,
    "start_time": "2021-06-19T11:56:06.443Z"
   },
   {
    "duration": 978,
    "start_time": "2021-06-19T11:57:45.007Z"
   },
   {
    "duration": 84,
    "start_time": "2021-06-19T12:00:09.747Z"
   },
   {
    "duration": 738,
    "start_time": "2021-06-19T12:00:25.287Z"
   },
   {
    "duration": 12,
    "start_time": "2021-06-19T12:00:50.917Z"
   },
   {
    "duration": 12,
    "start_time": "2021-06-19T12:00:52.157Z"
   },
   {
    "duration": 755,
    "start_time": "2021-06-19T12:00:56.586Z"
   },
   {
    "duration": 317,
    "start_time": "2021-06-19T12:01:34.425Z"
   },
   {
    "duration": 319,
    "start_time": "2021-06-19T12:05:13.655Z"
   },
   {
    "duration": 1531,
    "start_time": "2021-06-19T12:07:18.181Z"
   },
   {
    "duration": 440,
    "start_time": "2021-06-19T12:07:29.274Z"
   },
   {
    "duration": 348,
    "start_time": "2021-06-19T12:09:18.091Z"
   },
   {
    "duration": 587,
    "start_time": "2021-06-19T12:13:50.834Z"
   },
   {
    "duration": 778,
    "start_time": "2021-06-19T12:14:01.766Z"
   },
   {
    "duration": 342,
    "start_time": "2021-06-19T12:14:41.714Z"
   },
   {
    "duration": 412,
    "start_time": "2021-06-19T12:15:10.034Z"
   },
   {
    "duration": 408,
    "start_time": "2021-06-19T12:15:21.714Z"
   },
   {
    "duration": 413,
    "start_time": "2021-06-19T12:15:29.305Z"
   },
   {
    "duration": 431,
    "start_time": "2021-06-19T12:15:40.362Z"
   },
   {
    "duration": 399,
    "start_time": "2021-06-19T12:15:54.925Z"
   },
   {
    "duration": 434,
    "start_time": "2021-06-19T12:16:02.546Z"
   },
   {
    "duration": 475,
    "start_time": "2021-06-19T12:16:12.586Z"
   },
   {
    "duration": 685,
    "start_time": "2021-06-19T12:16:24.476Z"
   },
   {
    "duration": 972,
    "start_time": "2021-06-19T12:16:32.274Z"
   },
   {
    "duration": 688,
    "start_time": "2021-06-19T12:16:59.006Z"
   },
   {
    "duration": 1165,
    "start_time": "2021-06-19T12:17:29.816Z"
   },
   {
    "duration": 692,
    "start_time": "2021-06-19T12:17:35.356Z"
   },
   {
    "duration": 730,
    "start_time": "2021-06-19T12:20:32.926Z"
   },
   {
    "duration": 1596,
    "start_time": "2021-06-19T12:22:23.005Z"
   },
   {
    "duration": 1578,
    "start_time": "2021-06-19T12:22:44.905Z"
   },
   {
    "duration": 83,
    "start_time": "2021-06-19T12:23:31.048Z"
   },
   {
    "duration": 682,
    "start_time": "2021-06-19T12:23:39.896Z"
   },
   {
    "duration": 1054,
    "start_time": "2021-06-19T12:26:06.729Z"
   },
   {
    "duration": 829,
    "start_time": "2021-06-19T12:26:21.039Z"
   },
   {
    "duration": 1689,
    "start_time": "2021-06-19T12:26:30.959Z"
   },
   {
    "duration": 1615,
    "start_time": "2021-06-19T12:29:54.433Z"
   },
   {
    "duration": 302,
    "start_time": "2021-06-19T12:30:03.153Z"
   },
   {
    "duration": 1786,
    "start_time": "2021-06-19T12:30:17.425Z"
   },
   {
    "duration": 1789,
    "start_time": "2021-06-19T12:30:33.734Z"
   },
   {
    "duration": 881,
    "start_time": "2021-06-19T12:30:47.948Z"
   },
   {
    "duration": 610,
    "start_time": "2021-06-19T12:31:03.992Z"
   },
   {
    "duration": 1011,
    "start_time": "2021-06-19T12:31:26.100Z"
   },
   {
    "duration": 607,
    "start_time": "2021-06-19T12:31:33.205Z"
   },
   {
    "duration": 883,
    "start_time": "2021-06-19T13:39:58.955Z"
   },
   {
    "duration": 898,
    "start_time": "2021-06-19T13:40:52.317Z"
   },
   {
    "duration": 803,
    "start_time": "2021-06-19T13:43:07.189Z"
   },
   {
    "duration": 609,
    "start_time": "2021-06-19T13:43:19.809Z"
   },
   {
    "duration": 783,
    "start_time": "2021-06-19T13:46:52.168Z"
   },
   {
    "duration": 268,
    "start_time": "2021-06-19T13:49:27.258Z"
   },
   {
    "duration": 897,
    "start_time": "2021-06-19T13:49:52.671Z"
   },
   {
    "duration": 282,
    "start_time": "2021-06-19T13:50:00.955Z"
   },
   {
    "duration": 246,
    "start_time": "2021-06-19T13:50:08.718Z"
   },
   {
    "duration": 262,
    "start_time": "2021-06-19T13:54:27.116Z"
   },
   {
    "duration": 255,
    "start_time": "2021-06-19T13:55:21.542Z"
   },
   {
    "duration": 2095,
    "start_time": "2021-06-19T13:55:36.958Z"
   },
   {
    "duration": 58,
    "start_time": "2021-06-19T13:55:39.056Z"
   },
   {
    "duration": 18,
    "start_time": "2021-06-19T13:55:39.117Z"
   },
   {
    "duration": 25,
    "start_time": "2021-06-19T13:55:39.138Z"
   },
   {
    "duration": 24,
    "start_time": "2021-06-19T13:55:39.166Z"
   },
   {
    "duration": 11,
    "start_time": "2021-06-19T13:55:39.193Z"
   },
   {
    "duration": 54,
    "start_time": "2021-06-19T13:55:39.206Z"
   },
   {
    "duration": 30,
    "start_time": "2021-06-19T13:55:39.266Z"
   },
   {
    "duration": 10,
    "start_time": "2021-06-19T13:55:39.300Z"
   },
   {
    "duration": 55,
    "start_time": "2021-06-19T13:55:39.313Z"
   },
   {
    "duration": 9,
    "start_time": "2021-06-19T13:55:39.371Z"
   },
   {
    "duration": 12,
    "start_time": "2021-06-19T13:55:39.383Z"
   },
   {
    "duration": 95,
    "start_time": "2021-06-19T13:55:39.398Z"
   },
   {
    "duration": 13,
    "start_time": "2021-06-19T13:55:39.496Z"
   },
   {
    "duration": 50,
    "start_time": "2021-06-19T13:55:39.512Z"
   },
   {
    "duration": 11,
    "start_time": "2021-06-19T13:55:39.564Z"
   },
   {
    "duration": 652,
    "start_time": "2021-06-19T13:55:39.578Z"
   },
   {
    "duration": 545,
    "start_time": "2021-06-19T13:55:40.232Z"
   },
   {
    "duration": 16,
    "start_time": "2021-06-19T13:55:40.780Z"
   },
   {
    "duration": 11,
    "start_time": "2021-06-19T13:55:40.799Z"
   },
   {
    "duration": 52,
    "start_time": "2021-06-19T13:55:40.814Z"
   },
   {
    "duration": 445,
    "start_time": "2021-06-19T13:55:40.870Z"
   },
   {
    "duration": 9,
    "start_time": "2021-06-19T13:55:41.321Z"
   },
   {
    "duration": 31,
    "start_time": "2021-06-19T13:55:41.333Z"
   },
   {
    "duration": 13,
    "start_time": "2021-06-19T13:55:41.367Z"
   },
   {
    "duration": 26,
    "start_time": "2021-06-19T13:55:41.382Z"
   },
   {
    "duration": 47,
    "start_time": "2021-06-19T13:55:41.410Z"
   },
   {
    "duration": 523,
    "start_time": "2021-06-19T13:55:41.460Z"
   },
   {
    "duration": 767,
    "start_time": "2021-06-19T13:55:41.985Z"
   },
   {
    "duration": 6,
    "start_time": "2021-06-19T13:55:42.757Z"
   },
   {
    "duration": 535,
    "start_time": "2021-06-19T13:55:42.766Z"
   },
   {
    "duration": 1434,
    "start_time": "2021-06-19T13:55:43.304Z"
   },
   {
    "duration": 27,
    "start_time": "2021-06-19T13:55:44.741Z"
   },
   {
    "duration": 202,
    "start_time": "2021-06-19T13:55:44.771Z"
   },
   {
    "duration": 21,
    "start_time": "2021-06-19T13:55:44.976Z"
   },
   {
    "duration": 24,
    "start_time": "2021-06-19T13:55:45.000Z"
   },
   {
    "duration": 45,
    "start_time": "2021-06-19T13:55:45.028Z"
   },
   {
    "duration": 18,
    "start_time": "2021-06-19T13:55:45.077Z"
   },
   {
    "duration": 910,
    "start_time": "2021-06-19T13:55:45.098Z"
   },
   {
    "duration": 17,
    "start_time": "2021-06-19T13:55:46.011Z"
   },
   {
    "duration": 49,
    "start_time": "2021-06-19T13:55:46.031Z"
   },
   {
    "duration": 1091,
    "start_time": "2021-06-19T13:55:46.083Z"
   },
   {
    "duration": 33,
    "start_time": "2021-06-19T13:55:47.177Z"
   },
   {
    "duration": 11,
    "start_time": "2021-06-19T13:55:47.214Z"
   },
   {
    "duration": 33,
    "start_time": "2021-06-19T13:55:47.257Z"
   },
   {
    "duration": 30,
    "start_time": "2021-06-19T13:55:47.293Z"
   },
   {
    "duration": 8,
    "start_time": "2021-06-19T13:55:47.357Z"
   },
   {
    "duration": 22,
    "start_time": "2021-06-19T13:55:47.368Z"
   },
   {
    "duration": 73,
    "start_time": "2021-06-19T13:55:47.394Z"
   },
   {
    "duration": 17,
    "start_time": "2021-06-19T13:55:47.470Z"
   },
   {
    "duration": 28,
    "start_time": "2021-06-19T13:55:47.490Z"
   },
   {
    "duration": 50,
    "start_time": "2021-06-19T13:55:47.522Z"
   },
   {
    "duration": 14,
    "start_time": "2021-06-19T13:55:47.575Z"
   },
   {
    "duration": 92,
    "start_time": "2021-06-19T13:55:47.592Z"
   },
   {
    "duration": 9,
    "start_time": "2021-06-19T13:55:47.687Z"
   },
   {
    "duration": 17,
    "start_time": "2021-06-19T13:55:47.699Z"
   },
   {
    "duration": 1065,
    "start_time": "2021-06-19T13:55:47.719Z"
   },
   {
    "duration": 6,
    "start_time": "2021-06-19T13:55:48.787Z"
   },
   {
    "duration": 74,
    "start_time": "2021-06-19T13:55:48.795Z"
   },
   {
    "duration": 750,
    "start_time": "2021-06-19T13:56:12.113Z"
   },
   {
    "duration": 600,
    "start_time": "2021-06-19T13:56:24.089Z"
   },
   {
    "duration": 81,
    "start_time": "2021-06-19T14:15:48.494Z"
   },
   {
    "duration": 468,
    "start_time": "2021-06-19T14:18:00.061Z"
   },
   {
    "duration": 611,
    "start_time": "2021-06-19T14:28:38.154Z"
   },
   {
    "duration": 732,
    "start_time": "2021-06-19T14:32:53.198Z"
   },
   {
    "duration": 592,
    "start_time": "2021-06-19T14:33:05.122Z"
   },
   {
    "duration": 572,
    "start_time": "2021-06-19T14:33:21.588Z"
   },
   {
    "duration": 864,
    "start_time": "2021-06-19T14:33:51.081Z"
   },
   {
    "duration": 18,
    "start_time": "2021-06-19T14:34:01.256Z"
   },
   {
    "duration": 16,
    "start_time": "2021-06-19T14:34:07.025Z"
   },
   {
    "duration": 16,
    "start_time": "2021-06-19T14:34:07.603Z"
   },
   {
    "duration": 600,
    "start_time": "2021-06-19T14:34:10.251Z"
   },
   {
    "duration": 967,
    "start_time": "2021-06-19T15:28:29.400Z"
   },
   {
    "duration": 255,
    "start_time": "2021-06-19T15:33:04.388Z"
   },
   {
    "duration": 15,
    "start_time": "2021-06-19T15:33:09.076Z"
   },
   {
    "duration": 18,
    "start_time": "2021-06-19T15:35:06.095Z"
   },
   {
    "duration": 18,
    "start_time": "2021-06-19T15:35:11.315Z"
   },
   {
    "duration": 19,
    "start_time": "2021-06-19T15:35:18.111Z"
   },
   {
    "duration": 1426,
    "start_time": "2021-06-19T15:35:34.111Z"
   },
   {
    "duration": 26,
    "start_time": "2021-06-19T15:35:41.472Z"
   },
   {
    "duration": 979,
    "start_time": "2021-06-19T16:04:56.437Z"
   },
   {
    "duration": 893,
    "start_time": "2021-06-19T16:05:03.057Z"
   },
   {
    "duration": 900,
    "start_time": "2021-06-19T16:05:14.786Z"
   },
   {
    "duration": 6,
    "start_time": "2021-06-19T16:10:26.414Z"
   },
   {
    "duration": 13,
    "start_time": "2021-06-19T16:12:46.456Z"
   },
   {
    "duration": 10,
    "start_time": "2021-06-19T16:12:53.034Z"
   },
   {
    "duration": 902,
    "start_time": "2021-06-19T16:13:00.209Z"
   },
   {
    "duration": 1289,
    "start_time": "2021-06-19T16:13:37.609Z"
   },
   {
    "duration": 1096,
    "start_time": "2021-06-19T16:13:45.746Z"
   },
   {
    "duration": 1004,
    "start_time": "2021-06-19T16:13:52.599Z"
   },
   {
    "duration": 901,
    "start_time": "2021-06-19T16:14:01.323Z"
   },
   {
    "duration": 1026,
    "start_time": "2021-06-19T16:14:06.592Z"
   },
   {
    "duration": 886,
    "start_time": "2021-06-19T16:14:20.109Z"
   },
   {
    "duration": 880,
    "start_time": "2021-06-19T16:16:58.619Z"
   },
   {
    "duration": 721,
    "start_time": "2021-06-19T16:19:32.964Z"
   },
   {
    "duration": 731,
    "start_time": "2021-06-19T16:20:10.307Z"
   },
   {
    "duration": 930,
    "start_time": "2021-06-19T16:20:16.770Z"
   },
   {
    "duration": 911,
    "start_time": "2021-06-19T16:20:29.258Z"
   },
   {
    "duration": 836,
    "start_time": "2021-06-19T16:20:37.505Z"
   },
   {
    "duration": 816,
    "start_time": "2021-06-19T16:22:51.210Z"
   },
   {
    "duration": 833,
    "start_time": "2021-06-19T16:22:58.515Z"
   },
   {
    "duration": 957,
    "start_time": "2021-06-19T16:23:10.317Z"
   },
   {
    "duration": 836,
    "start_time": "2021-06-19T16:23:59.957Z"
   },
   {
    "duration": 847,
    "start_time": "2021-06-19T16:24:09.481Z"
   },
   {
    "duration": 90,
    "start_time": "2021-06-19T16:27:05.576Z"
   },
   {
    "duration": 273,
    "start_time": "2021-06-19T16:27:10.456Z"
   },
   {
    "duration": 16,
    "start_time": "2021-06-19T16:27:25.790Z"
   },
   {
    "duration": 262,
    "start_time": "2021-06-19T16:27:48.021Z"
   },
   {
    "duration": 18,
    "start_time": "2021-06-19T16:28:02.388Z"
   },
   {
    "duration": 17,
    "start_time": "2021-06-19T16:28:11.595Z"
   },
   {
    "duration": 19,
    "start_time": "2021-06-19T16:28:20.399Z"
   },
   {
    "duration": 282,
    "start_time": "2021-06-19T16:28:48.137Z"
   },
   {
    "duration": 18,
    "start_time": "2021-06-19T16:28:52.946Z"
   },
   {
    "duration": 1999,
    "start_time": "2021-06-19T16:56:59.906Z"
   },
   {
    "duration": 58,
    "start_time": "2021-06-19T16:57:01.908Z"
   },
   {
    "duration": 18,
    "start_time": "2021-06-19T16:57:01.969Z"
   },
   {
    "duration": 26,
    "start_time": "2021-06-19T16:57:01.990Z"
   },
   {
    "duration": 52,
    "start_time": "2021-06-19T16:57:02.019Z"
   },
   {
    "duration": 18,
    "start_time": "2021-06-19T16:57:02.074Z"
   },
   {
    "duration": 10,
    "start_time": "2021-06-19T16:57:02.095Z"
   },
   {
    "duration": 67,
    "start_time": "2021-06-19T16:57:02.111Z"
   },
   {
    "duration": 12,
    "start_time": "2021-06-19T16:57:02.183Z"
   },
   {
    "duration": 12,
    "start_time": "2021-06-19T16:57:02.198Z"
   },
   {
    "duration": 49,
    "start_time": "2021-06-19T16:57:02.213Z"
   },
   {
    "duration": 22,
    "start_time": "2021-06-19T16:57:02.264Z"
   },
   {
    "duration": 49,
    "start_time": "2021-06-19T16:57:02.288Z"
   },
   {
    "duration": 22,
    "start_time": "2021-06-19T16:57:02.340Z"
   },
   {
    "duration": 17,
    "start_time": "2021-06-19T16:57:02.366Z"
   },
   {
    "duration": 14,
    "start_time": "2021-06-19T16:57:02.386Z"
   },
   {
    "duration": 671,
    "start_time": "2021-06-19T16:57:02.403Z"
   },
   {
    "duration": 816,
    "start_time": "2021-06-19T16:57:03.077Z"
   },
   {
    "duration": 15,
    "start_time": "2021-06-19T16:57:03.896Z"
   },
   {
    "duration": 19,
    "start_time": "2021-06-19T16:57:03.914Z"
   },
   {
    "duration": 30,
    "start_time": "2021-06-19T16:57:03.935Z"
   },
   {
    "duration": 422,
    "start_time": "2021-06-19T16:57:03.968Z"
   },
   {
    "duration": 6,
    "start_time": "2021-06-19T16:57:04.397Z"
   },
   {
    "duration": 19,
    "start_time": "2021-06-19T16:57:04.406Z"
   },
   {
    "duration": 32,
    "start_time": "2021-06-19T16:57:04.428Z"
   },
   {
    "duration": 28,
    "start_time": "2021-06-19T16:57:04.462Z"
   },
   {
    "duration": 9,
    "start_time": "2021-06-19T16:57:04.494Z"
   },
   {
    "duration": 526,
    "start_time": "2021-06-19T16:57:04.505Z"
   },
   {
    "duration": 907,
    "start_time": "2021-06-19T16:57:05.034Z"
   },
   {
    "duration": 16,
    "start_time": "2021-06-19T16:57:05.943Z"
   },
   {
    "duration": 607,
    "start_time": "2021-06-19T16:57:05.961Z"
   },
   {
    "duration": 1669,
    "start_time": "2021-06-19T16:57:06.571Z"
   },
   {
    "duration": 28,
    "start_time": "2021-06-19T16:57:08.243Z"
   },
   {
    "duration": 123,
    "start_time": "2021-06-19T16:57:08.274Z"
   },
   {
    "duration": 14,
    "start_time": "2021-06-19T16:57:08.400Z"
   },
   {
    "duration": 38,
    "start_time": "2021-06-19T16:57:08.417Z"
   },
   {
    "duration": 13,
    "start_time": "2021-06-19T16:57:08.458Z"
   },
   {
    "duration": 15,
    "start_time": "2021-06-19T16:57:08.473Z"
   },
   {
    "duration": 922,
    "start_time": "2021-06-19T16:57:08.490Z"
   },
   {
    "duration": 13,
    "start_time": "2021-06-19T16:57:09.415Z"
   },
   {
    "duration": 40,
    "start_time": "2021-06-19T16:57:09.430Z"
   },
   {
    "duration": 1120,
    "start_time": "2021-06-19T16:57:09.472Z"
   },
   {
    "duration": 24,
    "start_time": "2021-06-19T16:57:10.595Z"
   },
   {
    "duration": 36,
    "start_time": "2021-06-19T16:57:10.622Z"
   },
   {
    "duration": 19,
    "start_time": "2021-06-19T16:57:10.660Z"
   },
   {
    "duration": 17,
    "start_time": "2021-06-19T16:57:10.681Z"
   },
   {
    "duration": 59,
    "start_time": "2021-06-19T16:57:10.700Z"
   },
   {
    "duration": 16,
    "start_time": "2021-06-19T16:57:10.761Z"
   },
   {
    "duration": 23,
    "start_time": "2021-06-19T16:57:10.780Z"
   },
   {
    "duration": 14,
    "start_time": "2021-06-19T16:57:10.805Z"
   },
   {
    "duration": 10,
    "start_time": "2021-06-19T16:57:10.857Z"
   },
   {
    "duration": 21,
    "start_time": "2021-06-19T16:57:10.870Z"
   },
   {
    "duration": 10,
    "start_time": "2021-06-19T16:57:10.894Z"
   },
   {
    "duration": 36,
    "start_time": "2021-06-19T16:57:10.957Z"
   },
   {
    "duration": 61,
    "start_time": "2021-06-19T16:57:10.996Z"
   },
   {
    "duration": 9,
    "start_time": "2021-06-19T16:57:11.060Z"
   },
   {
    "duration": 941,
    "start_time": "2021-06-19T16:57:11.073Z"
   },
   {
    "duration": 7,
    "start_time": "2021-06-19T16:57:12.018Z"
   },
   {
    "duration": 30,
    "start_time": "2021-06-19T16:57:12.028Z"
   },
   {
    "duration": 20,
    "start_time": "2021-06-19T16:57:12.061Z"
   },
   {
    "duration": 915,
    "start_time": "2021-06-19T16:57:12.084Z"
   },
   {
    "duration": 2245,
    "start_time": "2021-06-20T12:58:20.698Z"
   },
   {
    "duration": 55,
    "start_time": "2021-06-20T12:58:22.946Z"
   },
   {
    "duration": 16,
    "start_time": "2021-06-20T12:58:23.005Z"
   },
   {
    "duration": 12,
    "start_time": "2021-06-20T12:58:23.024Z"
   },
   {
    "duration": 25,
    "start_time": "2021-06-20T12:58:23.039Z"
   },
   {
    "duration": 40,
    "start_time": "2021-06-20T12:58:23.067Z"
   },
   {
    "duration": 8,
    "start_time": "2021-06-20T12:58:23.110Z"
   },
   {
    "duration": 20,
    "start_time": "2021-06-20T12:58:23.122Z"
   },
   {
    "duration": 8,
    "start_time": "2021-06-20T12:58:23.144Z"
   },
   {
    "duration": 46,
    "start_time": "2021-06-20T12:58:23.155Z"
   },
   {
    "duration": 5,
    "start_time": "2021-06-20T12:58:23.204Z"
   },
   {
    "duration": 5,
    "start_time": "2021-06-20T12:58:23.212Z"
   },
   {
    "duration": 41,
    "start_time": "2021-06-20T12:58:23.219Z"
   },
   {
    "duration": 46,
    "start_time": "2021-06-20T12:58:23.262Z"
   },
   {
    "duration": 12,
    "start_time": "2021-06-20T12:58:23.310Z"
   },
   {
    "duration": 10,
    "start_time": "2021-06-20T12:58:23.324Z"
   },
   {
    "duration": 625,
    "start_time": "2021-06-20T12:58:23.337Z"
   },
   {
    "duration": 505,
    "start_time": "2021-06-20T12:58:23.964Z"
   },
   {
    "duration": 11,
    "start_time": "2021-06-20T12:58:24.472Z"
   },
   {
    "duration": 22,
    "start_time": "2021-06-20T12:58:24.486Z"
   },
   {
    "duration": 9,
    "start_time": "2021-06-20T12:58:24.511Z"
   },
   {
    "duration": 394,
    "start_time": "2021-06-20T12:58:24.523Z"
   },
   {
    "duration": 6,
    "start_time": "2021-06-20T12:58:24.923Z"
   },
   {
    "duration": 13,
    "start_time": "2021-06-20T12:58:24.932Z"
   },
   {
    "duration": 9,
    "start_time": "2021-06-20T12:58:24.948Z"
   },
   {
    "duration": 52,
    "start_time": "2021-06-20T12:58:24.960Z"
   },
   {
    "duration": 9,
    "start_time": "2021-06-20T12:58:25.015Z"
   },
   {
    "duration": 492,
    "start_time": "2021-06-20T12:58:25.026Z"
   },
   {
    "duration": 756,
    "start_time": "2021-06-20T12:58:25.520Z"
   },
   {
    "duration": 23,
    "start_time": "2021-06-20T12:58:26.279Z"
   },
   {
    "duration": 485,
    "start_time": "2021-06-20T12:58:26.305Z"
   },
   {
    "duration": 1394,
    "start_time": "2021-06-20T12:58:26.793Z"
   },
   {
    "duration": 27,
    "start_time": "2021-06-20T12:58:28.190Z"
   },
   {
    "duration": 112,
    "start_time": "2021-06-20T12:58:28.219Z"
   },
   {
    "duration": 13,
    "start_time": "2021-06-20T12:58:28.334Z"
   },
   {
    "duration": 14,
    "start_time": "2021-06-20T12:58:28.349Z"
   },
   {
    "duration": 38,
    "start_time": "2021-06-20T12:58:28.366Z"
   },
   {
    "duration": 11,
    "start_time": "2021-06-20T12:58:28.407Z"
   },
   {
    "duration": 858,
    "start_time": "2021-06-20T12:58:28.420Z"
   },
   {
    "duration": 22,
    "start_time": "2021-06-20T12:58:29.281Z"
   },
   {
    "duration": 21,
    "start_time": "2021-06-20T12:58:29.305Z"
   },
   {
    "duration": 1058,
    "start_time": "2021-06-20T12:58:29.328Z"
   },
   {
    "duration": 23,
    "start_time": "2021-06-20T12:58:30.388Z"
   },
   {
    "duration": 9,
    "start_time": "2021-06-20T12:58:30.413Z"
   },
   {
    "duration": 23,
    "start_time": "2021-06-20T12:58:30.424Z"
   },
   {
    "duration": 15,
    "start_time": "2021-06-20T12:58:30.450Z"
   },
   {
    "duration": 40,
    "start_time": "2021-06-20T12:58:30.467Z"
   },
   {
    "duration": 19,
    "start_time": "2021-06-20T12:58:30.515Z"
   },
   {
    "duration": 18,
    "start_time": "2021-06-20T12:58:30.537Z"
   },
   {
    "duration": 12,
    "start_time": "2021-06-20T12:58:30.557Z"
   },
   {
    "duration": 33,
    "start_time": "2021-06-20T12:58:30.572Z"
   },
   {
    "duration": 19,
    "start_time": "2021-06-20T12:58:30.608Z"
   },
   {
    "duration": 13,
    "start_time": "2021-06-20T12:58:30.629Z"
   },
   {
    "duration": 74,
    "start_time": "2021-06-20T12:58:30.645Z"
   },
   {
    "duration": 14,
    "start_time": "2021-06-20T12:58:30.721Z"
   },
   {
    "duration": 20,
    "start_time": "2021-06-20T12:58:30.738Z"
   },
   {
    "duration": 892,
    "start_time": "2021-06-20T12:58:30.760Z"
   },
   {
    "duration": 7,
    "start_time": "2021-06-20T12:58:31.655Z"
   },
   {
    "duration": 39,
    "start_time": "2021-06-20T12:58:31.665Z"
   },
   {
    "duration": 13,
    "start_time": "2021-06-20T12:58:31.706Z"
   },
   {
    "duration": 885,
    "start_time": "2021-06-20T12:58:31.722Z"
   },
   {
    "duration": 115,
    "start_time": "2021-06-20T13:23:49.897Z"
   },
   {
    "duration": 89,
    "start_time": "2021-06-20T15:06:48.221Z"
   },
   {
    "duration": 451,
    "start_time": "2021-06-20T15:12:08.588Z"
   },
   {
    "duration": 2141,
    "start_time": "2021-06-20T15:12:19.222Z"
   },
   {
    "duration": 57,
    "start_time": "2021-06-20T15:12:21.366Z"
   },
   {
    "duration": 17,
    "start_time": "2021-06-20T15:12:21.426Z"
   },
   {
    "duration": 12,
    "start_time": "2021-06-20T15:12:21.457Z"
   },
   {
    "duration": 33,
    "start_time": "2021-06-20T15:12:21.472Z"
   },
   {
    "duration": 13,
    "start_time": "2021-06-20T15:12:21.508Z"
   },
   {
    "duration": 43,
    "start_time": "2021-06-20T15:12:21.523Z"
   },
   {
    "duration": 17,
    "start_time": "2021-06-20T15:12:21.570Z"
   },
   {
    "duration": 33,
    "start_time": "2021-06-20T15:12:21.590Z"
   },
   {
    "duration": 8,
    "start_time": "2021-06-20T15:12:21.626Z"
   },
   {
    "duration": 7,
    "start_time": "2021-06-20T15:12:21.656Z"
   },
   {
    "duration": 15,
    "start_time": "2021-06-20T15:12:21.665Z"
   },
   {
    "duration": 19,
    "start_time": "2021-06-20T15:12:21.682Z"
   },
   {
    "duration": 66,
    "start_time": "2021-06-20T15:12:21.703Z"
   },
   {
    "duration": 21,
    "start_time": "2021-06-20T15:12:21.771Z"
   },
   {
    "duration": 13,
    "start_time": "2021-06-20T15:12:21.794Z"
   },
   {
    "duration": 12,
    "start_time": "2021-06-20T15:12:21.809Z"
   },
   {
    "duration": 626,
    "start_time": "2021-06-20T15:12:21.823Z"
   },
   {
    "duration": 529,
    "start_time": "2021-06-20T15:12:22.452Z"
   },
   {
    "duration": 15,
    "start_time": "2021-06-20T15:12:22.985Z"
   },
   {
    "duration": 11,
    "start_time": "2021-06-20T15:12:23.003Z"
   },
   {
    "duration": 12,
    "start_time": "2021-06-20T15:12:23.056Z"
   },
   {
    "duration": 392,
    "start_time": "2021-06-20T15:12:23.077Z"
   },
   {
    "duration": 9,
    "start_time": "2021-06-20T15:12:23.474Z"
   },
   {
    "duration": 14,
    "start_time": "2021-06-20T15:12:23.486Z"
   },
   {
    "duration": 55,
    "start_time": "2021-06-20T15:12:23.503Z"
   },
   {
    "duration": 26,
    "start_time": "2021-06-20T15:12:23.561Z"
   },
   {
    "duration": 11,
    "start_time": "2021-06-20T15:12:23.589Z"
   },
   {
    "duration": 522,
    "start_time": "2021-06-20T15:12:23.603Z"
   },
   {
    "duration": 809,
    "start_time": "2021-06-20T15:12:24.128Z"
   },
   {
    "duration": 16,
    "start_time": "2021-06-20T15:12:24.940Z"
   },
   {
    "duration": 494,
    "start_time": "2021-06-20T15:12:24.959Z"
   },
   {
    "duration": 1404,
    "start_time": "2021-06-20T15:12:25.456Z"
   },
   {
    "duration": 19,
    "start_time": "2021-06-20T15:12:26.862Z"
   },
   {
    "duration": 129,
    "start_time": "2021-06-20T15:12:26.883Z"
   },
   {
    "duration": 15,
    "start_time": "2021-06-20T15:12:27.014Z"
   },
   {
    "duration": 34,
    "start_time": "2021-06-20T15:12:27.031Z"
   },
   {
    "duration": 13,
    "start_time": "2021-06-20T15:12:27.067Z"
   },
   {
    "duration": 9,
    "start_time": "2021-06-20T15:12:27.083Z"
   },
   {
    "duration": 910,
    "start_time": "2021-06-20T15:12:27.095Z"
   },
   {
    "duration": 14,
    "start_time": "2021-06-20T15:12:28.007Z"
   },
   {
    "duration": 49,
    "start_time": "2021-06-20T15:12:28.023Z"
   },
   {
    "duration": 1288,
    "start_time": "2021-06-20T15:12:28.075Z"
   },
   {
    "duration": 24,
    "start_time": "2021-06-20T15:12:29.365Z"
   },
   {
    "duration": 8,
    "start_time": "2021-06-20T15:12:29.392Z"
   },
   {
    "duration": 54,
    "start_time": "2021-06-20T15:12:29.402Z"
   },
   {
    "duration": 17,
    "start_time": "2021-06-20T15:12:29.458Z"
   },
   {
    "duration": 11,
    "start_time": "2021-06-20T15:12:29.477Z"
   },
   {
    "duration": 17,
    "start_time": "2021-06-20T15:12:29.490Z"
   },
   {
    "duration": 55,
    "start_time": "2021-06-20T15:12:29.510Z"
   },
   {
    "duration": 13,
    "start_time": "2021-06-20T15:12:29.567Z"
   },
   {
    "duration": 12,
    "start_time": "2021-06-20T15:12:29.582Z"
   },
   {
    "duration": 63,
    "start_time": "2021-06-20T15:12:29.596Z"
   },
   {
    "duration": 11,
    "start_time": "2021-06-20T15:12:29.662Z"
   },
   {
    "duration": 26,
    "start_time": "2021-06-20T15:12:29.675Z"
   },
   {
    "duration": 9,
    "start_time": "2021-06-20T15:12:29.763Z"
   },
   {
    "duration": 12,
    "start_time": "2021-06-20T15:12:29.775Z"
   },
   {
    "duration": 908,
    "start_time": "2021-06-20T15:12:29.789Z"
   },
   {
    "duration": 7,
    "start_time": "2021-06-20T15:12:30.700Z"
   },
   {
    "duration": 46,
    "start_time": "2021-06-20T15:12:30.710Z"
   },
   {
    "duration": 15,
    "start_time": "2021-06-20T15:12:30.759Z"
   },
   {
    "duration": 890,
    "start_time": "2021-06-20T15:12:30.778Z"
   },
   {
    "duration": 14,
    "start_time": "2021-06-20T15:12:50.234Z"
   },
   {
    "duration": 462,
    "start_time": "2021-06-20T15:13:32.206Z"
   },
   {
    "duration": 1942,
    "start_time": "2021-06-20T15:13:46.068Z"
   },
   {
    "duration": 58,
    "start_time": "2021-06-20T15:13:48.013Z"
   },
   {
    "duration": 17,
    "start_time": "2021-06-20T15:13:48.074Z"
   },
   {
    "duration": 11,
    "start_time": "2021-06-20T15:13:48.094Z"
   },
   {
    "duration": 61,
    "start_time": "2021-06-20T15:13:48.108Z"
   },
   {
    "duration": 21,
    "start_time": "2021-06-20T15:13:48.171Z"
   },
   {
    "duration": 11,
    "start_time": "2021-06-20T15:13:48.194Z"
   },
   {
    "duration": 47,
    "start_time": "2021-06-20T15:13:48.209Z"
   },
   {
    "duration": 8,
    "start_time": "2021-06-20T15:13:48.259Z"
   },
   {
    "duration": 23,
    "start_time": "2021-06-20T15:13:48.269Z"
   },
   {
    "duration": 8,
    "start_time": "2021-06-20T15:13:48.294Z"
   },
   {
    "duration": 52,
    "start_time": "2021-06-20T15:13:48.305Z"
   },
   {
    "duration": 9,
    "start_time": "2021-06-20T15:13:48.360Z"
   },
   {
    "duration": 10,
    "start_time": "2021-06-20T15:13:48.371Z"
   },
   {
    "duration": 77,
    "start_time": "2021-06-20T15:13:48.383Z"
   },
   {
    "duration": 10,
    "start_time": "2021-06-20T15:13:48.463Z"
   },
   {
    "duration": 12,
    "start_time": "2021-06-20T15:13:48.476Z"
   },
   {
    "duration": 10,
    "start_time": "2021-06-20T15:13:48.491Z"
   },
   {
    "duration": 647,
    "start_time": "2021-06-20T15:13:48.503Z"
   },
   {
    "duration": 520,
    "start_time": "2021-06-20T15:13:49.156Z"
   },
   {
    "duration": 11,
    "start_time": "2021-06-20T15:13:49.680Z"
   },
   {
    "duration": 14,
    "start_time": "2021-06-20T15:13:49.693Z"
   },
   {
    "duration": 48,
    "start_time": "2021-06-20T15:13:49.713Z"
   },
   {
    "duration": 376,
    "start_time": "2021-06-20T15:13:49.764Z"
   },
   {
    "duration": 15,
    "start_time": "2021-06-20T15:13:50.143Z"
   },
   {
    "duration": 21,
    "start_time": "2021-06-20T15:13:50.161Z"
   },
   {
    "duration": 20,
    "start_time": "2021-06-20T15:13:50.185Z"
   },
   {
    "duration": 48,
    "start_time": "2021-06-20T15:13:50.208Z"
   },
   {
    "duration": 10,
    "start_time": "2021-06-20T15:13:50.259Z"
   },
   {
    "duration": 501,
    "start_time": "2021-06-20T15:13:50.272Z"
   },
   {
    "duration": 767,
    "start_time": "2021-06-20T15:13:50.776Z"
   },
   {
    "duration": 7,
    "start_time": "2021-06-20T15:13:51.555Z"
   },
   {
    "duration": 493,
    "start_time": "2021-06-20T15:13:51.565Z"
   },
   {
    "duration": 1377,
    "start_time": "2021-06-20T15:13:52.060Z"
   },
   {
    "duration": 29,
    "start_time": "2021-06-20T15:13:53.440Z"
   },
   {
    "duration": 120,
    "start_time": "2021-06-20T15:13:53.471Z"
   },
   {
    "duration": 14,
    "start_time": "2021-06-20T15:13:53.593Z"
   },
   {
    "duration": 20,
    "start_time": "2021-06-20T15:13:53.610Z"
   },
   {
    "duration": 31,
    "start_time": "2021-06-20T15:13:53.632Z"
   },
   {
    "duration": 23,
    "start_time": "2021-06-20T15:13:53.666Z"
   },
   {
    "duration": 872,
    "start_time": "2021-06-20T15:13:53.692Z"
   },
   {
    "duration": 13,
    "start_time": "2021-06-20T15:13:54.567Z"
   },
   {
    "duration": 34,
    "start_time": "2021-06-20T15:13:54.583Z"
   },
   {
    "duration": 797,
    "start_time": "2021-06-20T15:13:54.619Z"
   },
   {
    "duration": 24,
    "start_time": "2021-06-20T15:13:55.418Z"
   },
   {
    "duration": 8,
    "start_time": "2021-06-20T15:13:55.445Z"
   },
   {
    "duration": 29,
    "start_time": "2021-06-20T15:13:55.455Z"
   },
   {
    "duration": 18,
    "start_time": "2021-06-20T15:13:55.486Z"
   },
   {
    "duration": 22,
    "start_time": "2021-06-20T15:13:55.506Z"
   },
   {
    "duration": 35,
    "start_time": "2021-06-20T15:13:55.531Z"
   },
   {
    "duration": 26,
    "start_time": "2021-06-20T15:13:55.568Z"
   },
   {
    "duration": 21,
    "start_time": "2021-06-20T15:13:55.596Z"
   },
   {
    "duration": 17,
    "start_time": "2021-06-20T15:13:55.620Z"
   },
   {
    "duration": 35,
    "start_time": "2021-06-20T15:13:55.640Z"
   },
   {
    "duration": 20,
    "start_time": "2021-06-20T15:13:55.677Z"
   },
   {
    "duration": 71,
    "start_time": "2021-06-20T15:13:55.699Z"
   },
   {
    "duration": 9,
    "start_time": "2021-06-20T15:13:55.772Z"
   },
   {
    "duration": 25,
    "start_time": "2021-06-20T15:13:55.783Z"
   },
   {
    "duration": 1014,
    "start_time": "2021-06-20T15:13:55.810Z"
   },
   {
    "duration": 6,
    "start_time": "2021-06-20T15:13:56.827Z"
   },
   {
    "duration": 35,
    "start_time": "2021-06-20T15:13:56.836Z"
   },
   {
    "duration": 22,
    "start_time": "2021-06-20T15:13:56.873Z"
   },
   {
    "duration": 893,
    "start_time": "2021-06-20T15:13:56.897Z"
   },
   {
    "duration": 462,
    "start_time": "2021-06-20T15:14:06.381Z"
   },
   {
    "duration": 16,
    "start_time": "2021-06-20T15:14:07.065Z"
   },
   {
    "duration": 1969,
    "start_time": "2021-06-20T15:14:17.411Z"
   },
   {
    "duration": 59,
    "start_time": "2021-06-20T15:14:19.382Z"
   },
   {
    "duration": 16,
    "start_time": "2021-06-20T15:14:19.444Z"
   },
   {
    "duration": 17,
    "start_time": "2021-06-20T15:14:19.463Z"
   },
   {
    "duration": 26,
    "start_time": "2021-06-20T15:14:19.482Z"
   },
   {
    "duration": 58,
    "start_time": "2021-06-20T15:14:19.510Z"
   },
   {
    "duration": 12,
    "start_time": "2021-06-20T15:14:19.571Z"
   },
   {
    "duration": 16,
    "start_time": "2021-06-20T15:14:19.587Z"
   },
   {
    "duration": 7,
    "start_time": "2021-06-20T15:14:19.606Z"
   },
   {
    "duration": 58,
    "start_time": "2021-06-20T15:14:19.615Z"
   },
   {
    "duration": 8,
    "start_time": "2021-06-20T15:14:19.676Z"
   },
   {
    "duration": 7,
    "start_time": "2021-06-20T15:14:19.686Z"
   },
   {
    "duration": 9,
    "start_time": "2021-06-20T15:14:19.695Z"
   },
   {
    "duration": 52,
    "start_time": "2021-06-20T15:14:19.707Z"
   },
   {
    "duration": 42,
    "start_time": "2021-06-20T15:14:19.762Z"
   },
   {
    "duration": 9,
    "start_time": "2021-06-20T15:14:19.806Z"
   },
   {
    "duration": 49,
    "start_time": "2021-06-20T15:14:19.818Z"
   },
   {
    "duration": 11,
    "start_time": "2021-06-20T15:14:19.869Z"
   },
   {
    "duration": 645,
    "start_time": "2021-06-20T15:14:19.882Z"
   },
   {
    "duration": 532,
    "start_time": "2021-06-20T15:14:20.529Z"
   },
   {
    "duration": 12,
    "start_time": "2021-06-20T15:14:21.064Z"
   },
   {
    "duration": 12,
    "start_time": "2021-06-20T15:14:21.078Z"
   },
   {
    "duration": 11,
    "start_time": "2021-06-20T15:14:21.096Z"
   },
   {
    "duration": 411,
    "start_time": "2021-06-20T15:14:21.110Z"
   },
   {
    "duration": 7,
    "start_time": "2021-06-20T15:14:21.524Z"
   },
   {
    "duration": 27,
    "start_time": "2021-06-20T15:14:21.533Z"
   },
   {
    "duration": 26,
    "start_time": "2021-06-20T15:14:21.563Z"
   },
   {
    "duration": 26,
    "start_time": "2021-06-20T15:14:21.591Z"
   },
   {
    "duration": 36,
    "start_time": "2021-06-20T15:14:21.620Z"
   },
   {
    "duration": 522,
    "start_time": "2021-06-20T15:14:21.659Z"
   },
   {
    "duration": 792,
    "start_time": "2021-06-20T15:14:22.184Z"
   },
   {
    "duration": 6,
    "start_time": "2021-06-20T15:14:22.978Z"
   },
   {
    "duration": 495,
    "start_time": "2021-06-20T15:14:22.986Z"
   },
   {
    "duration": 1389,
    "start_time": "2021-06-20T15:14:23.484Z"
   },
   {
    "duration": 18,
    "start_time": "2021-06-20T15:14:24.876Z"
   },
   {
    "duration": 124,
    "start_time": "2021-06-20T15:14:24.896Z"
   },
   {
    "duration": 14,
    "start_time": "2021-06-20T15:14:25.022Z"
   },
   {
    "duration": 12,
    "start_time": "2021-06-20T15:14:25.056Z"
   },
   {
    "duration": 13,
    "start_time": "2021-06-20T15:14:25.070Z"
   },
   {
    "duration": 9,
    "start_time": "2021-06-20T15:14:25.085Z"
   },
   {
    "duration": 919,
    "start_time": "2021-06-20T15:14:25.096Z"
   },
   {
    "duration": 14,
    "start_time": "2021-06-20T15:14:26.017Z"
   },
   {
    "duration": 45,
    "start_time": "2021-06-20T15:14:26.034Z"
   },
   {
    "duration": 784,
    "start_time": "2021-06-20T15:14:26.083Z"
   },
   {
    "duration": 24,
    "start_time": "2021-06-20T15:14:26.870Z"
   },
   {
    "duration": 9,
    "start_time": "2021-06-20T15:14:26.897Z"
   },
   {
    "duration": 53,
    "start_time": "2021-06-20T15:14:26.908Z"
   },
   {
    "duration": 18,
    "start_time": "2021-06-20T15:14:26.963Z"
   },
   {
    "duration": 10,
    "start_time": "2021-06-20T15:14:26.984Z"
   },
   {
    "duration": 65,
    "start_time": "2021-06-20T15:14:26.997Z"
   },
   {
    "duration": 18,
    "start_time": "2021-06-20T15:14:27.065Z"
   },
   {
    "duration": 13,
    "start_time": "2021-06-20T15:14:27.086Z"
   },
   {
    "duration": 55,
    "start_time": "2021-06-20T15:14:27.101Z"
   },
   {
    "duration": 22,
    "start_time": "2021-06-20T15:14:27.159Z"
   },
   {
    "duration": 13,
    "start_time": "2021-06-20T15:14:27.184Z"
   },
   {
    "duration": 82,
    "start_time": "2021-06-20T15:14:27.199Z"
   },
   {
    "duration": 11,
    "start_time": "2021-06-20T15:14:27.284Z"
   },
   {
    "duration": 13,
    "start_time": "2021-06-20T15:14:27.298Z"
   },
   {
    "duration": 968,
    "start_time": "2021-06-20T15:14:27.358Z"
   },
   {
    "duration": 7,
    "start_time": "2021-06-20T15:14:28.329Z"
   },
   {
    "duration": 15,
    "start_time": "2021-06-20T15:14:28.356Z"
   },
   {
    "duration": 12,
    "start_time": "2021-06-20T15:14:28.375Z"
   },
   {
    "duration": 927,
    "start_time": "2021-06-20T15:14:28.390Z"
   },
   {
    "duration": 14,
    "start_time": "2021-06-20T15:15:36.115Z"
   },
   {
    "duration": 13,
    "start_time": "2021-06-20T15:15:37.283Z"
   },
   {
    "duration": 27,
    "start_time": "2021-06-20T15:15:41.749Z"
   },
   {
    "duration": 482,
    "start_time": "2021-06-20T15:15:43.394Z"
   },
   {
    "duration": 24,
    "start_time": "2021-06-20T15:15:51.797Z"
   },
   {
    "duration": 21,
    "start_time": "2021-06-20T15:15:54.420Z"
   },
   {
    "duration": 23,
    "start_time": "2021-06-20T15:16:01.901Z"
   },
   {
    "duration": 262,
    "start_time": "2021-06-20T15:16:02.537Z"
   },
   {
    "duration": 246,
    "start_time": "2021-06-20T15:16:08.846Z"
   },
   {
    "duration": 262,
    "start_time": "2021-06-20T15:16:09.276Z"
   },
   {
    "duration": 271,
    "start_time": "2021-06-20T15:16:13.809Z"
   },
   {
    "duration": 278,
    "start_time": "2021-06-20T15:16:14.481Z"
   },
   {
    "duration": 1891,
    "start_time": "2021-06-20T15:18:32.904Z"
   },
   {
    "duration": 60,
    "start_time": "2021-06-20T15:18:35.974Z"
   },
   {
    "duration": 17,
    "start_time": "2021-06-20T15:18:36.759Z"
   },
   {
    "duration": 1903,
    "start_time": "2021-06-20T15:18:45.009Z"
   },
   {
    "duration": 61,
    "start_time": "2021-06-20T15:18:46.915Z"
   },
   {
    "duration": 20,
    "start_time": "2021-06-20T15:18:46.979Z"
   },
   {
    "duration": 22,
    "start_time": "2021-06-20T15:18:47.002Z"
   },
   {
    "duration": 53,
    "start_time": "2021-06-20T15:18:47.027Z"
   },
   {
    "duration": 25,
    "start_time": "2021-06-20T15:18:47.083Z"
   },
   {
    "duration": 47,
    "start_time": "2021-06-20T15:18:47.111Z"
   },
   {
    "duration": 12,
    "start_time": "2021-06-20T15:18:47.163Z"
   },
   {
    "duration": 7,
    "start_time": "2021-06-20T15:18:47.178Z"
   },
   {
    "duration": 71,
    "start_time": "2021-06-20T15:18:47.188Z"
   },
   {
    "duration": 9,
    "start_time": "2021-06-20T15:18:47.262Z"
   },
   {
    "duration": 8,
    "start_time": "2021-06-20T15:18:47.274Z"
   },
   {
    "duration": 9,
    "start_time": "2021-06-20T15:18:47.285Z"
   },
   {
    "duration": 60,
    "start_time": "2021-06-20T15:18:47.297Z"
   },
   {
    "duration": 47,
    "start_time": "2021-06-20T15:18:47.360Z"
   },
   {
    "duration": 10,
    "start_time": "2021-06-20T15:18:47.409Z"
   },
   {
    "duration": 44,
    "start_time": "2021-06-20T15:18:47.422Z"
   },
   {
    "duration": 12,
    "start_time": "2021-06-20T15:18:47.469Z"
   },
   {
    "duration": 643,
    "start_time": "2021-06-20T15:18:47.484Z"
   },
   {
    "duration": 529,
    "start_time": "2021-06-20T15:18:48.129Z"
   },
   {
    "duration": 11,
    "start_time": "2021-06-20T15:18:48.661Z"
   },
   {
    "duration": 9,
    "start_time": "2021-06-20T15:18:48.674Z"
   },
   {
    "duration": 8,
    "start_time": "2021-06-20T15:18:48.689Z"
   },
   {
    "duration": 412,
    "start_time": "2021-06-20T15:18:48.701Z"
   },
   {
    "duration": 7,
    "start_time": "2021-06-20T15:18:49.115Z"
   },
   {
    "duration": 36,
    "start_time": "2021-06-20T15:18:49.124Z"
   },
   {
    "duration": 12,
    "start_time": "2021-06-20T15:18:49.162Z"
   },
   {
    "duration": 28,
    "start_time": "2021-06-20T15:18:49.176Z"
   },
   {
    "duration": 19,
    "start_time": "2021-06-20T15:18:49.206Z"
   },
   {
    "duration": 501,
    "start_time": "2021-06-20T15:18:49.227Z"
   },
   {
    "duration": 791,
    "start_time": "2021-06-20T15:18:49.730Z"
   },
   {
    "duration": 6,
    "start_time": "2021-06-20T15:18:50.524Z"
   },
   {
    "duration": 841,
    "start_time": "2021-06-20T15:18:50.533Z"
   },
   {
    "duration": 1399,
    "start_time": "2021-06-20T15:18:51.377Z"
   },
   {
    "duration": 18,
    "start_time": "2021-06-20T15:18:52.778Z"
   },
   {
    "duration": 129,
    "start_time": "2021-06-20T15:18:52.798Z"
   },
   {
    "duration": 14,
    "start_time": "2021-06-20T15:18:52.929Z"
   },
   {
    "duration": 25,
    "start_time": "2021-06-20T15:18:52.945Z"
   },
   {
    "duration": 30,
    "start_time": "2021-06-20T15:18:52.973Z"
   },
   {
    "duration": 24,
    "start_time": "2021-06-20T15:18:53.006Z"
   },
   {
    "duration": 868,
    "start_time": "2021-06-20T15:18:53.033Z"
   },
   {
    "duration": 14,
    "start_time": "2021-06-20T15:18:53.903Z"
   },
   {
    "duration": 49,
    "start_time": "2021-06-20T15:18:53.919Z"
   },
   {
    "duration": 948,
    "start_time": "2021-06-20T15:18:53.970Z"
   },
   {
    "duration": 24,
    "start_time": "2021-06-20T15:18:54.919Z"
   },
   {
    "duration": 9,
    "start_time": "2021-06-20T15:18:54.945Z"
   },
   {
    "duration": 34,
    "start_time": "2021-06-20T15:18:54.957Z"
   },
   {
    "duration": 16,
    "start_time": "2021-06-20T15:18:54.994Z"
   },
   {
    "duration": 25,
    "start_time": "2021-06-20T15:18:55.012Z"
   },
   {
    "duration": 40,
    "start_time": "2021-06-20T15:18:55.039Z"
   },
   {
    "duration": 27,
    "start_time": "2021-06-20T15:18:55.081Z"
   },
   {
    "duration": 28,
    "start_time": "2021-06-20T15:18:55.111Z"
   },
   {
    "duration": 26,
    "start_time": "2021-06-20T15:18:55.141Z"
   },
   {
    "duration": 25,
    "start_time": "2021-06-20T15:18:55.170Z"
   },
   {
    "duration": 29,
    "start_time": "2021-06-20T15:18:55.197Z"
   },
   {
    "duration": 59,
    "start_time": "2021-06-20T15:18:55.228Z"
   },
   {
    "duration": 9,
    "start_time": "2021-06-20T15:18:55.289Z"
   },
   {
    "duration": 30,
    "start_time": "2021-06-20T15:18:55.300Z"
   },
   {
    "duration": 923,
    "start_time": "2021-06-20T15:18:55.332Z"
   },
   {
    "duration": 5,
    "start_time": "2021-06-20T15:18:56.258Z"
   },
   {
    "duration": 30,
    "start_time": "2021-06-20T15:18:56.265Z"
   },
   {
    "duration": 21,
    "start_time": "2021-06-20T15:18:56.298Z"
   },
   {
    "duration": 902,
    "start_time": "2021-06-20T15:18:56.321Z"
   },
   {
    "duration": 593,
    "start_time": "2021-06-20T15:19:07.316Z"
   },
   {
    "duration": 272,
    "start_time": "2021-06-20T15:19:34.159Z"
   },
   {
    "duration": 24,
    "start_time": "2021-06-20T15:19:43.644Z"
   },
   {
    "duration": 504,
    "start_time": "2021-06-20T15:20:08.128Z"
   },
   {
    "duration": 543,
    "start_time": "2021-06-20T15:20:16.587Z"
   },
   {
    "duration": 100,
    "start_time": "2021-06-20T15:21:54.226Z"
   },
   {
    "duration": 7039,
    "start_time": "2021-06-20T15:22:01.729Z"
   },
   {
    "duration": 2022,
    "start_time": "2021-06-20T15:22:18.372Z"
   },
   {
    "duration": 60,
    "start_time": "2021-06-20T15:22:20.397Z"
   },
   {
    "duration": 18,
    "start_time": "2021-06-20T15:22:20.463Z"
   },
   {
    "duration": 19,
    "start_time": "2021-06-20T15:22:20.484Z"
   },
   {
    "duration": 64,
    "start_time": "2021-06-20T15:22:20.505Z"
   },
   {
    "duration": 22,
    "start_time": "2021-06-20T15:22:20.571Z"
   },
   {
    "duration": 491,
    "start_time": "2021-06-20T15:22:20.597Z"
   },
   {
    "duration": -65,
    "start_time": "2021-06-20T15:22:21.158Z"
   },
   {
    "duration": -81,
    "start_time": "2021-06-20T15:22:21.175Z"
   },
   {
    "duration": -84,
    "start_time": "2021-06-20T15:22:21.179Z"
   },
   {
    "duration": -89,
    "start_time": "2021-06-20T15:22:21.186Z"
   },
   {
    "duration": -91,
    "start_time": "2021-06-20T15:22:21.189Z"
   },
   {
    "duration": -92,
    "start_time": "2021-06-20T15:22:21.191Z"
   },
   {
    "duration": -92,
    "start_time": "2021-06-20T15:22:21.193Z"
   },
   {
    "duration": -93,
    "start_time": "2021-06-20T15:22:21.195Z"
   },
   {
    "duration": -116,
    "start_time": "2021-06-20T15:22:21.219Z"
   },
   {
    "duration": -117,
    "start_time": "2021-06-20T15:22:21.222Z"
   },
   {
    "duration": -123,
    "start_time": "2021-06-20T15:22:21.229Z"
   },
   {
    "duration": -125,
    "start_time": "2021-06-20T15:22:21.233Z"
   },
   {
    "duration": -128,
    "start_time": "2021-06-20T15:22:21.237Z"
   },
   {
    "duration": -132,
    "start_time": "2021-06-20T15:22:21.243Z"
   },
   {
    "duration": -134,
    "start_time": "2021-06-20T15:22:21.246Z"
   },
   {
    "duration": -136,
    "start_time": "2021-06-20T15:22:21.250Z"
   },
   {
    "duration": -137,
    "start_time": "2021-06-20T15:22:21.252Z"
   },
   {
    "duration": -139,
    "start_time": "2021-06-20T15:22:21.255Z"
   },
   {
    "duration": -139,
    "start_time": "2021-06-20T15:22:21.257Z"
   },
   {
    "duration": -140,
    "start_time": "2021-06-20T15:22:21.259Z"
   },
   {
    "duration": -141,
    "start_time": "2021-06-20T15:22:21.262Z"
   },
   {
    "duration": -146,
    "start_time": "2021-06-20T15:22:21.268Z"
   },
   {
    "duration": -148,
    "start_time": "2021-06-20T15:22:21.271Z"
   },
   {
    "duration": -149,
    "start_time": "2021-06-20T15:22:21.274Z"
   },
   {
    "duration": -151,
    "start_time": "2021-06-20T15:22:21.277Z"
   },
   {
    "duration": -215,
    "start_time": "2021-06-20T15:22:21.342Z"
   },
   {
    "duration": -309,
    "start_time": "2021-06-20T15:22:21.438Z"
   },
   {
    "duration": -311,
    "start_time": "2021-06-20T15:22:21.441Z"
   },
   {
    "duration": -287,
    "start_time": "2021-06-20T15:22:21.443Z"
   },
   {
    "duration": -289,
    "start_time": "2021-06-20T15:22:21.446Z"
   },
   {
    "duration": -289,
    "start_time": "2021-06-20T15:22:21.448Z"
   },
   {
    "duration": -290,
    "start_time": "2021-06-20T15:22:21.450Z"
   },
   {
    "duration": -291,
    "start_time": "2021-06-20T15:22:21.452Z"
   },
   {
    "duration": -291,
    "start_time": "2021-06-20T15:22:21.454Z"
   },
   {
    "duration": -293,
    "start_time": "2021-06-20T15:22:21.457Z"
   },
   {
    "duration": -390,
    "start_time": "2021-06-20T15:22:21.556Z"
   },
   {
    "duration": -391,
    "start_time": "2021-06-20T15:22:21.558Z"
   },
   {
    "duration": -392,
    "start_time": "2021-06-20T15:22:21.560Z"
   },
   {
    "duration": -393,
    "start_time": "2021-06-20T15:22:21.563Z"
   },
   {
    "duration": -395,
    "start_time": "2021-06-20T15:22:21.566Z"
   },
   {
    "duration": -397,
    "start_time": "2021-06-20T15:22:21.569Z"
   },
   {
    "duration": -397,
    "start_time": "2021-06-20T15:22:21.571Z"
   },
   {
    "duration": -398,
    "start_time": "2021-06-20T15:22:21.573Z"
   },
   {
    "duration": -399,
    "start_time": "2021-06-20T15:22:21.575Z"
   },
   {
    "duration": -401,
    "start_time": "2021-06-20T15:22:21.578Z"
   },
   {
    "duration": -402,
    "start_time": "2021-06-20T15:22:21.581Z"
   },
   {
    "duration": -408,
    "start_time": "2021-06-20T15:22:21.588Z"
   },
   {
    "duration": -410,
    "start_time": "2021-06-20T15:22:21.591Z"
   },
   {
    "duration": -411,
    "start_time": "2021-06-20T15:22:21.594Z"
   },
   {
    "duration": -412,
    "start_time": "2021-06-20T15:22:21.596Z"
   },
   {
    "duration": -414,
    "start_time": "2021-06-20T15:22:21.599Z"
   },
   {
    "duration": -414,
    "start_time": "2021-06-20T15:22:21.601Z"
   },
   {
    "duration": -416,
    "start_time": "2021-06-20T15:22:21.604Z"
   },
   {
    "duration": -417,
    "start_time": "2021-06-20T15:22:21.606Z"
   },
   {
    "duration": -417,
    "start_time": "2021-06-20T15:22:21.608Z"
   },
   {
    "duration": -418,
    "start_time": "2021-06-20T15:22:21.610Z"
   },
   {
    "duration": -421,
    "start_time": "2021-06-20T15:22:21.614Z"
   },
   {
    "duration": 1163,
    "start_time": "2021-06-20T15:22:42.538Z"
   },
   {
    "duration": 22,
    "start_time": "2021-06-20T15:24:55.589Z"
   },
   {
    "duration": 2372,
    "start_time": "2021-06-20T15:25:26.474Z"
   },
   {
    "duration": 59,
    "start_time": "2021-06-20T15:25:28.849Z"
   },
   {
    "duration": 19,
    "start_time": "2021-06-20T15:25:28.911Z"
   },
   {
    "duration": 29,
    "start_time": "2021-06-20T15:25:28.933Z"
   },
   {
    "duration": 24,
    "start_time": "2021-06-20T15:25:28.964Z"
   },
   {
    "duration": 6,
    "start_time": "2021-06-20T15:25:28.991Z"
   },
   {
    "duration": 72,
    "start_time": "2021-06-20T15:25:28.999Z"
   },
   {
    "duration": 10,
    "start_time": "2021-06-20T15:25:29.075Z"
   },
   {
    "duration": 15,
    "start_time": "2021-06-20T15:25:29.089Z"
   },
   {
    "duration": 17,
    "start_time": "2021-06-20T15:25:29.107Z"
   },
   {
    "duration": 52,
    "start_time": "2021-06-20T15:25:29.126Z"
   },
   {
    "duration": 9,
    "start_time": "2021-06-20T15:25:29.181Z"
   },
   {
    "duration": 23,
    "start_time": "2021-06-20T15:25:29.192Z"
   },
   {
    "duration": 39,
    "start_time": "2021-06-20T15:25:29.218Z"
   },
   {
    "duration": 5,
    "start_time": "2021-06-20T15:25:29.260Z"
   },
   {
    "duration": 48,
    "start_time": "2021-06-20T15:25:29.268Z"
   },
   {
    "duration": 42,
    "start_time": "2021-06-20T15:25:29.318Z"
   },
   {
    "duration": 13,
    "start_time": "2021-06-20T15:25:29.363Z"
   },
   {
    "duration": 21,
    "start_time": "2021-06-20T15:25:29.379Z"
   },
   {
    "duration": 647,
    "start_time": "2021-06-20T15:25:29.403Z"
   },
   {
    "duration": 598,
    "start_time": "2021-06-20T15:25:30.057Z"
   },
   {
    "duration": 12,
    "start_time": "2021-06-20T15:25:30.658Z"
   },
   {
    "duration": 19,
    "start_time": "2021-06-20T15:25:30.676Z"
   },
   {
    "duration": 23,
    "start_time": "2021-06-20T15:25:30.698Z"
   },
   {
    "duration": 388,
    "start_time": "2021-06-20T15:25:30.724Z"
   },
   {
    "duration": 6,
    "start_time": "2021-06-20T15:25:31.115Z"
   },
   {
    "duration": 38,
    "start_time": "2021-06-20T15:25:31.123Z"
   },
   {
    "duration": 11,
    "start_time": "2021-06-20T15:25:31.163Z"
   },
   {
    "duration": 35,
    "start_time": "2021-06-20T15:25:31.176Z"
   },
   {
    "duration": 9,
    "start_time": "2021-06-20T15:25:31.214Z"
   },
   {
    "duration": 504,
    "start_time": "2021-06-20T15:25:31.225Z"
   },
   {
    "duration": 785,
    "start_time": "2021-06-20T15:25:31.731Z"
   },
   {
    "duration": 7,
    "start_time": "2021-06-20T15:25:32.519Z"
   },
   {
    "duration": 836,
    "start_time": "2021-06-20T15:25:32.528Z"
   },
   {
    "duration": 1365,
    "start_time": "2021-06-20T15:25:33.366Z"
   },
   {
    "duration": 31,
    "start_time": "2021-06-20T15:25:34.733Z"
   },
   {
    "duration": 117,
    "start_time": "2021-06-20T15:25:34.766Z"
   },
   {
    "duration": 14,
    "start_time": "2021-06-20T15:25:34.885Z"
   },
   {
    "duration": 13,
    "start_time": "2021-06-20T15:25:34.902Z"
   },
   {
    "duration": 45,
    "start_time": "2021-06-20T15:25:34.918Z"
   },
   {
    "duration": 9,
    "start_time": "2021-06-20T15:25:34.966Z"
   },
   {
    "duration": 885,
    "start_time": "2021-06-20T15:25:34.978Z"
   },
   {
    "duration": 14,
    "start_time": "2021-06-20T15:25:35.865Z"
   },
   {
    "duration": 25,
    "start_time": "2021-06-20T15:25:35.881Z"
   },
   {
    "duration": 1276,
    "start_time": "2021-06-20T15:25:35.909Z"
   },
   {
    "duration": 27,
    "start_time": "2021-06-20T15:25:37.188Z"
   },
   {
    "duration": 38,
    "start_time": "2021-06-20T15:25:37.218Z"
   },
   {
    "duration": 19,
    "start_time": "2021-06-20T15:25:37.259Z"
   },
   {
    "duration": 17,
    "start_time": "2021-06-20T15:25:37.280Z"
   },
   {
    "duration": 9,
    "start_time": "2021-06-20T15:25:37.299Z"
   },
   {
    "duration": 59,
    "start_time": "2021-06-20T15:25:37.310Z"
   },
   {
    "duration": 16,
    "start_time": "2021-06-20T15:25:37.372Z"
   },
   {
    "duration": 12,
    "start_time": "2021-06-20T15:25:37.390Z"
   },
   {
    "duration": 10,
    "start_time": "2021-06-20T15:25:37.405Z"
   },
   {
    "duration": 19,
    "start_time": "2021-06-20T15:25:37.456Z"
   },
   {
    "duration": 9,
    "start_time": "2021-06-20T15:25:37.478Z"
   },
   {
    "duration": 81,
    "start_time": "2021-06-20T15:25:37.490Z"
   },
   {
    "duration": 10,
    "start_time": "2021-06-20T15:25:37.578Z"
   },
   {
    "duration": 12,
    "start_time": "2021-06-20T15:25:37.590Z"
   },
   {
    "duration": 1260,
    "start_time": "2021-06-20T15:25:37.605Z"
   },
   {
    "duration": 7,
    "start_time": "2021-06-20T15:25:38.868Z"
   },
   {
    "duration": 15,
    "start_time": "2021-06-20T15:25:38.878Z"
   },
   {
    "duration": 15,
    "start_time": "2021-06-20T15:25:38.897Z"
   },
   {
    "duration": 1385,
    "start_time": "2021-06-20T15:25:38.957Z"
   },
   {
    "duration": 24,
    "start_time": "2021-06-20T15:32:48.059Z"
   },
   {
    "duration": 453,
    "start_time": "2021-06-20T15:32:48.638Z"
   },
   {
    "duration": 3,
    "start_time": "2021-06-20T15:33:02.293Z"
   },
   {
    "duration": 274,
    "start_time": "2021-06-20T15:33:13.178Z"
   },
   {
    "duration": 261,
    "start_time": "2021-06-20T15:33:13.662Z"
   },
   {
    "duration": 1860,
    "start_time": "2021-06-20T15:33:21.007Z"
   },
   {
    "duration": 55,
    "start_time": "2021-06-20T15:33:22.869Z"
   },
   {
    "duration": 16,
    "start_time": "2021-06-20T15:33:22.927Z"
   },
   {
    "duration": 12,
    "start_time": "2021-06-20T15:33:22.955Z"
   },
   {
    "duration": 25,
    "start_time": "2021-06-20T15:33:22.970Z"
   },
   {
    "duration": 8,
    "start_time": "2021-06-20T15:33:22.998Z"
   },
   {
    "duration": 69,
    "start_time": "2021-06-20T15:33:23.009Z"
   },
   {
    "duration": 11,
    "start_time": "2021-06-20T15:33:23.084Z"
   },
   {
    "duration": 12,
    "start_time": "2021-06-20T15:33:23.098Z"
   },
   {
    "duration": 64,
    "start_time": "2021-06-20T15:33:23.112Z"
   },
   {
    "duration": 8,
    "start_time": "2021-06-20T15:33:23.178Z"
   },
   {
    "duration": 12,
    "start_time": "2021-06-20T15:33:23.188Z"
   },
   {
    "duration": 6,
    "start_time": "2021-06-20T15:33:23.203Z"
   },
   {
    "duration": 48,
    "start_time": "2021-06-20T15:33:23.211Z"
   },
   {
    "duration": 42,
    "start_time": "2021-06-20T15:33:23.261Z"
   },
   {
    "duration": 9,
    "start_time": "2021-06-20T15:33:23.306Z"
   },
   {
    "duration": 13,
    "start_time": "2021-06-20T15:33:23.356Z"
   },
   {
    "duration": 10,
    "start_time": "2021-06-20T15:33:23.371Z"
   },
   {
    "duration": 622,
    "start_time": "2021-06-20T15:33:23.384Z"
   },
   {
    "duration": 518,
    "start_time": "2021-06-20T15:33:24.008Z"
   },
   {
    "duration": 31,
    "start_time": "2021-06-20T15:33:24.529Z"
   },
   {
    "duration": 10,
    "start_time": "2021-06-20T15:33:24.563Z"
   },
   {
    "duration": 12,
    "start_time": "2021-06-20T15:33:24.580Z"
   },
   {
    "duration": 415,
    "start_time": "2021-06-20T15:33:24.595Z"
   },
   {
    "duration": 7,
    "start_time": "2021-06-20T15:33:25.013Z"
   },
   {
    "duration": 34,
    "start_time": "2021-06-20T15:33:25.022Z"
   },
   {
    "duration": 10,
    "start_time": "2021-06-20T15:33:25.058Z"
   },
   {
    "duration": 27,
    "start_time": "2021-06-20T15:33:25.070Z"
   },
   {
    "duration": 8,
    "start_time": "2021-06-20T15:33:25.100Z"
   },
   {
    "duration": 509,
    "start_time": "2021-06-20T15:33:25.110Z"
   },
   {
    "duration": 808,
    "start_time": "2021-06-20T15:33:25.621Z"
   },
   {
    "duration": 6,
    "start_time": "2021-06-20T15:33:26.432Z"
   },
   {
    "duration": 636,
    "start_time": "2021-06-20T15:33:26.440Z"
   },
   {
    "duration": 1743,
    "start_time": "2021-06-20T15:33:27.079Z"
   },
   {
    "duration": 46,
    "start_time": "2021-06-20T15:33:28.824Z"
   },
   {
    "duration": 194,
    "start_time": "2021-06-20T15:33:28.873Z"
   },
   {
    "duration": 14,
    "start_time": "2021-06-20T15:33:29.069Z"
   },
   {
    "duration": 19,
    "start_time": "2021-06-20T15:33:29.085Z"
   },
   {
    "duration": 12,
    "start_time": "2021-06-20T15:33:29.107Z"
   },
   {
    "duration": 10,
    "start_time": "2021-06-20T15:33:29.121Z"
   },
   {
    "duration": 990,
    "start_time": "2021-06-20T15:33:29.133Z"
   },
   {
    "duration": 30,
    "start_time": "2021-06-20T15:33:30.126Z"
   },
   {
    "duration": 21,
    "start_time": "2021-06-20T15:33:30.160Z"
   },
   {
    "duration": 1017,
    "start_time": "2021-06-20T15:33:30.184Z"
   },
   {
    "duration": 24,
    "start_time": "2021-06-20T15:33:31.203Z"
   },
   {
    "duration": 8,
    "start_time": "2021-06-20T15:33:31.229Z"
   },
   {
    "duration": 27,
    "start_time": "2021-06-20T15:33:31.239Z"
   },
   {
    "duration": 19,
    "start_time": "2021-06-20T15:33:31.268Z"
   },
   {
    "duration": 10,
    "start_time": "2021-06-20T15:33:31.290Z"
   },
   {
    "duration": 63,
    "start_time": "2021-06-20T15:33:31.303Z"
   },
   {
    "duration": 23,
    "start_time": "2021-06-20T15:33:31.369Z"
   },
   {
    "duration": 21,
    "start_time": "2021-06-20T15:33:31.395Z"
   },
   {
    "duration": 36,
    "start_time": "2021-06-20T15:33:31.419Z"
   },
   {
    "duration": 18,
    "start_time": "2021-06-20T15:33:31.458Z"
   },
   {
    "duration": 17,
    "start_time": "2021-06-20T15:33:31.478Z"
   },
   {
    "duration": 81,
    "start_time": "2021-06-20T15:33:31.497Z"
   },
   {
    "duration": 19,
    "start_time": "2021-06-20T15:33:31.582Z"
   },
   {
    "duration": 54,
    "start_time": "2021-06-20T15:33:31.603Z"
   },
   {
    "duration": 1046,
    "start_time": "2021-06-20T15:33:31.660Z"
   },
   {
    "duration": 5,
    "start_time": "2021-06-20T15:33:32.708Z"
   },
   {
    "duration": 44,
    "start_time": "2021-06-20T15:33:32.716Z"
   },
   {
    "duration": 10,
    "start_time": "2021-06-20T15:33:32.762Z"
   },
   {
    "duration": 902,
    "start_time": "2021-06-20T15:33:32.775Z"
   },
   {
    "duration": 2206,
    "start_time": "2021-06-20T15:46:33.237Z"
   },
   {
    "duration": 9,
    "start_time": "2021-06-20T15:46:44.777Z"
   },
   {
    "duration": 9,
    "start_time": "2021-06-20T15:46:45.555Z"
   },
   {
    "duration": 146,
    "start_time": "2021-06-20T15:47:03.287Z"
   },
   {
    "duration": 9,
    "start_time": "2021-06-20T15:47:03.664Z"
   },
   {
    "duration": 4,
    "start_time": "2021-06-20T15:47:09.326Z"
   },
   {
    "duration": 10,
    "start_time": "2021-06-20T15:47:09.950Z"
   },
   {
    "duration": 3,
    "start_time": "2021-06-20T15:47:15.233Z"
   },
   {
    "duration": 9,
    "start_time": "2021-06-20T15:47:15.655Z"
   },
   {
    "duration": 21,
    "start_time": "2021-06-20T15:47:19.538Z"
   },
   {
    "duration": 3,
    "start_time": "2021-06-20T15:47:20.248Z"
   },
   {
    "duration": 10,
    "start_time": "2021-06-20T15:47:20.886Z"
   },
   {
    "duration": 5,
    "start_time": "2021-06-20T15:47:31.188Z"
   },
   {
    "duration": 9,
    "start_time": "2021-06-20T15:47:31.577Z"
   },
   {
    "duration": 256,
    "start_time": "2021-06-20T15:49:01.021Z"
   },
   {
    "duration": 9,
    "start_time": "2021-06-20T15:49:07.764Z"
   },
   {
    "duration": 10,
    "start_time": "2021-06-20T15:49:18.157Z"
   },
   {
    "duration": 6,
    "start_time": "2021-06-20T15:49:28.413Z"
   },
   {
    "duration": 12,
    "start_time": "2021-06-20T15:49:28.422Z"
   },
   {
    "duration": 6,
    "start_time": "2021-06-20T15:49:34.527Z"
   },
   {
    "duration": 11,
    "start_time": "2021-06-20T15:49:35.023Z"
   },
   {
    "duration": 270,
    "start_time": "2021-06-20T15:53:56.899Z"
   },
   {
    "duration": 581,
    "start_time": "2021-06-20T15:54:15.888Z"
   },
   {
    "duration": 23,
    "start_time": "2021-06-20T15:57:23.146Z"
   },
   {
    "duration": 943,
    "start_time": "2021-06-20T15:57:23.844Z"
   },
   {
    "duration": 4,
    "start_time": "2021-06-20T15:57:39.925Z"
   },
   {
    "duration": 6,
    "start_time": "2021-06-20T15:57:41.993Z"
   },
   {
    "duration": 11,
    "start_time": "2021-06-20T15:57:42.658Z"
   },
   {
    "duration": 694,
    "start_time": "2021-06-20T15:57:59.020Z"
   },
   {
    "duration": 81,
    "start_time": "2021-06-20T16:01:30.263Z"
   },
   {
    "duration": 1076,
    "start_time": "2021-06-20T16:01:35.099Z"
   },
   {
    "duration": 725,
    "start_time": "2021-06-20T16:01:48.061Z"
   },
   {
    "duration": 800,
    "start_time": "2021-06-20T16:02:56.473Z"
   },
   {
    "duration": 703,
    "start_time": "2021-06-20T16:03:49.133Z"
   },
   {
    "duration": 692,
    "start_time": "2021-06-20T16:04:11.819Z"
   },
   {
    "duration": 947,
    "start_time": "2021-06-20T16:05:33.085Z"
   },
   {
    "duration": 737,
    "start_time": "2021-06-20T16:05:51.588Z"
   },
   {
    "duration": 687,
    "start_time": "2021-06-20T16:06:52.410Z"
   },
   {
    "duration": 717,
    "start_time": "2021-06-20T16:06:58.852Z"
   },
   {
    "duration": 6,
    "start_time": "2021-06-20T16:09:10.009Z"
   },
   {
    "duration": 15,
    "start_time": "2021-06-20T16:09:10.504Z"
   },
   {
    "duration": 711,
    "start_time": "2021-06-20T16:09:11.469Z"
   },
   {
    "duration": 1081,
    "start_time": "2021-06-20T16:10:20.966Z"
   },
   {
    "duration": 12,
    "start_time": "2021-06-20T16:43:24.109Z"
   },
   {
    "duration": 6,
    "start_time": "2021-06-20T16:44:23.345Z"
   },
   {
    "duration": 7,
    "start_time": "2021-06-20T16:48:00.050Z"
   },
   {
    "duration": 6,
    "start_time": "2021-06-20T16:48:15.738Z"
   },
   {
    "duration": 7,
    "start_time": "2021-06-20T16:48:25.704Z"
   },
   {
    "duration": 7,
    "start_time": "2021-06-20T16:48:39.024Z"
   },
   {
    "duration": 7,
    "start_time": "2021-06-20T16:49:45.014Z"
   },
   {
    "duration": 6,
    "start_time": "2021-06-20T16:49:51.000Z"
   },
   {
    "duration": 8,
    "start_time": "2021-06-20T16:49:59.313Z"
   },
   {
    "duration": 12,
    "start_time": "2021-06-20T16:54:37.405Z"
   },
   {
    "duration": 9,
    "start_time": "2021-06-20T16:54:55.291Z"
   },
   {
    "duration": 15,
    "start_time": "2021-06-20T16:55:56.764Z"
   },
   {
    "duration": 11,
    "start_time": "2021-06-20T16:55:58.711Z"
   },
   {
    "duration": 19,
    "start_time": "2021-06-20T16:56:06.350Z"
   },
   {
    "duration": 19,
    "start_time": "2021-06-20T17:00:51.909Z"
   },
   {
    "duration": 1884,
    "start_time": "2021-06-20T17:04:19.374Z"
   },
   {
    "duration": 57,
    "start_time": "2021-06-20T17:04:21.261Z"
   },
   {
    "duration": 17,
    "start_time": "2021-06-20T17:04:21.321Z"
   },
   {
    "duration": 24,
    "start_time": "2021-06-20T17:04:21.340Z"
   },
   {
    "duration": 26,
    "start_time": "2021-06-20T17:04:21.367Z"
   },
   {
    "duration": 6,
    "start_time": "2021-06-20T17:04:21.395Z"
   },
   {
    "duration": 68,
    "start_time": "2021-06-20T17:04:21.404Z"
   },
   {
    "duration": 11,
    "start_time": "2021-06-20T17:04:21.476Z"
   },
   {
    "duration": 13,
    "start_time": "2021-06-20T17:04:21.490Z"
   },
   {
    "duration": 54,
    "start_time": "2021-06-20T17:04:21.506Z"
   },
   {
    "duration": 8,
    "start_time": "2021-06-20T17:04:21.563Z"
   },
   {
    "duration": 8,
    "start_time": "2021-06-20T17:04:21.573Z"
   },
   {
    "duration": 5,
    "start_time": "2021-06-20T17:04:21.583Z"
   },
   {
    "duration": 11,
    "start_time": "2021-06-20T17:04:21.591Z"
   },
   {
    "duration": 89,
    "start_time": "2021-06-20T17:04:21.605Z"
   },
   {
    "duration": 9,
    "start_time": "2021-06-20T17:04:21.697Z"
   },
   {
    "duration": 48,
    "start_time": "2021-06-20T17:04:21.708Z"
   },
   {
    "duration": 10,
    "start_time": "2021-06-20T17:04:21.758Z"
   },
   {
    "duration": 637,
    "start_time": "2021-06-20T17:04:21.770Z"
   },
   {
    "duration": 517,
    "start_time": "2021-06-20T17:04:22.409Z"
   },
   {
    "duration": 27,
    "start_time": "2021-06-20T17:04:22.929Z"
   },
   {
    "duration": 10,
    "start_time": "2021-06-20T17:04:22.959Z"
   },
   {
    "duration": 15,
    "start_time": "2021-06-20T17:04:22.974Z"
   },
   {
    "duration": 379,
    "start_time": "2021-06-20T17:04:22.993Z"
   },
   {
    "duration": 6,
    "start_time": "2021-06-20T17:04:23.375Z"
   },
   {
    "duration": 16,
    "start_time": "2021-06-20T17:04:23.384Z"
   },
   {
    "duration": 14,
    "start_time": "2021-06-20T17:04:23.403Z"
   },
   {
    "duration": 60,
    "start_time": "2021-06-20T17:04:23.419Z"
   },
   {
    "duration": 4,
    "start_time": "2021-06-20T17:04:23.481Z"
   },
   {
    "duration": 9,
    "start_time": "2021-06-20T17:04:23.488Z"
   },
   {
    "duration": 13,
    "start_time": "2021-06-20T17:04:23.500Z"
   },
   {
    "duration": 372,
    "start_time": "2021-06-20T17:04:23.516Z"
   },
   {
    "duration": 590,
    "start_time": "2021-06-20T17:04:23.891Z"
   },
   {
    "duration": 649,
    "start_time": "2021-06-20T17:04:24.483Z"
   },
   {
    "duration": 9,
    "start_time": "2021-06-20T17:04:25.134Z"
   },
   {
    "duration": 493,
    "start_time": "2021-06-20T17:04:25.157Z"
   },
   {
    "duration": 1451,
    "start_time": "2021-06-20T17:04:25.656Z"
   },
   {
    "duration": 45,
    "start_time": "2021-06-20T17:04:27.110Z"
   },
   {
    "duration": 143,
    "start_time": "2021-06-20T17:04:27.159Z"
   },
   {
    "duration": 14,
    "start_time": "2021-06-20T17:04:27.304Z"
   },
   {
    "duration": 12,
    "start_time": "2021-06-20T17:04:27.320Z"
   },
   {
    "duration": 32,
    "start_time": "2021-06-20T17:04:27.334Z"
   },
   {
    "duration": 11,
    "start_time": "2021-06-20T17:04:27.368Z"
   },
   {
    "duration": 966,
    "start_time": "2021-06-20T17:04:27.381Z"
   },
   {
    "duration": 1128,
    "start_time": "2021-06-20T17:04:28.349Z"
   },
   {
    "duration": 26,
    "start_time": "2021-06-20T17:04:29.480Z"
   },
   {
    "duration": 9,
    "start_time": "2021-06-20T17:04:29.509Z"
   },
   {
    "duration": 51,
    "start_time": "2021-06-20T17:04:29.521Z"
   },
   {
    "duration": 6,
    "start_time": "2021-06-20T17:04:29.575Z"
   },
   {
    "duration": 16,
    "start_time": "2021-06-20T17:04:29.583Z"
   },
   {
    "duration": 10,
    "start_time": "2021-06-20T17:04:29.601Z"
   },
   {
    "duration": 50,
    "start_time": "2021-06-20T17:04:29.613Z"
   },
   {
    "duration": 23,
    "start_time": "2021-06-20T17:04:29.666Z"
   },
   {
    "duration": 16,
    "start_time": "2021-06-20T17:04:29.691Z"
   },
   {
    "duration": 55,
    "start_time": "2021-06-20T17:04:29.709Z"
   },
   {
    "duration": 13,
    "start_time": "2021-06-20T17:04:29.767Z"
   },
   {
    "duration": 16,
    "start_time": "2021-06-20T17:04:29.784Z"
   },
   {
    "duration": 68,
    "start_time": "2021-06-20T17:04:29.803Z"
   },
   {
    "duration": 13,
    "start_time": "2021-06-20T17:04:29.874Z"
   },
   {
    "duration": 72,
    "start_time": "2021-06-20T17:04:29.891Z"
   },
   {
    "duration": 16,
    "start_time": "2021-06-20T17:04:29.978Z"
   },
   {
    "duration": 11,
    "start_time": "2021-06-20T17:04:30.001Z"
   },
   {
    "duration": 1008,
    "start_time": "2021-06-20T17:04:30.014Z"
   },
   {
    "duration": 5,
    "start_time": "2021-06-20T17:04:31.025Z"
   },
   {
    "duration": 32,
    "start_time": "2021-06-20T17:04:31.033Z"
   },
   {
    "duration": 29,
    "start_time": "2021-06-20T17:04:31.068Z"
   },
   {
    "duration": 931,
    "start_time": "2021-06-20T17:04:31.101Z"
   },
   {
    "duration": 20,
    "start_time": "2021-06-20T17:04:47.962Z"
   },
   {
    "duration": 10,
    "start_time": "2021-06-20T17:05:40.436Z"
   },
   {
    "duration": 10,
    "start_time": "2021-06-20T17:06:10.669Z"
   },
   {
    "duration": 6,
    "start_time": "2021-06-20T17:06:11.270Z"
   },
   {
    "duration": 13,
    "start_time": "2021-06-20T17:06:12.057Z"
   },
   {
    "duration": 20,
    "start_time": "2021-06-20T17:06:13.027Z"
   },
   {
    "duration": 19,
    "start_time": "2021-06-20T17:06:19.458Z"
   },
   {
    "duration": 9,
    "start_time": "2021-06-20T17:16:07.573Z"
   },
   {
    "duration": 431,
    "start_time": "2021-06-20T17:16:23.199Z"
   },
   {
    "duration": 10,
    "start_time": "2021-06-20T17:16:35.750Z"
   },
   {
    "duration": 11,
    "start_time": "2021-06-20T17:16:48.141Z"
   },
   {
    "duration": 9,
    "start_time": "2021-06-20T17:16:54.930Z"
   },
   {
    "duration": 8,
    "start_time": "2021-06-20T17:17:02.576Z"
   },
   {
    "duration": 11,
    "start_time": "2021-06-20T17:21:32.750Z"
   },
   {
    "duration": 10,
    "start_time": "2021-06-20T17:21:57.609Z"
   },
   {
    "duration": 94,
    "start_time": "2021-06-20T17:22:40.670Z"
   },
   {
    "duration": 7,
    "start_time": "2021-06-20T17:22:49.636Z"
   },
   {
    "duration": 7,
    "start_time": "2021-06-20T17:23:01.366Z"
   },
   {
    "duration": 9,
    "start_time": "2021-06-20T17:23:58.045Z"
   },
   {
    "duration": 5,
    "start_time": "2021-06-20T17:26:36.550Z"
   },
   {
    "duration": 5,
    "start_time": "2021-06-20T17:26:51.517Z"
   },
   {
    "duration": 11,
    "start_time": "2021-06-20T17:28:41.711Z"
   },
   {
    "duration": 10,
    "start_time": "2021-06-20T17:28:42.763Z"
   },
   {
    "duration": 843,
    "start_time": "2021-06-20T17:28:44.968Z"
   },
   {
    "duration": 97,
    "start_time": "2021-06-20T17:30:42.587Z"
   },
   {
    "duration": 2050,
    "start_time": "2021-06-20T17:46:49.740Z"
   },
   {
    "duration": 58,
    "start_time": "2021-06-20T17:46:51.793Z"
   },
   {
    "duration": 18,
    "start_time": "2021-06-20T17:46:51.854Z"
   },
   {
    "duration": 19,
    "start_time": "2021-06-20T17:46:51.875Z"
   },
   {
    "duration": 41,
    "start_time": "2021-06-20T17:46:51.896Z"
   },
   {
    "duration": 22,
    "start_time": "2021-06-20T17:46:51.939Z"
   },
   {
    "duration": 33,
    "start_time": "2021-06-20T17:46:51.966Z"
   },
   {
    "duration": 11,
    "start_time": "2021-06-20T17:46:52.002Z"
   },
   {
    "duration": 45,
    "start_time": "2021-06-20T17:46:52.017Z"
   },
   {
    "duration": 22,
    "start_time": "2021-06-20T17:46:52.066Z"
   },
   {
    "duration": 15,
    "start_time": "2021-06-20T17:46:52.091Z"
   },
   {
    "duration": 21,
    "start_time": "2021-06-20T17:46:52.109Z"
   },
   {
    "duration": 9,
    "start_time": "2021-06-20T17:46:52.161Z"
   },
   {
    "duration": 33,
    "start_time": "2021-06-20T17:46:52.173Z"
   },
   {
    "duration": 58,
    "start_time": "2021-06-20T17:46:52.209Z"
   },
   {
    "duration": 10,
    "start_time": "2021-06-20T17:46:52.270Z"
   },
   {
    "duration": 23,
    "start_time": "2021-06-20T17:46:52.283Z"
   },
   {
    "duration": 18,
    "start_time": "2021-06-20T17:46:52.309Z"
   },
   {
    "duration": 634,
    "start_time": "2021-06-20T17:46:52.330Z"
   },
   {
    "duration": 560,
    "start_time": "2021-06-20T17:46:52.968Z"
   },
   {
    "duration": 32,
    "start_time": "2021-06-20T17:46:53.531Z"
   },
   {
    "duration": 11,
    "start_time": "2021-06-20T17:46:53.566Z"
   },
   {
    "duration": 23,
    "start_time": "2021-06-20T17:46:53.579Z"
   },
   {
    "duration": 392,
    "start_time": "2021-06-20T17:46:53.605Z"
   },
   {
    "duration": 7,
    "start_time": "2021-06-20T17:46:54.000Z"
   },
   {
    "duration": 20,
    "start_time": "2021-06-20T17:46:54.009Z"
   },
   {
    "duration": 16,
    "start_time": "2021-06-20T17:46:54.055Z"
   },
   {
    "duration": 38,
    "start_time": "2021-06-20T17:46:54.075Z"
   },
   {
    "duration": 3,
    "start_time": "2021-06-20T17:46:54.116Z"
   },
   {
    "duration": 18,
    "start_time": "2021-06-20T17:46:54.121Z"
   },
   {
    "duration": 30,
    "start_time": "2021-06-20T17:46:54.141Z"
   },
   {
    "duration": 354,
    "start_time": "2021-06-20T17:46:54.174Z"
   },
   {
    "duration": 584,
    "start_time": "2021-06-20T17:46:54.531Z"
   },
   {
    "duration": 744,
    "start_time": "2021-06-20T17:46:55.117Z"
   },
   {
    "duration": 8,
    "start_time": "2021-06-20T17:46:55.865Z"
   },
   {
    "duration": 501,
    "start_time": "2021-06-20T17:46:55.876Z"
   },
   {
    "duration": 1549,
    "start_time": "2021-06-20T17:46:56.380Z"
   },
   {
    "duration": 38,
    "start_time": "2021-06-20T17:46:57.932Z"
   },
   {
    "duration": 116,
    "start_time": "2021-06-20T17:46:57.972Z"
   },
   {
    "duration": 19,
    "start_time": "2021-06-20T17:46:58.091Z"
   },
   {
    "duration": 15,
    "start_time": "2021-06-20T17:46:58.113Z"
   },
   {
    "duration": 17,
    "start_time": "2021-06-20T17:46:58.159Z"
   },
   {
    "duration": 13,
    "start_time": "2021-06-20T17:46:58.184Z"
   },
   {
    "duration": 924,
    "start_time": "2021-06-20T17:46:58.200Z"
   },
   {
    "duration": 1142,
    "start_time": "2021-06-20T17:46:59.126Z"
   },
   {
    "duration": 23,
    "start_time": "2021-06-20T17:47:00.271Z"
   },
   {
    "duration": 7,
    "start_time": "2021-06-20T17:47:00.297Z"
   },
   {
    "duration": 58,
    "start_time": "2021-06-20T17:47:00.307Z"
   },
   {
    "duration": 9,
    "start_time": "2021-06-20T17:47:00.368Z"
   },
   {
    "duration": 17,
    "start_time": "2021-06-20T17:47:00.380Z"
   },
   {
    "duration": 34,
    "start_time": "2021-06-20T17:47:00.399Z"
   },
   {
    "duration": 19,
    "start_time": "2021-06-20T17:47:00.460Z"
   },
   {
    "duration": 28,
    "start_time": "2021-06-20T17:47:00.481Z"
   },
   {
    "duration": 50,
    "start_time": "2021-06-20T17:47:00.512Z"
   },
   {
    "duration": 31,
    "start_time": "2021-06-20T17:47:00.564Z"
   },
   {
    "duration": 18,
    "start_time": "2021-06-20T17:47:00.598Z"
   },
   {
    "duration": 45,
    "start_time": "2021-06-20T17:47:00.619Z"
   },
   {
    "duration": 24,
    "start_time": "2021-06-20T17:47:00.667Z"
   },
   {
    "duration": 40,
    "start_time": "2021-06-20T17:47:00.693Z"
   },
   {
    "duration": 42,
    "start_time": "2021-06-20T17:47:00.735Z"
   },
   {
    "duration": 25,
    "start_time": "2021-06-20T17:47:00.780Z"
   },
   {
    "duration": 57,
    "start_time": "2021-06-20T17:47:00.808Z"
   },
   {
    "duration": 6603,
    "start_time": "2021-06-20T17:47:00.868Z"
   },
   {
    "duration": -151,
    "start_time": "2021-06-20T17:47:07.625Z"
   },
   {
    "duration": -155,
    "start_time": "2021-06-20T17:47:07.631Z"
   },
   {
    "duration": -160,
    "start_time": "2021-06-20T17:47:07.637Z"
   },
   {
    "duration": -161,
    "start_time": "2021-06-20T17:47:07.639Z"
   },
   {
    "duration": -163,
    "start_time": "2021-06-20T17:47:07.642Z"
   },
   {
    "duration": 102,
    "start_time": "2021-06-20T17:51:16.580Z"
   },
   {
    "duration": 2133,
    "start_time": "2021-06-20T17:51:34.741Z"
   },
   {
    "duration": 58,
    "start_time": "2021-06-20T17:51:36.877Z"
   },
   {
    "duration": 25,
    "start_time": "2021-06-20T17:51:36.938Z"
   },
   {
    "duration": 14,
    "start_time": "2021-06-20T17:51:36.966Z"
   },
   {
    "duration": 22,
    "start_time": "2021-06-20T17:51:36.982Z"
   },
   {
    "duration": 5,
    "start_time": "2021-06-20T17:51:37.007Z"
   },
   {
    "duration": 59,
    "start_time": "2021-06-20T17:51:37.014Z"
   },
   {
    "duration": 15,
    "start_time": "2021-06-20T17:51:37.079Z"
   },
   {
    "duration": 13,
    "start_time": "2021-06-20T17:51:37.098Z"
   },
   {
    "duration": 67,
    "start_time": "2021-06-20T17:51:37.114Z"
   },
   {
    "duration": 8,
    "start_time": "2021-06-20T17:51:37.184Z"
   },
   {
    "duration": 14,
    "start_time": "2021-06-20T17:51:37.195Z"
   },
   {
    "duration": 59,
    "start_time": "2021-06-20T17:51:37.212Z"
   },
   {
    "duration": 6,
    "start_time": "2021-06-20T17:51:37.273Z"
   },
   {
    "duration": 79,
    "start_time": "2021-06-20T17:51:37.282Z"
   },
   {
    "duration": 11,
    "start_time": "2021-06-20T17:51:37.363Z"
   },
   {
    "duration": 11,
    "start_time": "2021-06-20T17:51:37.377Z"
   },
   {
    "duration": 13,
    "start_time": "2021-06-20T17:51:37.391Z"
   },
   {
    "duration": 676,
    "start_time": "2021-06-20T17:51:37.407Z"
   },
   {
    "duration": 551,
    "start_time": "2021-06-20T17:51:38.085Z"
   },
   {
    "duration": 21,
    "start_time": "2021-06-20T17:51:38.638Z"
   },
   {
    "duration": 11,
    "start_time": "2021-06-20T17:51:38.662Z"
   },
   {
    "duration": 11,
    "start_time": "2021-06-20T17:51:38.679Z"
   },
   {
    "duration": 429,
    "start_time": "2021-06-20T17:51:38.696Z"
   },
   {
    "duration": 7,
    "start_time": "2021-06-20T17:51:39.127Z"
   },
   {
    "duration": 32,
    "start_time": "2021-06-20T17:51:39.136Z"
   },
   {
    "duration": 10,
    "start_time": "2021-06-20T17:51:39.171Z"
   },
   {
    "duration": 24,
    "start_time": "2021-06-20T17:51:39.183Z"
   },
   {
    "duration": 3,
    "start_time": "2021-06-20T17:51:39.209Z"
   },
   {
    "duration": 46,
    "start_time": "2021-06-20T17:51:39.215Z"
   },
   {
    "duration": 12,
    "start_time": "2021-06-20T17:51:39.264Z"
   },
   {
    "duration": 394,
    "start_time": "2021-06-20T17:51:39.278Z"
   },
   {
    "duration": 611,
    "start_time": "2021-06-20T17:51:39.674Z"
   },
   {
    "duration": 746,
    "start_time": "2021-06-20T17:51:40.289Z"
   },
   {
    "duration": 20,
    "start_time": "2021-06-20T17:51:41.038Z"
   },
   {
    "duration": 520,
    "start_time": "2021-06-20T17:51:41.060Z"
   },
   {
    "duration": 1443,
    "start_time": "2021-06-20T17:51:41.582Z"
   },
   {
    "duration": 40,
    "start_time": "2021-06-20T17:51:43.028Z"
   },
   {
    "duration": 129,
    "start_time": "2021-06-20T17:51:43.071Z"
   },
   {
    "duration": 15,
    "start_time": "2021-06-20T17:51:43.202Z"
   },
   {
    "duration": 37,
    "start_time": "2021-06-20T17:51:43.219Z"
   },
   {
    "duration": 21,
    "start_time": "2021-06-20T17:51:43.259Z"
   },
   {
    "duration": 9,
    "start_time": "2021-06-20T17:51:43.282Z"
   },
   {
    "duration": 940,
    "start_time": "2021-06-20T17:51:43.293Z"
   },
   {
    "duration": 807,
    "start_time": "2021-06-20T17:51:44.236Z"
   },
   {
    "duration": 26,
    "start_time": "2021-06-20T17:51:45.046Z"
   },
   {
    "duration": 9,
    "start_time": "2021-06-20T17:51:45.074Z"
   },
   {
    "duration": 21,
    "start_time": "2021-06-20T17:51:45.085Z"
   },
   {
    "duration": 7,
    "start_time": "2021-06-20T17:51:45.108Z"
   },
   {
    "duration": 15,
    "start_time": "2021-06-20T17:51:45.156Z"
   },
   {
    "duration": 22,
    "start_time": "2021-06-20T17:51:45.173Z"
   },
   {
    "duration": 22,
    "start_time": "2021-06-20T17:51:45.198Z"
   },
   {
    "duration": 63,
    "start_time": "2021-06-20T17:51:45.224Z"
   },
   {
    "duration": 19,
    "start_time": "2021-06-20T17:51:45.290Z"
   },
   {
    "duration": 58,
    "start_time": "2021-06-20T17:51:45.312Z"
   },
   {
    "duration": 17,
    "start_time": "2021-06-20T17:51:45.373Z"
   },
   {
    "duration": 17,
    "start_time": "2021-06-20T17:51:45.392Z"
   },
   {
    "duration": 52,
    "start_time": "2021-06-20T17:51:45.412Z"
   },
   {
    "duration": 10,
    "start_time": "2021-06-20T17:51:45.467Z"
   },
   {
    "duration": 81,
    "start_time": "2021-06-20T17:51:45.480Z"
   },
   {
    "duration": 10,
    "start_time": "2021-06-20T17:51:45.566Z"
   },
   {
    "duration": 14,
    "start_time": "2021-06-20T17:51:45.579Z"
   },
   {
    "duration": 6460,
    "start_time": "2021-06-20T17:51:45.595Z"
   },
   {
    "duration": -153,
    "start_time": "2021-06-20T17:51:52.212Z"
   },
   {
    "duration": -155,
    "start_time": "2021-06-20T17:51:52.216Z"
   },
   {
    "duration": -157,
    "start_time": "2021-06-20T17:51:52.220Z"
   },
   {
    "duration": -156,
    "start_time": "2021-06-20T17:51:52.222Z"
   },
   {
    "duration": -156,
    "start_time": "2021-06-20T17:51:52.225Z"
   },
   {
    "duration": 2280,
    "start_time": "2021-06-21T06:48:21.299Z"
   },
   {
    "duration": 59,
    "start_time": "2021-06-21T06:48:23.582Z"
   },
   {
    "duration": 24,
    "start_time": "2021-06-21T06:48:23.645Z"
   },
   {
    "duration": 13,
    "start_time": "2021-06-21T06:48:23.673Z"
   },
   {
    "duration": 27,
    "start_time": "2021-06-21T06:48:23.689Z"
   },
   {
    "duration": 40,
    "start_time": "2021-06-21T06:48:23.719Z"
   },
   {
    "duration": 28,
    "start_time": "2021-06-21T06:48:23.762Z"
   },
   {
    "duration": 12,
    "start_time": "2021-06-21T06:48:23.794Z"
   },
   {
    "duration": 45,
    "start_time": "2021-06-21T06:48:23.810Z"
   },
   {
    "duration": 34,
    "start_time": "2021-06-21T06:48:23.859Z"
   },
   {
    "duration": 10,
    "start_time": "2021-06-21T06:48:23.897Z"
   },
   {
    "duration": 46,
    "start_time": "2021-06-21T06:48:23.910Z"
   },
   {
    "duration": 6,
    "start_time": "2021-06-21T06:48:23.959Z"
   },
   {
    "duration": 7,
    "start_time": "2021-06-21T06:48:23.969Z"
   },
   {
    "duration": 81,
    "start_time": "2021-06-21T06:48:23.979Z"
   },
   {
    "duration": 12,
    "start_time": "2021-06-21T06:48:24.062Z"
   },
   {
    "duration": 13,
    "start_time": "2021-06-21T06:48:24.077Z"
   },
   {
    "duration": 11,
    "start_time": "2021-06-21T06:48:24.093Z"
   },
   {
    "duration": 650,
    "start_time": "2021-06-21T06:48:24.107Z"
   },
   {
    "duration": 528,
    "start_time": "2021-06-21T06:48:24.760Z"
   },
   {
    "duration": 12,
    "start_time": "2021-06-21T06:48:25.290Z"
   },
   {
    "duration": 11,
    "start_time": "2021-06-21T06:48:25.305Z"
   },
   {
    "duration": 10,
    "start_time": "2021-06-21T06:48:25.355Z"
   },
   {
    "duration": 393,
    "start_time": "2021-06-21T06:48:25.369Z"
   },
   {
    "duration": 7,
    "start_time": "2021-06-21T06:48:25.765Z"
   },
   {
    "duration": 14,
    "start_time": "2021-06-21T06:48:25.774Z"
   },
   {
    "duration": 11,
    "start_time": "2021-06-21T06:48:25.791Z"
   },
   {
    "duration": 58,
    "start_time": "2021-06-21T06:48:25.805Z"
   },
   {
    "duration": 4,
    "start_time": "2021-06-21T06:48:25.866Z"
   },
   {
    "duration": 8,
    "start_time": "2021-06-21T06:48:25.872Z"
   },
   {
    "duration": 12,
    "start_time": "2021-06-21T06:48:25.883Z"
   },
   {
    "duration": 361,
    "start_time": "2021-06-21T06:48:25.898Z"
   },
   {
    "duration": 597,
    "start_time": "2021-06-21T06:48:26.261Z"
   },
   {
    "duration": 698,
    "start_time": "2021-06-21T06:48:26.861Z"
   },
   {
    "duration": 8,
    "start_time": "2021-06-21T06:48:27.561Z"
   },
   {
    "duration": 831,
    "start_time": "2021-06-21T06:48:27.573Z"
   },
   {
    "duration": 1414,
    "start_time": "2021-06-21T06:48:28.406Z"
   },
   {
    "duration": 35,
    "start_time": "2021-06-21T06:48:29.823Z"
   },
   {
    "duration": 118,
    "start_time": "2021-06-21T06:48:29.860Z"
   },
   {
    "duration": 14,
    "start_time": "2021-06-21T06:48:29.980Z"
   },
   {
    "duration": 30,
    "start_time": "2021-06-21T06:48:29.996Z"
   },
   {
    "duration": 34,
    "start_time": "2021-06-21T06:48:30.029Z"
   },
   {
    "duration": 27,
    "start_time": "2021-06-21T06:48:30.065Z"
   },
   {
    "duration": 905,
    "start_time": "2021-06-21T06:48:30.094Z"
   },
   {
    "duration": 1207,
    "start_time": "2021-06-21T06:48:31.002Z"
   },
   {
    "duration": 24,
    "start_time": "2021-06-21T06:48:32.212Z"
   },
   {
    "duration": 9,
    "start_time": "2021-06-21T06:48:32.239Z"
   },
   {
    "duration": 24,
    "start_time": "2021-06-21T06:48:32.250Z"
   },
   {
    "duration": 7,
    "start_time": "2021-06-21T06:48:32.277Z"
   },
   {
    "duration": 23,
    "start_time": "2021-06-21T06:48:32.286Z"
   },
   {
    "duration": 27,
    "start_time": "2021-06-21T06:48:32.312Z"
   },
   {
    "duration": 39,
    "start_time": "2021-06-21T06:48:32.342Z"
   },
   {
    "duration": 35,
    "start_time": "2021-06-21T06:48:32.383Z"
   },
   {
    "duration": 16,
    "start_time": "2021-06-21T06:48:32.420Z"
   },
   {
    "duration": 26,
    "start_time": "2021-06-21T06:48:32.439Z"
   },
   {
    "duration": 15,
    "start_time": "2021-06-21T06:48:32.468Z"
   },
   {
    "duration": 18,
    "start_time": "2021-06-21T06:48:32.486Z"
   },
   {
    "duration": 20,
    "start_time": "2021-06-21T06:48:32.507Z"
   },
   {
    "duration": 9,
    "start_time": "2021-06-21T06:48:32.556Z"
   },
   {
    "duration": 29,
    "start_time": "2021-06-21T06:48:32.567Z"
   },
   {
    "duration": 56,
    "start_time": "2021-06-21T06:48:32.606Z"
   },
   {
    "duration": 13,
    "start_time": "2021-06-21T06:48:32.665Z"
   },
   {
    "duration": 6317,
    "start_time": "2021-06-21T06:48:32.681Z"
   },
   {
    "duration": -206,
    "start_time": "2021-06-21T06:48:39.208Z"
   },
   {
    "duration": -208,
    "start_time": "2021-06-21T06:48:39.212Z"
   },
   {
    "duration": -209,
    "start_time": "2021-06-21T06:48:39.216Z"
   },
   {
    "duration": -212,
    "start_time": "2021-06-21T06:48:39.221Z"
   },
   {
    "duration": -213,
    "start_time": "2021-06-21T06:48:39.224Z"
   },
   {
    "duration": 95,
    "start_time": "2021-06-21T06:53:40.916Z"
   },
   {
    "duration": 83,
    "start_time": "2021-06-21T06:57:27.454Z"
   },
   {
    "duration": 26,
    "start_time": "2021-06-21T07:03:00.695Z"
   },
   {
    "duration": 24,
    "start_time": "2021-06-21T07:03:46.218Z"
   },
   {
    "duration": 88,
    "start_time": "2021-06-21T07:05:55.814Z"
   },
   {
    "duration": 935,
    "start_time": "2021-06-21T07:09:57.907Z"
   },
   {
    "duration": 24,
    "start_time": "2021-06-21T07:11:34.413Z"
   },
   {
    "duration": 126,
    "start_time": "2021-06-21T07:45:27.798Z"
   },
   {
    "duration": 5,
    "start_time": "2021-06-21T07:45:34.641Z"
   },
   {
    "duration": 9,
    "start_time": "2021-06-21T07:45:39.455Z"
   },
   {
    "duration": 3,
    "start_time": "2021-06-21T07:49:56.642Z"
   },
   {
    "duration": 264,
    "start_time": "2021-06-21T07:51:32.753Z"
   },
   {
    "duration": 6872,
    "start_time": "2021-06-21T07:53:13.988Z"
   },
   {
    "duration": 4,
    "start_time": "2021-06-21T07:54:13.768Z"
   },
   {
    "duration": 24,
    "start_time": "2021-06-21T07:57:38.408Z"
   },
   {
    "duration": 4,
    "start_time": "2021-06-21T07:57:41.751Z"
   },
   {
    "duration": 24,
    "start_time": "2021-06-21T07:57:42.118Z"
   },
   {
    "duration": 24,
    "start_time": "2021-06-21T07:57:53.033Z"
   },
   {
    "duration": 27,
    "start_time": "2021-06-21T07:57:57.287Z"
   },
   {
    "duration": 324,
    "start_time": "2021-06-21T07:59:02.002Z"
   },
   {
    "duration": 2140,
    "start_time": "2021-06-21T07:59:59.558Z"
   },
   {
    "duration": 64,
    "start_time": "2021-06-21T08:00:01.701Z"
   },
   {
    "duration": 19,
    "start_time": "2021-06-21T08:00:01.768Z"
   },
   {
    "duration": 54,
    "start_time": "2021-06-21T08:00:01.790Z"
   },
   {
    "duration": 52,
    "start_time": "2021-06-21T08:00:01.846Z"
   },
   {
    "duration": 10,
    "start_time": "2021-06-21T08:00:01.901Z"
   },
   {
    "duration": 70,
    "start_time": "2021-06-21T08:00:01.914Z"
   },
   {
    "duration": 28,
    "start_time": "2021-06-21T08:00:01.989Z"
   },
   {
    "duration": 27,
    "start_time": "2021-06-21T08:00:02.021Z"
   },
   {
    "duration": 43,
    "start_time": "2021-06-21T08:00:02.052Z"
   },
   {
    "duration": 21,
    "start_time": "2021-06-21T08:00:02.098Z"
   },
   {
    "duration": 17,
    "start_time": "2021-06-21T08:00:02.122Z"
   },
   {
    "duration": 45,
    "start_time": "2021-06-21T08:00:02.142Z"
   },
   {
    "duration": 40,
    "start_time": "2021-06-21T08:00:02.190Z"
   },
   {
    "duration": 82,
    "start_time": "2021-06-21T08:00:02.233Z"
   },
   {
    "duration": 38,
    "start_time": "2021-06-21T08:00:02.318Z"
   },
   {
    "duration": 40,
    "start_time": "2021-06-21T08:00:02.359Z"
   },
   {
    "duration": 30,
    "start_time": "2021-06-21T08:00:02.401Z"
   },
   {
    "duration": 676,
    "start_time": "2021-06-21T08:00:02.434Z"
   },
   {
    "duration": 565,
    "start_time": "2021-06-21T08:00:03.114Z"
   },
   {
    "duration": 12,
    "start_time": "2021-06-21T08:00:03.682Z"
   },
   {
    "duration": 154,
    "start_time": "2021-06-21T08:00:03.696Z"
   },
   {
    "duration": 85,
    "start_time": "2021-06-21T08:00:03.859Z"
   },
   {
    "duration": 450,
    "start_time": "2021-06-21T08:00:03.950Z"
   },
   {
    "duration": 8,
    "start_time": "2021-06-21T08:00:04.403Z"
   },
   {
    "duration": 36,
    "start_time": "2021-06-21T08:00:04.414Z"
   },
   {
    "duration": 28,
    "start_time": "2021-06-21T08:00:04.456Z"
   },
   {
    "duration": 41,
    "start_time": "2021-06-21T08:00:04.487Z"
   },
   {
    "duration": 13,
    "start_time": "2021-06-21T08:00:04.530Z"
   },
   {
    "duration": 27,
    "start_time": "2021-06-21T08:00:04.546Z"
   },
   {
    "duration": 44,
    "start_time": "2021-06-21T08:00:04.575Z"
   },
   {
    "duration": 393,
    "start_time": "2021-06-21T08:00:04.621Z"
   },
   {
    "duration": 645,
    "start_time": "2021-06-21T08:00:05.016Z"
   },
   {
    "duration": 686,
    "start_time": "2021-06-21T08:00:05.663Z"
   },
   {
    "duration": 7,
    "start_time": "2021-06-21T08:00:06.352Z"
   },
   {
    "duration": 556,
    "start_time": "2021-06-21T08:00:06.362Z"
   },
   {
    "duration": 1582,
    "start_time": "2021-06-21T08:00:06.921Z"
   },
   {
    "duration": 17,
    "start_time": "2021-06-21T08:00:08.506Z"
   },
   {
    "duration": 462,
    "start_time": "2021-06-21T08:00:08.526Z"
   },
   {
    "duration": 13,
    "start_time": "2021-06-21T08:00:08.991Z"
   },
   {
    "duration": 83,
    "start_time": "2021-06-21T08:00:09.007Z"
   },
   {
    "duration": 97,
    "start_time": "2021-06-21T08:00:09.092Z"
   },
   {
    "duration": 64,
    "start_time": "2021-06-21T08:00:09.192Z"
   },
   {
    "duration": 940,
    "start_time": "2021-06-21T08:00:09.259Z"
   },
   {
    "duration": 1190,
    "start_time": "2021-06-21T08:00:10.202Z"
   },
   {
    "duration": 25,
    "start_time": "2021-06-21T08:00:11.395Z"
   },
   {
    "duration": 29,
    "start_time": "2021-06-21T08:00:11.422Z"
   },
   {
    "duration": 42,
    "start_time": "2021-06-21T08:00:11.454Z"
   },
   {
    "duration": 25,
    "start_time": "2021-06-21T08:00:11.498Z"
   },
   {
    "duration": 42,
    "start_time": "2021-06-21T08:00:11.526Z"
   },
   {
    "duration": 24,
    "start_time": "2021-06-21T08:00:11.571Z"
   },
   {
    "duration": 61,
    "start_time": "2021-06-21T08:00:11.598Z"
   },
   {
    "duration": 46,
    "start_time": "2021-06-21T08:00:11.662Z"
   },
   {
    "duration": 56,
    "start_time": "2021-06-21T08:00:11.711Z"
   },
   {
    "duration": 57,
    "start_time": "2021-06-21T08:00:11.769Z"
   },
   {
    "duration": 44,
    "start_time": "2021-06-21T08:00:11.829Z"
   },
   {
    "duration": 51,
    "start_time": "2021-06-21T08:00:11.876Z"
   },
   {
    "duration": 49,
    "start_time": "2021-06-21T08:00:11.929Z"
   },
   {
    "duration": 41,
    "start_time": "2021-06-21T08:00:11.980Z"
   },
   {
    "duration": 38,
    "start_time": "2021-06-21T08:00:12.023Z"
   },
   {
    "duration": 72,
    "start_time": "2021-06-21T08:00:12.063Z"
   },
   {
    "duration": 11,
    "start_time": "2021-06-21T08:00:12.138Z"
   },
   {
    "duration": 30,
    "start_time": "2021-06-21T08:00:12.155Z"
   },
   {
    "duration": 539,
    "start_time": "2021-06-21T08:00:12.187Z"
   },
   {
    "duration": -147,
    "start_time": "2021-06-21T08:00:12.875Z"
   },
   {
    "duration": -152,
    "start_time": "2021-06-21T08:00:12.882Z"
   },
   {
    "duration": -155,
    "start_time": "2021-06-21T08:00:12.886Z"
   },
   {
    "duration": -158,
    "start_time": "2021-06-21T08:00:12.890Z"
   },
   {
    "duration": -166,
    "start_time": "2021-06-21T08:00:12.900Z"
   },
   {
    "duration": 11,
    "start_time": "2021-06-21T08:01:01.422Z"
   },
   {
    "duration": 1061,
    "start_time": "2021-06-21T08:01:02.663Z"
   },
   {
    "duration": 2031,
    "start_time": "2021-06-21T08:01:09.261Z"
   },
   {
    "duration": 61,
    "start_time": "2021-06-21T08:01:11.295Z"
   },
   {
    "duration": 19,
    "start_time": "2021-06-21T08:01:11.359Z"
   },
   {
    "duration": 40,
    "start_time": "2021-06-21T08:01:11.382Z"
   },
   {
    "duration": 61,
    "start_time": "2021-06-21T08:01:11.425Z"
   },
   {
    "duration": 8,
    "start_time": "2021-06-21T08:01:11.489Z"
   },
   {
    "duration": 46,
    "start_time": "2021-06-21T08:01:11.500Z"
   },
   {
    "duration": 22,
    "start_time": "2021-06-21T08:01:11.551Z"
   },
   {
    "duration": 32,
    "start_time": "2021-06-21T08:01:11.576Z"
   },
   {
    "duration": 42,
    "start_time": "2021-06-21T08:01:11.611Z"
   },
   {
    "duration": 18,
    "start_time": "2021-06-21T08:01:11.655Z"
   },
   {
    "duration": 37,
    "start_time": "2021-06-21T08:01:11.675Z"
   },
   {
    "duration": 29,
    "start_time": "2021-06-21T08:01:11.715Z"
   },
   {
    "duration": 31,
    "start_time": "2021-06-21T08:01:11.746Z"
   },
   {
    "duration": 56,
    "start_time": "2021-06-21T08:01:11.779Z"
   },
   {
    "duration": 37,
    "start_time": "2021-06-21T08:01:11.837Z"
   },
   {
    "duration": 45,
    "start_time": "2021-06-21T08:01:11.876Z"
   },
   {
    "duration": 33,
    "start_time": "2021-06-21T08:01:11.923Z"
   },
   {
    "duration": 619,
    "start_time": "2021-06-21T08:01:11.958Z"
   },
   {
    "duration": 556,
    "start_time": "2021-06-21T08:01:12.580Z"
   },
   {
    "duration": 26,
    "start_time": "2021-06-21T08:01:13.139Z"
   },
   {
    "duration": 23,
    "start_time": "2021-06-21T08:01:13.168Z"
   },
   {
    "duration": 36,
    "start_time": "2021-06-21T08:01:13.198Z"
   },
   {
    "duration": 381,
    "start_time": "2021-06-21T08:01:13.237Z"
   },
   {
    "duration": 7,
    "start_time": "2021-06-21T08:01:13.621Z"
   },
   {
    "duration": 31,
    "start_time": "2021-06-21T08:01:13.630Z"
   },
   {
    "duration": 26,
    "start_time": "2021-06-21T08:01:13.663Z"
   },
   {
    "duration": 48,
    "start_time": "2021-06-21T08:01:13.691Z"
   },
   {
    "duration": 20,
    "start_time": "2021-06-21T08:01:13.741Z"
   },
   {
    "duration": 26,
    "start_time": "2021-06-21T08:01:13.763Z"
   },
   {
    "duration": 33,
    "start_time": "2021-06-21T08:01:13.792Z"
   },
   {
    "duration": 357,
    "start_time": "2021-06-21T08:01:13.827Z"
   },
   {
    "duration": 602,
    "start_time": "2021-06-21T08:01:14.187Z"
   },
   {
    "duration": 672,
    "start_time": "2021-06-21T08:01:14.792Z"
   },
   {
    "duration": 8,
    "start_time": "2021-06-21T08:01:15.467Z"
   },
   {
    "duration": 502,
    "start_time": "2021-06-21T08:01:15.477Z"
   },
   {
    "duration": 1382,
    "start_time": "2021-06-21T08:01:15.981Z"
   },
   {
    "duration": 18,
    "start_time": "2021-06-21T08:01:17.365Z"
   },
   {
    "duration": 119,
    "start_time": "2021-06-21T08:01:17.386Z"
   },
   {
    "duration": 13,
    "start_time": "2021-06-21T08:01:17.508Z"
   },
   {
    "duration": 17,
    "start_time": "2021-06-21T08:01:17.523Z"
   },
   {
    "duration": 33,
    "start_time": "2021-06-21T08:01:17.542Z"
   },
   {
    "duration": 16,
    "start_time": "2021-06-21T08:01:17.577Z"
   },
   {
    "duration": 897,
    "start_time": "2021-06-21T08:01:17.596Z"
   },
   {
    "duration": 858,
    "start_time": "2021-06-21T08:01:18.496Z"
   },
   {
    "duration": 25,
    "start_time": "2021-06-21T08:01:19.356Z"
   },
   {
    "duration": 37,
    "start_time": "2021-06-21T08:01:19.383Z"
   },
   {
    "duration": 41,
    "start_time": "2021-06-21T08:01:19.422Z"
   },
   {
    "duration": 17,
    "start_time": "2021-06-21T08:01:19.466Z"
   },
   {
    "duration": 35,
    "start_time": "2021-06-21T08:01:19.485Z"
   },
   {
    "duration": 58,
    "start_time": "2021-06-21T08:01:19.522Z"
   },
   {
    "duration": 51,
    "start_time": "2021-06-21T08:01:19.583Z"
   },
   {
    "duration": 19,
    "start_time": "2021-06-21T08:01:19.636Z"
   },
   {
    "duration": 31,
    "start_time": "2021-06-21T08:01:19.658Z"
   },
   {
    "duration": 21,
    "start_time": "2021-06-21T08:01:19.691Z"
   },
   {
    "duration": 41,
    "start_time": "2021-06-21T08:01:19.714Z"
   },
   {
    "duration": 35,
    "start_time": "2021-06-21T08:01:19.757Z"
   },
   {
    "duration": 35,
    "start_time": "2021-06-21T08:01:19.794Z"
   },
   {
    "duration": 41,
    "start_time": "2021-06-21T08:01:19.831Z"
   },
   {
    "duration": 45,
    "start_time": "2021-06-21T08:01:19.875Z"
   },
   {
    "duration": 62,
    "start_time": "2021-06-21T08:01:19.922Z"
   },
   {
    "duration": 9,
    "start_time": "2021-06-21T08:01:19.987Z"
   },
   {
    "duration": 35,
    "start_time": "2021-06-21T08:01:19.999Z"
   },
   {
    "duration": 29,
    "start_time": "2021-06-21T08:01:20.036Z"
   },
   {
    "duration": 1293,
    "start_time": "2021-06-21T08:01:20.068Z"
   },
   {
    "duration": 5,
    "start_time": "2021-06-21T08:01:21.364Z"
   },
   {
    "duration": 36,
    "start_time": "2021-06-21T08:01:21.372Z"
   },
   {
    "duration": 19,
    "start_time": "2021-06-21T08:01:21.415Z"
   },
   {
    "duration": 857,
    "start_time": "2021-06-21T08:01:21.437Z"
   },
   {
    "duration": 2010,
    "start_time": "2021-06-21T08:02:28.010Z"
   },
   {
    "duration": 59,
    "start_time": "2021-06-21T08:02:30.022Z"
   },
   {
    "duration": 19,
    "start_time": "2021-06-21T08:02:30.088Z"
   },
   {
    "duration": 49,
    "start_time": "2021-06-21T08:02:30.109Z"
   },
   {
    "duration": 59,
    "start_time": "2021-06-21T08:02:30.161Z"
   },
   {
    "duration": 35,
    "start_time": "2021-06-21T08:02:30.222Z"
   },
   {
    "duration": 44,
    "start_time": "2021-06-21T08:02:30.261Z"
   },
   {
    "duration": 15,
    "start_time": "2021-06-21T08:02:30.309Z"
   },
   {
    "duration": 39,
    "start_time": "2021-06-21T08:02:30.326Z"
   },
   {
    "duration": 62,
    "start_time": "2021-06-21T08:02:30.367Z"
   },
   {
    "duration": 25,
    "start_time": "2021-06-21T08:02:30.431Z"
   },
   {
    "duration": 36,
    "start_time": "2021-06-21T08:02:30.458Z"
   },
   {
    "duration": 31,
    "start_time": "2021-06-21T08:02:30.496Z"
   },
   {
    "duration": 39,
    "start_time": "2021-06-21T08:02:30.529Z"
   },
   {
    "duration": 73,
    "start_time": "2021-06-21T08:02:30.570Z"
   },
   {
    "duration": 55,
    "start_time": "2021-06-21T08:02:30.645Z"
   },
   {
    "duration": 67,
    "start_time": "2021-06-21T08:02:30.703Z"
   },
   {
    "duration": 37,
    "start_time": "2021-06-21T08:02:30.773Z"
   },
   {
    "duration": 652,
    "start_time": "2021-06-21T08:02:30.812Z"
   },
   {
    "duration": 525,
    "start_time": "2021-06-21T08:02:31.466Z"
   },
   {
    "duration": 11,
    "start_time": "2021-06-21T08:02:31.994Z"
   },
   {
    "duration": 34,
    "start_time": "2021-06-21T08:02:32.011Z"
   },
   {
    "duration": 42,
    "start_time": "2021-06-21T08:02:32.049Z"
   },
   {
    "duration": 399,
    "start_time": "2021-06-21T08:02:32.093Z"
   },
   {
    "duration": 7,
    "start_time": "2021-06-21T08:02:32.495Z"
   },
   {
    "duration": 42,
    "start_time": "2021-06-21T08:02:32.505Z"
   },
   {
    "duration": 31,
    "start_time": "2021-06-21T08:02:32.549Z"
   },
   {
    "duration": 44,
    "start_time": "2021-06-21T08:02:32.582Z"
   },
   {
    "duration": 4,
    "start_time": "2021-06-21T08:02:32.629Z"
   },
   {
    "duration": 41,
    "start_time": "2021-06-21T08:02:32.636Z"
   },
   {
    "duration": 28,
    "start_time": "2021-06-21T08:02:32.680Z"
   },
   {
    "duration": 354,
    "start_time": "2021-06-21T08:02:32.710Z"
   },
   {
    "duration": 593,
    "start_time": "2021-06-21T08:02:33.066Z"
   },
   {
    "duration": 708,
    "start_time": "2021-06-21T08:02:33.662Z"
   },
   {
    "duration": 7,
    "start_time": "2021-06-21T08:02:34.373Z"
   },
   {
    "duration": 562,
    "start_time": "2021-06-21T08:02:34.383Z"
   },
   {
    "duration": 1421,
    "start_time": "2021-06-21T08:02:34.947Z"
   },
   {
    "duration": 19,
    "start_time": "2021-06-21T08:02:36.370Z"
   },
   {
    "duration": 118,
    "start_time": "2021-06-21T08:02:36.392Z"
   },
   {
    "duration": 14,
    "start_time": "2021-06-21T08:02:36.513Z"
   },
   {
    "duration": 39,
    "start_time": "2021-06-21T08:02:36.530Z"
   },
   {
    "duration": 39,
    "start_time": "2021-06-21T08:02:36.572Z"
   },
   {
    "duration": 33,
    "start_time": "2021-06-21T08:02:36.613Z"
   },
   {
    "duration": 877,
    "start_time": "2021-06-21T08:02:36.649Z"
   },
   {
    "duration": 690,
    "start_time": "2021-06-21T08:02:37.529Z"
   },
   {
    "duration": 26,
    "start_time": "2021-06-21T08:02:38.222Z"
   },
   {
    "duration": 20,
    "start_time": "2021-06-21T08:02:38.251Z"
   },
   {
    "duration": 33,
    "start_time": "2021-06-21T08:02:38.273Z"
   },
   {
    "duration": 28,
    "start_time": "2021-06-21T08:02:38.309Z"
   },
   {
    "duration": 44,
    "start_time": "2021-06-21T08:02:38.339Z"
   },
   {
    "duration": 25,
    "start_time": "2021-06-21T08:02:38.386Z"
   },
   {
    "duration": 56,
    "start_time": "2021-06-21T08:02:38.413Z"
   },
   {
    "duration": 45,
    "start_time": "2021-06-21T08:02:38.471Z"
   },
   {
    "duration": 41,
    "start_time": "2021-06-21T08:02:38.519Z"
   },
   {
    "duration": 32,
    "start_time": "2021-06-21T08:02:38.562Z"
   },
   {
    "duration": 34,
    "start_time": "2021-06-21T08:02:38.597Z"
   },
   {
    "duration": 23,
    "start_time": "2021-06-21T08:02:38.634Z"
   },
   {
    "duration": 41,
    "start_time": "2021-06-21T08:02:38.660Z"
   },
   {
    "duration": 52,
    "start_time": "2021-06-21T08:02:38.705Z"
   },
   {
    "duration": 33,
    "start_time": "2021-06-21T08:02:38.760Z"
   },
   {
    "duration": 63,
    "start_time": "2021-06-21T08:02:38.796Z"
   },
   {
    "duration": 24,
    "start_time": "2021-06-21T08:02:38.862Z"
   },
   {
    "duration": 20,
    "start_time": "2021-06-21T08:02:38.888Z"
   },
   {
    "duration": 27,
    "start_time": "2021-06-21T08:02:38.911Z"
   },
   {
    "duration": 968,
    "start_time": "2021-06-21T08:02:38.941Z"
   },
   {
    "duration": 5,
    "start_time": "2021-06-21T08:02:39.911Z"
   },
   {
    "duration": 44,
    "start_time": "2021-06-21T08:02:39.923Z"
   },
   {
    "duration": 46,
    "start_time": "2021-06-21T08:02:39.969Z"
   },
   {
    "duration": 883,
    "start_time": "2021-06-21T08:02:40.017Z"
   },
   {
    "duration": 2315,
    "start_time": "2021-06-21T17:56:59.997Z"
   },
   {
    "duration": 58,
    "start_time": "2021-06-21T17:57:02.315Z"
   },
   {
    "duration": 17,
    "start_time": "2021-06-21T17:57:02.376Z"
   },
   {
    "duration": 43,
    "start_time": "2021-06-21T17:57:02.395Z"
   },
   {
    "duration": 48,
    "start_time": "2021-06-21T17:57:02.440Z"
   },
   {
    "duration": 7,
    "start_time": "2021-06-21T17:57:02.490Z"
   },
   {
    "duration": 40,
    "start_time": "2021-06-21T17:57:02.499Z"
   },
   {
    "duration": 12,
    "start_time": "2021-06-21T17:57:02.543Z"
   },
   {
    "duration": 10,
    "start_time": "2021-06-21T17:57:02.558Z"
   },
   {
    "duration": 41,
    "start_time": "2021-06-21T17:57:02.570Z"
   },
   {
    "duration": 8,
    "start_time": "2021-06-21T17:57:02.614Z"
   },
   {
    "duration": 11,
    "start_time": "2021-06-21T17:57:02.624Z"
   },
   {
    "duration": 11,
    "start_time": "2021-06-21T17:57:02.637Z"
   },
   {
    "duration": 12,
    "start_time": "2021-06-21T17:57:02.651Z"
   },
   {
    "duration": 74,
    "start_time": "2021-06-21T17:57:02.665Z"
   },
   {
    "duration": 9,
    "start_time": "2021-06-21T17:57:02.742Z"
   },
   {
    "duration": 20,
    "start_time": "2021-06-21T17:57:02.754Z"
   },
   {
    "duration": 12,
    "start_time": "2021-06-21T17:57:02.776Z"
   },
   {
    "duration": 654,
    "start_time": "2021-06-21T17:57:02.809Z"
   },
   {
    "duration": 548,
    "start_time": "2021-06-21T17:57:03.465Z"
   },
   {
    "duration": 11,
    "start_time": "2021-06-21T17:57:04.015Z"
   },
   {
    "duration": 20,
    "start_time": "2021-06-21T17:57:04.029Z"
   },
   {
    "duration": 10,
    "start_time": "2021-06-21T17:57:04.055Z"
   },
   {
    "duration": 408,
    "start_time": "2021-06-21T17:57:04.068Z"
   },
   {
    "duration": 8,
    "start_time": "2021-06-21T17:57:04.478Z"
   },
   {
    "duration": 24,
    "start_time": "2021-06-21T17:57:04.488Z"
   },
   {
    "duration": 24,
    "start_time": "2021-06-21T17:57:04.515Z"
   },
   {
    "duration": 25,
    "start_time": "2021-06-21T17:57:04.542Z"
   },
   {
    "duration": 4,
    "start_time": "2021-06-21T17:57:04.569Z"
   },
   {
    "duration": 33,
    "start_time": "2021-06-21T17:57:04.576Z"
   },
   {
    "duration": 23,
    "start_time": "2021-06-21T17:57:04.611Z"
   },
   {
    "duration": 347,
    "start_time": "2021-06-21T17:57:04.637Z"
   },
   {
    "duration": 598,
    "start_time": "2021-06-21T17:57:04.987Z"
   },
   {
    "duration": 740,
    "start_time": "2021-06-21T17:57:05.588Z"
   },
   {
    "duration": 7,
    "start_time": "2021-06-21T17:57:06.331Z"
   },
   {
    "duration": 527,
    "start_time": "2021-06-21T17:57:06.341Z"
   },
   {
    "duration": 1483,
    "start_time": "2021-06-21T17:57:06.871Z"
   },
   {
    "duration": 19,
    "start_time": "2021-06-21T17:57:08.358Z"
   },
   {
    "duration": 131,
    "start_time": "2021-06-21T17:57:08.379Z"
   },
   {
    "duration": 14,
    "start_time": "2021-06-21T17:57:08.513Z"
   },
   {
    "duration": 14,
    "start_time": "2021-06-21T17:57:08.530Z"
   },
   {
    "duration": 15,
    "start_time": "2021-06-21T17:57:08.546Z"
   },
   {
    "duration": 10,
    "start_time": "2021-06-21T17:57:08.563Z"
   },
   {
    "duration": 925,
    "start_time": "2021-06-21T17:57:08.609Z"
   },
   {
    "duration": 1204,
    "start_time": "2021-06-21T17:57:09.537Z"
   },
   {
    "duration": 28,
    "start_time": "2021-06-21T17:57:10.743Z"
   },
   {
    "duration": 8,
    "start_time": "2021-06-21T17:57:10.774Z"
   },
   {
    "duration": 39,
    "start_time": "2021-06-21T17:57:10.785Z"
   },
   {
    "duration": 6,
    "start_time": "2021-06-21T17:57:10.828Z"
   },
   {
    "duration": 14,
    "start_time": "2021-06-21T17:57:10.837Z"
   },
   {
    "duration": 15,
    "start_time": "2021-06-21T17:57:10.854Z"
   },
   {
    "duration": 48,
    "start_time": "2021-06-21T17:57:10.871Z"
   },
   {
    "duration": 16,
    "start_time": "2021-06-21T17:57:10.921Z"
   },
   {
    "duration": 35,
    "start_time": "2021-06-21T17:57:10.939Z"
   },
   {
    "duration": 38,
    "start_time": "2021-06-21T17:57:10.976Z"
   },
   {
    "duration": 22,
    "start_time": "2021-06-21T17:57:11.017Z"
   },
   {
    "duration": 26,
    "start_time": "2021-06-21T17:57:11.042Z"
   },
   {
    "duration": 17,
    "start_time": "2021-06-21T17:57:11.071Z"
   },
   {
    "duration": 38,
    "start_time": "2021-06-21T17:57:11.090Z"
   },
   {
    "duration": 11,
    "start_time": "2021-06-21T17:57:11.131Z"
   },
   {
    "duration": 23,
    "start_time": "2021-06-21T17:57:11.144Z"
   },
   {
    "duration": 9,
    "start_time": "2021-06-21T17:57:11.221Z"
   },
   {
    "duration": 15,
    "start_time": "2021-06-21T17:57:11.232Z"
   },
   {
    "duration": 13,
    "start_time": "2021-06-21T17:57:11.249Z"
   },
   {
    "duration": 969,
    "start_time": "2021-06-21T17:57:11.265Z"
   },
   {
    "duration": 6,
    "start_time": "2021-06-21T17:57:12.236Z"
   },
   {
    "duration": 14,
    "start_time": "2021-06-21T17:57:12.244Z"
   },
   {
    "duration": 15,
    "start_time": "2021-06-21T17:57:12.266Z"
   },
   {
    "duration": 890,
    "start_time": "2021-06-21T17:57:12.311Z"
   },
   {
    "duration": 104,
    "start_time": "2021-06-21T17:57:42.697Z"
   },
   {
    "duration": 495,
    "start_time": "2021-06-23T12:53:50.299Z"
   },
   {
    "duration": 363,
    "start_time": "2021-06-24T10:56:48.400Z"
   },
   {
    "duration": 2529,
    "start_time": "2021-08-28T17:40:48.046Z"
   },
   {
    "duration": 60,
    "start_time": "2021-08-28T17:40:50.578Z"
   },
   {
    "duration": 20,
    "start_time": "2021-08-28T17:40:50.647Z"
   },
   {
    "duration": 16,
    "start_time": "2021-08-28T17:40:50.670Z"
   },
   {
    "duration": 53,
    "start_time": "2021-08-28T17:40:50.688Z"
   },
   {
    "duration": 7,
    "start_time": "2021-08-28T17:40:50.743Z"
   },
   {
    "duration": 25,
    "start_time": "2021-08-28T17:40:50.752Z"
   },
   {
    "duration": 37,
    "start_time": "2021-08-28T17:40:50.781Z"
   },
   {
    "duration": 19,
    "start_time": "2021-08-28T17:40:50.822Z"
   },
   {
    "duration": 37,
    "start_time": "2021-08-28T17:40:50.844Z"
   },
   {
    "duration": 11,
    "start_time": "2021-08-28T17:40:50.884Z"
   },
   {
    "duration": 10,
    "start_time": "2021-08-28T17:40:50.918Z"
   },
   {
    "duration": 9,
    "start_time": "2021-08-28T17:40:50.933Z"
   },
   {
    "duration": 8,
    "start_time": "2021-08-28T17:40:50.945Z"
   },
   {
    "duration": 102,
    "start_time": "2021-08-28T17:40:50.955Z"
   },
   {
    "duration": 9,
    "start_time": "2021-08-28T17:40:51.060Z"
   },
   {
    "duration": 17,
    "start_time": "2021-08-28T17:40:51.071Z"
   },
   {
    "duration": 35,
    "start_time": "2021-08-28T17:40:51.090Z"
   },
   {
    "duration": 729,
    "start_time": "2021-08-28T17:40:51.129Z"
   },
   {
    "duration": 592,
    "start_time": "2021-08-28T17:40:51.861Z"
   },
   {
    "duration": 12,
    "start_time": "2021-08-28T17:40:52.455Z"
   },
   {
    "duration": 14,
    "start_time": "2021-08-28T17:40:52.469Z"
   },
   {
    "duration": 11,
    "start_time": "2021-08-28T17:40:52.521Z"
   },
   {
    "duration": 422,
    "start_time": "2021-08-28T17:40:52.536Z"
   },
   {
    "duration": 9,
    "start_time": "2021-08-28T17:40:52.961Z"
   },
   {
    "duration": 42,
    "start_time": "2021-08-28T17:40:52.974Z"
   },
   {
    "duration": 17,
    "start_time": "2021-08-28T17:40:53.020Z"
   },
   {
    "duration": 24,
    "start_time": "2021-08-28T17:40:53.040Z"
   },
   {
    "duration": 3,
    "start_time": "2021-08-28T17:40:53.067Z"
   },
   {
    "duration": 44,
    "start_time": "2021-08-28T17:40:53.073Z"
   },
   {
    "duration": 13,
    "start_time": "2021-08-28T17:40:53.120Z"
   },
   {
    "duration": 406,
    "start_time": "2021-08-28T17:40:53.136Z"
   },
   {
    "duration": 630,
    "start_time": "2021-08-28T17:40:53.544Z"
   },
   {
    "duration": 763,
    "start_time": "2021-08-28T17:40:54.177Z"
   },
   {
    "duration": 7,
    "start_time": "2021-08-28T17:40:54.943Z"
   },
   {
    "duration": 565,
    "start_time": "2021-08-28T17:40:54.954Z"
   },
   {
    "duration": 1493,
    "start_time": "2021-08-28T17:40:55.523Z"
   },
   {
    "duration": 27,
    "start_time": "2021-08-28T17:40:57.018Z"
   },
   {
    "duration": 140,
    "start_time": "2021-08-28T17:40:57.049Z"
   },
   {
    "duration": 27,
    "start_time": "2021-08-28T17:40:57.191Z"
   },
   {
    "duration": 14,
    "start_time": "2021-08-28T17:40:57.221Z"
   },
   {
    "duration": 19,
    "start_time": "2021-08-28T17:40:57.237Z"
   },
   {
    "duration": 11,
    "start_time": "2021-08-28T17:40:57.260Z"
   },
   {
    "duration": 996,
    "start_time": "2021-08-28T17:40:57.274Z"
   },
   {
    "duration": 1121,
    "start_time": "2021-08-28T17:40:58.273Z"
   },
   {
    "duration": 27,
    "start_time": "2021-08-28T17:40:59.397Z"
   },
   {
    "duration": 11,
    "start_time": "2021-08-28T17:40:59.428Z"
   },
   {
    "duration": 24,
    "start_time": "2021-08-28T17:40:59.441Z"
   },
   {
    "duration": 9,
    "start_time": "2021-08-28T17:40:59.467Z"
   },
   {
    "duration": 48,
    "start_time": "2021-08-28T17:40:59.479Z"
   },
   {
    "duration": 7,
    "start_time": "2021-08-28T17:40:59.529Z"
   },
   {
    "duration": 42,
    "start_time": "2021-08-28T17:40:59.540Z"
   },
   {
    "duration": 53,
    "start_time": "2021-08-28T17:40:59.585Z"
   },
   {
    "duration": 38,
    "start_time": "2021-08-28T17:40:59.641Z"
   },
   {
    "duration": 58,
    "start_time": "2021-08-28T17:40:59.682Z"
   },
   {
    "duration": 24,
    "start_time": "2021-08-28T17:40:59.743Z"
   },
   {
    "duration": 49,
    "start_time": "2021-08-28T17:40:59.770Z"
   },
   {
    "duration": 15,
    "start_time": "2021-08-28T17:40:59.824Z"
   },
   {
    "duration": 21,
    "start_time": "2021-08-28T17:40:59.842Z"
   },
   {
    "duration": 52,
    "start_time": "2021-08-28T17:40:59.866Z"
   },
   {
    "duration": 42,
    "start_time": "2021-08-28T17:40:59.921Z"
   },
   {
    "duration": 11,
    "start_time": "2021-08-28T17:40:59.966Z"
   },
   {
    "duration": 58,
    "start_time": "2021-08-28T17:40:59.980Z"
   },
   {
    "duration": 25,
    "start_time": "2021-08-28T17:41:00.041Z"
   },
   {
    "duration": 1040,
    "start_time": "2021-08-28T17:41:00.069Z"
   },
   {
    "duration": 8,
    "start_time": "2021-08-28T17:41:01.111Z"
   },
   {
    "duration": 37,
    "start_time": "2021-08-28T17:41:01.122Z"
   },
   {
    "duration": 12,
    "start_time": "2021-08-28T17:41:01.166Z"
   },
   {
    "duration": 968,
    "start_time": "2021-08-28T17:41:01.181Z"
   }
  ],
  "kernelspec": {
   "display_name": "Python 3",
   "language": "python",
   "name": "python3"
  },
  "language_info": {
   "codemirror_mode": {
    "name": "ipython",
    "version": 3
   },
   "file_extension": ".py",
   "mimetype": "text/x-python",
   "name": "python",
   "nbconvert_exporter": "python",
   "pygments_lexer": "ipython3",
   "version": "3.7.8"
  },
  "toc": {
   "base_numbering": 1,
   "nav_menu": {},
   "number_sections": true,
   "sideBar": true,
   "skip_h1_title": true,
   "title_cell": "Оглавление",
   "title_sidebar": "Contents",
   "toc_cell": true,
   "toc_position": {
    "height": "783.2px",
    "left": "819px",
    "top": "186.467px",
    "width": "392.1px"
   },
   "toc_section_display": true,
   "toc_window_display": true
  }
 },
 "nbformat": 4,
 "nbformat_minor": 2
}
